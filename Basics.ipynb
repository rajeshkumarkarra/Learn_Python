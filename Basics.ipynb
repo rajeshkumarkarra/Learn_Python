{
 "cells": [
  {
   "cell_type": "markdown",
   "metadata": {},
   "source": [
    "# Basics"
   ]
  },
  {
   "cell_type": "markdown",
   "metadata": {},
   "source": [
    "# https://www.geeksforgeeks.org/python-programming-language/"
   ]
  },
  {
   "cell_type": "markdown",
   "metadata": {},
   "source": [
    "# Keywords in Python | Set 1"
   ]
  },
  {
   "cell_type": "markdown",
   "metadata": {},
   "source": [
    "Keywords in Python | Set 1\n",
    "Python Keywords – IntroductionKeywords in Python | Set 1\n",
    "Python Keywords – Introduction\n",
    "\n",
    "This article aims at providing a detailed insight to these keywords.\n",
    "\n",
    "1. True : This keyword is used to represent a boolean true. If a statement is truth, “True” is printed.\n",
    "\n",
    "2. False : This keyword is used to represent a boolean false. If a statement is False, “False” is printed.\n",
    "True and False in python are same as 1 and 0.Example:"
   ]
  },
  {
   "cell_type": "code",
   "execution_count": 3,
   "metadata": {},
   "outputs": [
    {
     "name": "stdout",
     "output_type": "stream",
     "text": [
      "True\n",
      "True\n",
      "3\n",
      "0\n"
     ]
    }
   ],
   "source": [
    "print(False == 0)\n",
    "print(True == 1)\n",
    "\n",
    "print(True+True+True)\n",
    "print(False+False+False)"
   ]
  },
  {
   "cell_type": "markdown",
   "metadata": {},
   "source": [
    "3. None : This is a special constant used to denote a null value or a void. Its important to remember, 0, any empty container(e.g empty list) do not compute to None.\n",
    "It is an object of its own datatype – NoneType. It is not possible to create multiple None objects and can assign it to variables.\n",
    "\n",
    "\n",
    "\n",
    "4. and : This a logical operator in python. “and” returns true if both the operands are true. Else returns false.The truth table for “and” is depicted below.\n",
    "\n",
    "and\n",
    "5. or : This a logical operator in python. “or” returns true if any one of the operand is true. Else returns false.The truth table for “or” is depicted below.\n",
    "\n",
    "6. not : This logical operator inverts the truth value.The truth table for “not” is depicted below."
   ]
  },
  {
   "cell_type": "code",
   "execution_count": 4,
   "metadata": {},
   "outputs": [
    {
     "name": "stdout",
     "output_type": "stream",
     "text": [
      "False\n",
      "True\n",
      "True\n",
      "False\n",
      "False\n"
     ]
    }
   ],
   "source": [
    "# Python code to demonstrate \n",
    "# True, False, None, and, or , not \n",
    "\n",
    "# showing that None is not equal to 0 \n",
    "# prints False as its false. \n",
    "print (None == 0) \n",
    "\n",
    "# showing objective of None \n",
    "# two None value equated to None \n",
    "# here x and y both are null \n",
    "# hence true \n",
    "x = None\n",
    "y = None\n",
    "print (x == y) \n",
    "\n",
    "# showing logical operation \n",
    "# or (returns True) \n",
    "print (True or False) \n",
    "\n",
    "# showing logical operation \n",
    "# and (returns False) \n",
    "print (False and True) \n",
    "\n",
    "# showing logical operation \n",
    "# not (returns False) \n",
    "print (not True) \n"
   ]
  },
  {
   "cell_type": "code",
   "execution_count": 5,
   "metadata": {},
   "outputs": [
    {
     "name": "stdout",
     "output_type": "stream",
     "text": [
      "True\n",
      "False\n",
      "True\n"
     ]
    }
   ],
   "source": [
    "print(True and True)\n",
    "print(False or False)\n",
    "print(True)"
   ]
  },
  {
   "cell_type": "markdown",
   "metadata": {},
   "source": [
    "7. assert : This function is used for debugging purposes. Usually used to check the correctness of code. If a statement evaluated to true, nothing happens, but when it is false, “AssertionError” is raised . One can also print a message with the error, separated by a comma.\n",
    "\n",
    "8. break : “break” is used to control the flow of loop. The statement is used to break out of loop and passes the control to the statement following immediately after loop.\n",
    "\n",
    "9. continue : “continue” is also used to control the flow of code. The keyword skips the current iteration of the loop, but does not end the loop.\n",
    "\n",
    "\n",
    "\n",
    "Illustrations of break and continue keywords can be seen in the article below.\n",
    "\n",
    "Loops and Control Statements (continue, break and pass) in Python\n",
    "10. class : This keyword is used to declare user defined classes.For more info. click here.\n",
    "\n",
    "11. def : This keyword is used to declare user defined functions.For more info. click here.\n",
    "\n",
    "12. if : It is a control statement for decision making. Truth expression forces control to go in “if” statement block.\n",
    "\n",
    "13. else : It is a control statement for decision making. False expression forces control to go in “else” statement block.\n",
    "\n",
    "14. elif : It is a control statement for decision making. It is short for “else if”\n",
    "\n",
    "if, else and elif conditional statements are explained in detail here article.\n",
    "\n",
    "15. del : del is used to delete a reference to an object. Any variable or list value can be deleted using del."
   ]
  },
  {
   "cell_type": "code",
   "execution_count": 6,
   "metadata": {},
   "outputs": [
    {
     "name": "stdout",
     "output_type": "stream",
     "text": [
      "The list before deleting any value\n",
      "[1, 2, 3]\n",
      "The list after deleting 2nd element\n",
      "[1, 3]\n"
     ]
    },
    {
     "ename": "AssertionError",
     "evalue": "5 is not smaller than 3",
     "output_type": "error",
     "traceback": [
      "\u001b[0;31m----------------------------------------------------------------------\u001b[0m",
      "\u001b[0;31mAssertionError\u001b[0m                       Traceback (most recent call last)",
      "\u001b[0;32m<ipython-input-6-24fdcbcabfac>\u001b[0m in \u001b[0;36m<module>\u001b[0;34m()\u001b[0m\n\u001b[1;32m     18\u001b[0m \u001b[0;31m# demonstrating use of assert\u001b[0m\u001b[0;34m\u001b[0m\u001b[0;34m\u001b[0m\u001b[0;34m\u001b[0m\u001b[0m\n\u001b[1;32m     19\u001b[0m \u001b[0;31m# prints AssertionError\u001b[0m\u001b[0;34m\u001b[0m\u001b[0;34m\u001b[0m\u001b[0;34m\u001b[0m\u001b[0m\n\u001b[0;32m---> 20\u001b[0;31m \u001b[0;32massert\u001b[0m \u001b[0;36m5\u001b[0m \u001b[0;34m<\u001b[0m \u001b[0;36m3\u001b[0m\u001b[0;34m,\u001b[0m \u001b[0;34m\"5 is not smaller than 3\"\u001b[0m\u001b[0;34m\u001b[0m\u001b[0;34m\u001b[0m\u001b[0m\n\u001b[0m",
      "\u001b[0;31mAssertionError\u001b[0m: 5 is not smaller than 3"
     ]
    }
   ],
   "source": [
    "# Python code to demonstrate \n",
    "# del and assert \n",
    "\n",
    "# initialising list \n",
    "a = [1, 2, 3] \n",
    "\n",
    "# printing list before deleting any value \n",
    "print (\"The list before deleting any value\") \n",
    "print (a) \n",
    "\n",
    "# using del to delete 2nd element of list \n",
    "del a[1] \n",
    "\n",
    "# printing list after deleting 2nd element \n",
    "print (\"The list after deleting 2nd element\") \n",
    "print (a) \n",
    "\n",
    "# demonstrating use of assert \n",
    "# prints AssertionError \n",
    "assert 5 < 3, \"5 is not smaller than 3\"\n"
   ]
  },
  {
   "cell_type": "code",
   "execution_count": 12,
   "metadata": {},
   "outputs": [
    {
     "name": "stdout",
     "output_type": "stream",
     "text": [
      "['rajesh', 'peter', 'john']\n",
      "after deletion\n",
      "['rajesh', 'peter']\n"
     ]
    }
   ],
   "source": [
    "# Another Example\n",
    "a=[\"rajesh\", \"peter\", \"john\"]\n",
    "print(a)\n",
    "\n",
    "del a[-1]\n",
    "\n",
    "print(\"after deletion\")\n",
    "print(a)\n",
    "\n",
    "b=[1,2,3]\n"
   ]
  },
  {
   "cell_type": "markdown",
   "metadata": {},
   "source": [
    "# Keywords in Python | Set 2"
   ]
  },
  {
   "cell_type": "markdown",
   "metadata": {},
   "source": [
    "Python Keywords – Introduction\n",
    "Keywords in Python | Set 1\n",
    "\n",
    "More keywords:\n",
    "\n",
    "16. try : This keyword is used for exception handling, used to catch the errors in the code using the keyword except. Code in “try” block is checked, if there is any type of error, except block is executed.\n",
    "\n",
    "17. except : As explained above, this works together with “try” to catch exceptions.\n",
    "\n",
    "18. raise : Also used for exception handling to explicitly raise exceptions.\n",
    "\n",
    "19. finally : No matter what is result of the “try” block, block termed “finally” is always executed. Detailed article –Exception Handling in Python\n",
    "\n",
    "\n",
    "\n",
    "20. for : This keyword is used to control flow and for looping.\n",
    "\n",
    "21. while : Has a similar working like “for” , used to control flow and for looping.\n",
    "\n",
    "22. pass : It is the null statement in python. Nothing happens when this is encountered. This is used to prevent indentation errors and used as a placeholder\n",
    "\n",
    "Detailed Article – for, while, pass\n",
    "\n",
    "23. import : This statement is used to include a particular module into current program.\n",
    "\n",
    "24. from : Generally used with import, from is used to import particular functionality from the module imported.\n",
    "\n",
    "25. as : This keyword is used to create the alias for the module imported. i.e giving a new name to the imported module.. E.g import math as mymath.\n",
    "\n",
    "Detailed Article – import, from and as\n",
    "\n",
    "26. lambda : This keyword is used to make inline returning functions with no statements allowed internally. Detailed Article – map, filter, lambda\n",
    "\n",
    "27. return : This keyword is used to return from the function. Detailed article –  Return values in Python.\n",
    "\n",
    "\n",
    "\n",
    "28. yield : This keyword is used like return statement but is used to return a generator. Detailed Article – yield keyword\n",
    "\n",
    "29. with : This keyword is used to wrap the execution of block of code within methods defined by context manager.This keyword is not used much in day to day programming.\n",
    "\n",
    "30. in : This keyword is used to check if a container contains a value. This keyword is also used to loop through the container.\n",
    "\n",
    "31. is : This keyword is used to test object identity, i.e to check if both the objects take same memory location or not."
   ]
  },
  {
   "cell_type": "code",
   "execution_count": 13,
   "metadata": {},
   "outputs": [
    {
     "name": "stdout",
     "output_type": "stream",
     "text": [
      "s is part of geeksforgeeks\n",
      "g e e k s f o r g e e k s \n",
      "True\n",
      "False\n"
     ]
    }
   ],
   "source": [
    "# Python code to demonstrate working of \n",
    "# in and is \n",
    "  \n",
    "# using \"in\" to check  \n",
    "if 's' in 'geeksforgeeks': \n",
    "       print (\"s is part of geeksforgeeks\") \n",
    "else : print (\"s is not part of geeksforgeeks\") \n",
    "  \n",
    "# using \"in\" to loop through \n",
    "for i in 'geeksforgeeks': \n",
    "    print (i,end=\" \") \n",
    "  \n",
    "print (\"\\r\") \n",
    "      \n",
    "# using is to check object identity \n",
    "# string is immutable( cannot be changed once alloted) \n",
    "# hence occupy same memory location \n",
    "print (' ' is ' ') \n",
    "  \n",
    "# using is to check object identity \n",
    "# dictionary is mutable( can be changed once alloted) \n",
    "# hence occupy different memory location \n",
    "print ({} is {}) "
   ]
  },
  {
   "cell_type": "code",
   "execution_count": 16,
   "metadata": {},
   "outputs": [
    {
     "name": "stdout",
     "output_type": "stream",
     "text": [
      "s is part of rajeshkumarkarra\n",
      "r a j e s h k u m a r k a r r a "
     ]
    }
   ],
   "source": [
    "# Example:\n",
    "if 's' in \"rajeshkumarkarra\":\n",
    "    print(\"s is part of rajeshkumarkarra\")\n",
    "else:\n",
    "    print(\"s is not part of rajeshkumarkarra\")\n",
    "    \n",
    "for i in 'rajeshkumarkarra':\n",
    "    print(i, end=\" \")\n"
   ]
  },
  {
   "cell_type": "markdown",
   "metadata": {},
   "source": [
    "32. global : This keyword is used to define a variable inside the function to be of a global scope.\n",
    "\n",
    "33. non-local : This keyword works similar to the global, but rather than global, this keyword declares a variable to point to variable of outside enclosing function, in case of nested functions."
   ]
  },
  {
   "cell_type": "code",
   "execution_count": 17,
   "metadata": {},
   "outputs": [
    {
     "name": "stdout",
     "output_type": "stream",
     "text": [
      "10\n",
      "5\n",
      "5\n",
      "Value of a using nonlocal is : 10\n",
      "Value of a without using nonlocal is : 5\n"
     ]
    }
   ],
   "source": [
    "# Python code to demonstrate working of \n",
    "# global and non local \n",
    "\n",
    "#initializing variable globally \n",
    "a = 10\n",
    "\n",
    "# used to read the variable \n",
    "def read(): \n",
    "\tprint (a) \n",
    "\n",
    "# changing the value of globally defined variable \n",
    "def mod1(): \n",
    "\tglobal a \n",
    "\ta = 5\n",
    "\n",
    "# changing value of only local variable \n",
    "def mod2(): \n",
    "\ta = 15\n",
    "\n",
    "# reading initial value of a \n",
    "# prints 10 \n",
    "read() \n",
    "\n",
    "# calling mod 1 function to modify value \n",
    "# modifies value of global a to 5 \n",
    "mod1() \n",
    "\n",
    "# reading modified value \n",
    "# prints 5 \n",
    "read() \n",
    "\n",
    "# calling mod 2 function to modify value \n",
    "# modifies value of local a to 15, doesn't effect global value \n",
    "mod2() \n",
    "\n",
    "# reading modified value \n",
    "# again prints 5 \n",
    "read() \n",
    "\n",
    "# demonstrating non local \n",
    "# inner loop changing the value of outer a \n",
    "# prints 10 \n",
    "print (\"Value of a using nonlocal is : \",end=\"\") \n",
    "def outer(): \n",
    "\ta = 5\n",
    "\tdef inner(): \n",
    "\t\tnonlocal a \n",
    "\t\ta = 10\n",
    "\tinner() \n",
    "\tprint (a) \n",
    "\n",
    "outer() \n",
    "\n",
    "# demonstrating without non local \n",
    "# inner loop not changing the value of outer a \n",
    "# prints 5 \n",
    "print (\"Value of a without using nonlocal is : \",end=\"\") \n",
    "def outer(): \n",
    "\ta = 5\n",
    "\tdef inner(): \n",
    "\t\ta = 10\n",
    "\tinner() \n",
    "\tprint (a) \n",
    "\n",
    "outer() \n"
   ]
  },
  {
   "cell_type": "code",
   "execution_count": 24,
   "metadata": {},
   "outputs": [
    {
     "name": "stdout",
     "output_type": "stream",
     "text": [
      "20\n",
      "10\n",
      "10\n",
      "value of a using nonlocal is :10\n",
      "value of a using without nonlocal is:30\n"
     ]
    }
   ],
   "source": [
    "# Example...\n",
    "a= 20\n",
    "\n",
    "def read():\n",
    "    print(a)\n",
    "    \n",
    "def mod1():\n",
    "    global a\n",
    "    a=10\n",
    "    \n",
    "def mod2():\n",
    "    a=30\n",
    "    \n",
    "read()\n",
    "mod1()\n",
    "read()\n",
    "mod2()\n",
    "read()\n",
    "print(\"value of a using nonlocal is :\", end=\"\")\n",
    "def outer():\n",
    "    a=20\n",
    "    def inner():\n",
    "        nonlocal a\n",
    "        a=10\n",
    "    inner()\n",
    "    print(a)\n",
    "outer()\n",
    "print(\"value of a using without nonlocal is:\", end=\"\")\n",
    "def outer():\n",
    "    a=30\n",
    "    def inner():\n",
    "        a=25\n",
    "    \n",
    "    inner()\n",
    "    print(a)\n",
    "outer()\n"
   ]
  },
  {
   "cell_type": "markdown",
   "metadata": {},
   "source": [
    "# Namespaces and Scope in Python"
   ]
  },
  {
   "cell_type": "markdown",
   "metadata": {},
   "source": [
    "What is namespace:\n",
    "\n",
    "A namespace is a system to have a unique name for each and every object in Python. An object might be a variable or a method. Python itself maintains a namespace in the form of a Python dictionary. Let’s go through an example, a directory-file system structure in computers. Needless to say, that one can have multiple directories having a file with the same name inside of every directory. But one can get directed to the file, one wishes, just by specifying the absolute path to the file.\n",
    "Real-time example, the role of a namespace is like a surname. One might not find a single “Alice” in the class there might be multiple “Alice” but when you particularly ask for “Alice Lee” or “Alice Clark” (with a surname), there will be only one (time being don’t think of both first name and surname are same for multiple students).\n",
    "\n",
    "On the similar lines, Python interpreter understands what exact method or variable one is trying to point to in the code, depending upon the namespace. So, the division of the word itself gives little more information. Its Name (which means name, an unique identifier) + Space(which talks something related to scope). Here, a name might be of any Python method or variable and space depends upon the location from where is trying to access a variable or a method.\n",
    "\n",
    "\n",
    "\n",
    "Types of namespaces :\n",
    "\n",
    "When Python interpreter runs solely without and user-defined modules, methods, classes, etc. Some functions like print(), id() are always present, these are built in namespaces. When a user creates a module, a global namespace gets created, later creation of local functions creates the local namespace. The built-in namespace encompasses global namespace and global namespace encompasses local namespace.\n",
    "\n",
    "\n",
    " \n",
    "Lifetime of a namespace :\n",
    "\n",
    "A lifetime of a namespace depends upon the scope of objects, if the scope of an object ends, the lifetime of that namespace comes to an end. Hence, it is not possible to access inner namespace’s objects from an outer namespace.\n",
    "\n"
   ]
  },
  {
   "cell_type": "code",
   "execution_count": 1,
   "metadata": {},
   "outputs": [],
   "source": [
    "# var1 is in the global namespace \n",
    "var1 = 5\n",
    "def some_func(): \n",
    "\n",
    "\t# var2 is in the local namespace \n",
    "\tvar2 = 6\n",
    "\tdef some_inner_func(): \n",
    "\n",
    "\t\t# var3 is in the nested local \n",
    "\t\t# namespace \n",
    "\t\tvar3 = 7\n"
   ]
  },
  {
   "cell_type": "markdown",
   "metadata": {},
   "source": [
    "But in some cases, one might be interested in updating or processing global variable only, as shown in the following example, one should mark it explicitly as global and the update or process."
   ]
  },
  {
   "cell_type": "code",
   "execution_count": 2,
   "metadata": {},
   "outputs": [
    {
     "name": "stdout",
     "output_type": "stream",
     "text": [
      "6\n"
     ]
    }
   ],
   "source": [
    "# Python program processing \n",
    "# global variable \n",
    "\n",
    "count =5 \n",
    "def someMethod():\n",
    "    global count\n",
    "    count = count+1\n",
    "    print(count)\n",
    "someMethod()\n",
    "    \n"
   ]
  },
  {
   "cell_type": "markdown",
   "metadata": {},
   "source": [
    "Scope of Objects in Python :\n",
    "\n",
    "Scope refers to the coding region from which particular Python object is accessible. Hence one cannot access any particular object from anywhere from the code, the accessing has to be allowed by the scope of the object."
   ]
  },
  {
   "cell_type": "code",
   "execution_count": 3,
   "metadata": {},
   "outputs": [
    {
     "name": "stdout",
     "output_type": "stream",
     "text": [
      "You are welcome to some_func\n"
     ]
    },
    {
     "ename": "NameError",
     "evalue": "name 'var' is not defined",
     "output_type": "error",
     "traceback": [
      "\u001b[0;31m----------------------------------------------------------------------\u001b[0m",
      "\u001b[0;31mNameError\u001b[0m                            Traceback (most recent call last)",
      "\u001b[0;32m<ipython-input-3-d0ea1972ce90>\u001b[0m in \u001b[0;36m<module>\u001b[0;34m()\u001b[0m\n\u001b[1;32m      5\u001b[0m         \u001b[0mprint\u001b[0m\u001b[0;34m(\u001b[0m\u001b[0;34m\"You are welcome to some_func\"\u001b[0m\u001b[0;34m)\u001b[0m\u001b[0;34m\u001b[0m\u001b[0;34m\u001b[0m\u001b[0m\n\u001b[1;32m      6\u001b[0m         \u001b[0mprint\u001b[0m\u001b[0;34m(\u001b[0m\u001b[0mvar\u001b[0m\u001b[0;34m)\u001b[0m\u001b[0;34m\u001b[0m\u001b[0;34m\u001b[0m\u001b[0m\n\u001b[0;32m----> 7\u001b[0;31m \u001b[0msome_func\u001b[0m\u001b[0;34m(\u001b[0m\u001b[0;34m)\u001b[0m\u001b[0;34m\u001b[0m\u001b[0;34m\u001b[0m\u001b[0m\n\u001b[0m",
      "\u001b[0;32m<ipython-input-3-d0ea1972ce90>\u001b[0m in \u001b[0;36msome_func\u001b[0;34m()\u001b[0m\n\u001b[1;32m      4\u001b[0m \u001b[0;32mdef\u001b[0m \u001b[0msome_func\u001b[0m\u001b[0;34m(\u001b[0m\u001b[0;34m)\u001b[0m\u001b[0;34m:\u001b[0m\u001b[0;34m\u001b[0m\u001b[0;34m\u001b[0m\u001b[0m\n\u001b[1;32m      5\u001b[0m         \u001b[0mprint\u001b[0m\u001b[0;34m(\u001b[0m\u001b[0;34m\"You are welcome to some_func\"\u001b[0m\u001b[0;34m)\u001b[0m\u001b[0;34m\u001b[0m\u001b[0;34m\u001b[0m\u001b[0m\n\u001b[0;32m----> 6\u001b[0;31m         \u001b[0mprint\u001b[0m\u001b[0;34m(\u001b[0m\u001b[0mvar\u001b[0m\u001b[0;34m)\u001b[0m\u001b[0;34m\u001b[0m\u001b[0;34m\u001b[0m\u001b[0m\n\u001b[0m\u001b[1;32m      7\u001b[0m \u001b[0msome_func\u001b[0m\u001b[0;34m(\u001b[0m\u001b[0;34m)\u001b[0m\u001b[0;34m\u001b[0m\u001b[0;34m\u001b[0m\u001b[0m\n",
      "\u001b[0;31mNameError\u001b[0m: name 'var' is not defined"
     ]
    }
   ],
   "source": [
    "# Python program showing \n",
    "# a scope of object \n",
    "\n",
    "def some_func(): \n",
    "\tprint(\"You are welcome to some_func\") \n",
    "\tprint(var) \n",
    "some_func() \n"
   ]
  },
  {
   "cell_type": "markdown",
   "metadata": {},
   "source": [
    "As can be seen in the above output the function some_func() is in the scope from main but var is not avaialable in the scope of main. Similarly, in case of inner functions, outer functions don’t have accessibility of inner local variables which are local to inner functions and out of scope for outer functions. Lets take an example to have details understanding of the same:"
   ]
  },
  {
   "cell_type": "code",
   "execution_count": 4,
   "metadata": {},
   "outputs": [
    {
     "name": "stdout",
     "output_type": "stream",
     "text": [
      "Inside some_func\n",
      "Inside inner function, value of var: 10\n"
     ]
    },
    {
     "ename": "NameError",
     "evalue": "name 'var' is not defined",
     "output_type": "error",
     "traceback": [
      "\u001b[0;31m----------------------------------------------------------------------\u001b[0m",
      "\u001b[0;31mNameError\u001b[0m                            Traceback (most recent call last)",
      "\u001b[0;32m<ipython-input-4-fac826392922>\u001b[0m in \u001b[0;36m<module>\u001b[0;34m()\u001b[0m\n\u001b[1;32m     10\u001b[0m         \u001b[0msome_inner_func\u001b[0m\u001b[0;34m(\u001b[0m\u001b[0;34m)\u001b[0m\u001b[0;34m\u001b[0m\u001b[0;34m\u001b[0m\u001b[0m\n\u001b[1;32m     11\u001b[0m         \u001b[0mprint\u001b[0m\u001b[0;34m(\u001b[0m\u001b[0;34m\"Try printing var from outer function: \"\u001b[0m\u001b[0;34m,\u001b[0m\u001b[0mvar\u001b[0m\u001b[0;34m)\u001b[0m\u001b[0;34m\u001b[0m\u001b[0;34m\u001b[0m\u001b[0m\n\u001b[0;32m---> 12\u001b[0;31m \u001b[0msome_func\u001b[0m\u001b[0;34m(\u001b[0m\u001b[0;34m)\u001b[0m\u001b[0;34m\u001b[0m\u001b[0;34m\u001b[0m\u001b[0m\n\u001b[0m",
      "\u001b[0;32m<ipython-input-4-fac826392922>\u001b[0m in \u001b[0;36msome_func\u001b[0;34m()\u001b[0m\n\u001b[1;32m      9\u001b[0m                 \u001b[0mprint\u001b[0m\u001b[0;34m(\u001b[0m\u001b[0;34m\"Inside inner function, value of var:\"\u001b[0m\u001b[0;34m,\u001b[0m\u001b[0mvar\u001b[0m\u001b[0;34m)\u001b[0m\u001b[0;34m\u001b[0m\u001b[0;34m\u001b[0m\u001b[0m\n\u001b[1;32m     10\u001b[0m         \u001b[0msome_inner_func\u001b[0m\u001b[0;34m(\u001b[0m\u001b[0;34m)\u001b[0m\u001b[0;34m\u001b[0m\u001b[0;34m\u001b[0m\u001b[0m\n\u001b[0;32m---> 11\u001b[0;31m         \u001b[0mprint\u001b[0m\u001b[0;34m(\u001b[0m\u001b[0;34m\"Try printing var from outer function: \"\u001b[0m\u001b[0;34m,\u001b[0m\u001b[0mvar\u001b[0m\u001b[0;34m)\u001b[0m\u001b[0;34m\u001b[0m\u001b[0;34m\u001b[0m\u001b[0m\n\u001b[0m\u001b[1;32m     12\u001b[0m \u001b[0msome_func\u001b[0m\u001b[0;34m(\u001b[0m\u001b[0;34m)\u001b[0m\u001b[0;34m\u001b[0m\u001b[0;34m\u001b[0m\u001b[0m\n",
      "\u001b[0;31mNameError\u001b[0m: name 'var' is not defined"
     ]
    }
   ],
   "source": [
    "# Example 2\n",
    "# Python program showing \n",
    "# a scope of object \n",
    "\n",
    "def some_func(): \n",
    "\tprint(\"Inside some_func\") \n",
    "\tdef some_inner_func(): \n",
    "\t\tvar = 10\n",
    "\t\tprint(\"Inside inner function, value of var:\",var) \n",
    "\tsome_inner_func() \n",
    "\tprint(\"Try printing var from outer function: \",var) \n",
    "some_func() \n"
   ]
  },
  {
   "cell_type": "code",
   "execution_count": 5,
   "metadata": {},
   "outputs": [
    {
     "name": "stdout",
     "output_type": "stream",
     "text": [
      "inside some_func\n",
      "Inside inner function value of var: 10\n"
     ]
    },
    {
     "ename": "NameError",
     "evalue": "name 'var' is not defined",
     "output_type": "error",
     "traceback": [
      "\u001b[0;31m----------------------------------------------------------------------\u001b[0m",
      "\u001b[0;31mNameError\u001b[0m                            Traceback (most recent call last)",
      "\u001b[0;32m<ipython-input-5-7faee5490a8f>\u001b[0m in \u001b[0;36m<module>\u001b[0;34m()\u001b[0m\n\u001b[1;32m     11\u001b[0m     \u001b[0mprint\u001b[0m\u001b[0;34m(\u001b[0m\u001b[0;34m\"try printing var value from outer fucn: \"\u001b[0m\u001b[0;34m,\u001b[0m \u001b[0mvar\u001b[0m\u001b[0;34m)\u001b[0m\u001b[0;34m\u001b[0m\u001b[0;34m\u001b[0m\u001b[0m\n\u001b[1;32m     12\u001b[0m \u001b[0;34m\u001b[0m\u001b[0m\n\u001b[0;32m---> 13\u001b[0;31m \u001b[0msome_func\u001b[0m\u001b[0;34m(\u001b[0m\u001b[0;34m)\u001b[0m\u001b[0;34m\u001b[0m\u001b[0;34m\u001b[0m\u001b[0m\n\u001b[0m\u001b[1;32m     14\u001b[0m \u001b[0;34m\u001b[0m\u001b[0m\n",
      "\u001b[0;32m<ipython-input-5-7faee5490a8f>\u001b[0m in \u001b[0;36msome_func\u001b[0;34m()\u001b[0m\n\u001b[1;32m      9\u001b[0m     \u001b[0msome_inner_func\u001b[0m\u001b[0;34m(\u001b[0m\u001b[0;34m)\u001b[0m\u001b[0;34m\u001b[0m\u001b[0;34m\u001b[0m\u001b[0m\n\u001b[1;32m     10\u001b[0m \u001b[0;34m\u001b[0m\u001b[0m\n\u001b[0;32m---> 11\u001b[0;31m     \u001b[0mprint\u001b[0m\u001b[0;34m(\u001b[0m\u001b[0;34m\"try printing var value from outer fucn: \"\u001b[0m\u001b[0;34m,\u001b[0m \u001b[0mvar\u001b[0m\u001b[0;34m)\u001b[0m\u001b[0;34m\u001b[0m\u001b[0;34m\u001b[0m\u001b[0m\n\u001b[0m\u001b[1;32m     12\u001b[0m \u001b[0;34m\u001b[0m\u001b[0m\n\u001b[1;32m     13\u001b[0m \u001b[0msome_func\u001b[0m\u001b[0;34m(\u001b[0m\u001b[0;34m)\u001b[0m\u001b[0;34m\u001b[0m\u001b[0;34m\u001b[0m\u001b[0m\n",
      "\u001b[0;31mNameError\u001b[0m: name 'var' is not defined"
     ]
    }
   ],
   "source": [
    "# Example 3\n",
    "def some_func():\n",
    "    print(\"inside some_func\")\n",
    "    \n",
    "    def some_inner_func():\n",
    "        var=10\n",
    "        print(\"Inside inner function value of var:\", var)\n",
    "        \n",
    "    some_inner_func()\n",
    "    \n",
    "    print(\"try printing var value from outer fucn: \", var)\n",
    "    \n",
    "some_func()\n",
    "    "
   ]
  },
  {
   "cell_type": "markdown",
   "metadata": {},
   "source": [
    "# Statement, Indentation and Comment in Python\n"
   ]
  },
  {
   "cell_type": "markdown",
   "metadata": {},
   "source": [
    "Instructions written in the source code for execution are called statements. There are different types of statements in the Python programming language like Assignment statement, Conditional statement, Looping statements etc. These all help the user to get the required output. For example, n = 50 is an assignment statement.\n",
    "\n",
    "Multi-Line Statements: Statements in Python can be extended to one or more lines using parentheses (), braces {}, square brackets [], semi-colon (;), continuation character slash (\\). When the programmer needs to do long calculations and cannot fit his statements into one line, one can make use of these characters.\n",
    "Example :\n",
    "\n",
    "Declared using Continuation Character (\\):\n",
    "s = 1 + 2 + 3 + \\\n",
    "    4 + 5 + 6 + \\\n",
    "    7 + 8 + 9\n",
    "\n",
    "Declared using parentheses () :\n",
    "n = (1 * 2 * 3 + 7 + 8 + 9)\n",
    "\n",
    "Declared using square brackets [] :\n",
    "footballer = ['MESSI',\n",
    "          'NEYMAR',\n",
    "          'SUAREZ']\n",
    "\n",
    "Declared using braces {} :\n",
    "x = {1 + 2 + 3 + 4 + 5 + 6 +\n",
    "     7 + 8 + 9}\n",
    "\n",
    "Declared using semicolons(;) :\n",
    "flag = 2; ropes = 3; pole = 4\n"
   ]
  },
  {
   "cell_type": "markdown",
   "metadata": {},
   "source": [
    "# Indentation"
   ]
  },
  {
   "cell_type": "markdown",
   "metadata": {},
   "source": [
    "A block is a combination of all these statements. Block can be regarded as the grouping of statements for a specific purpose. Most of the programming languages like C, C++, Java use braces { } to define a block of code. One of the distinctive features of Python is its use of indentation to highlight the blocks of code. Whitespace is used for indentation in Python. All statements with the same distance to the right belong to the same block of code. If a block has to be more deeply nested, it is simply indented further to the right. You can understand it better by looking at the following lines of code:"
   ]
  },
  {
   "cell_type": "code",
   "execution_count": 6,
   "metadata": {},
   "outputs": [
    {
     "name": "stdout",
     "output_type": "stream",
     "text": [
      "Logging on to geeksforgeeks...\n",
      "All set !\n"
     ]
    }
   ],
   "source": [
    "# Python program showing \n",
    "# indentation \n",
    "\n",
    "site = 'gfg'\n",
    "\n",
    "if site == 'gfg': \n",
    "\tprint('Logging on to geeksforgeeks...') \n",
    "else: \n",
    "\tprint('retype the URL.') \n",
    "print('All set !') \n"
   ]
  },
  {
   "cell_type": "code",
   "execution_count": 8,
   "metadata": {},
   "outputs": [
    {
     "name": "stdout",
     "output_type": "stream",
     "text": [
      "Logging on to rajesh domain\n",
      "All set!\n"
     ]
    }
   ],
   "source": [
    "# Example 1\n",
    "name = 'rajeshk'\n",
    "if name == 'rajeshk':\n",
    "    print('Logging on to rajesh domain')\n",
    "    \n",
    "else:\n",
    "    print('retype the URL')\n",
    "    \n",
    "print('All set!')"
   ]
  },
  {
   "cell_type": "markdown",
   "metadata": {},
   "source": [
    "The lines print(‘Logging on to geeksforgeeks…’) and print(‘retype the URL.’) are two separate code blocks. The two blocks of code in our example if-statement are both indented four spaces. The final print(‘All set!’) is not indented, and so it does not belong to the else-block.\n",
    "\n"
   ]
  },
  {
   "cell_type": "code",
   "execution_count": 14,
   "metadata": {},
   "outputs": [
    {
     "name": "stdout",
     "output_type": "stream",
     "text": [
      "12345"
     ]
    }
   ],
   "source": [
    "j =1\n",
    "while(j<=5):\n",
    "    print(j, end=\"\")\n",
    "    j = j+1"
   ]
  },
  {
   "cell_type": "markdown",
   "metadata": {},
   "source": [
    "To indicate a block of code in Python, you must indent each line of the block by the same whitespace. The two blocks of code in the while loop are both indented four spaces. It is required for indicating what block of code a statement belongs to. For example, j=1 and while(j<=5): is not indented, and so it is not within while block. So, Python code structures by indentation.\n",
    "\n"
   ]
  },
  {
   "cell_type": "markdown",
   "metadata": {},
   "source": [
    "Comments\n",
    "Python developers often make use of the comment system as, without the use of it, things can get real confusing, real fast. Comments are the useful information that the developers provide to make the reader understand the source code. It explains the logic or a part of it used in the code. Comments are usually helpful to someone maintaining or enhancing your code when you are no longer around to answer questions about it. These are often cited as a useful programming convention that does not take part in the output of the program but improves the readability of the whole program. There are two types of comment in Python:\n",
    "Single line comments : Python single line comment starts with hashtag symbol with no white spaces (#) and lasts till the end of the line. If the comment exceeds one line then put a hashtag on the next line and continue the comment. Python’s single line comments are proved useful for supplying short explanations for variables, function declarations, and expressions. See the following code snippet demonstrating single line comment:\n",
    "\n",
    "Code 1:"
   ]
  },
  {
   "cell_type": "code",
   "execution_count": 16,
   "metadata": {},
   "outputs": [
    {
     "name": "stdout",
     "output_type": "stream",
     "text": [
      "GeeksforGeeks\n"
     ]
    }
   ],
   "source": [
    "# This is a comment \n",
    "# Print “GeeksforGeeks !” to console \n",
    "print(\"GeeksforGeeks\") \n"
   ]
  },
  {
   "cell_type": "code",
   "execution_count": 17,
   "metadata": {},
   "outputs": [
    {
     "name": "stdout",
     "output_type": "stream",
     "text": [
      "4\n"
     ]
    }
   ],
   "source": [
    "a, b = 1, 3 # Declaring two integers \n",
    "sum = a + b # adding two integers \n",
    "print(sum) # displaying the output \n"
   ]
  },
  {
   "cell_type": "markdown",
   "metadata": {},
   "source": [
    "Multi-line string as comment : Python multi-line comment is a piece of text enclosed in a delimiter (\"\"\") on each end of the comment. Again there should be no white space between delimiter (\"\"\"). They are useful when the comment text does not fit into one line; therefore needs to span across lines. Multi-line comments or paragraphs serve as documentation for others reading your code. See the following code snippet demonstrating multi-line comment:\n",
    "\n",
    "Code 1:"
   ]
  },
  {
   "cell_type": "code",
   "execution_count": 18,
   "metadata": {},
   "outputs": [
    {
     "name": "stdout",
     "output_type": "stream",
     "text": [
      "GeeksForGeeks\n"
     ]
    }
   ],
   "source": [
    "\"\"\" \n",
    "This would be a multiline comment in Python that \n",
    "spans several lines and describes geeksforgeeks. \n",
    "A Computer Science portal for geeks. It contains \n",
    "well written, well thought \n",
    "and well-explained computer science \n",
    "and programming articles, \n",
    "quizzes and more. \n",
    "… \n",
    "\"\"\"\n",
    "print(\"GeeksForGeeks\") \n"
   ]
  },
  {
   "cell_type": "code",
   "execution_count": 19,
   "metadata": {},
   "outputs": [
    {
     "name": "stdout",
     "output_type": "stream",
     "text": [
      "GeeksForGeeks\n"
     ]
    }
   ],
   "source": [
    "'''This article on geeksforgeeks gives you a \n",
    "perfect example of \n",
    "multi-line comments'''\n",
    "\n",
    "print(\"GeeksForGeeks\") \n"
   ]
  },
  {
   "cell_type": "code",
   "execution_count": null,
   "metadata": {},
   "outputs": [],
   "source": []
  }
 ],
 "metadata": {
  "kernelspec": {
   "display_name": "Python 3",
   "language": "python",
   "name": "python3"
  },
  "language_info": {
   "codemirror_mode": {
    "name": "ipython",
    "version": 3
   },
   "file_extension": ".py",
   "mimetype": "text/x-python",
   "name": "python",
   "nbconvert_exporter": "python",
   "pygments_lexer": "ipython3",
   "version": "3.7.2"
  }
 },
 "nbformat": 4,
 "nbformat_minor": 2
}
