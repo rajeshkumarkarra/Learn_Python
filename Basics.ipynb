{
  "nbformat": 4,
  "nbformat_minor": 0,
  "metadata": {
    "colab": {
      "name": "Basics.ipynb",
      "version": "0.3.2",
      "provenance": [],
      "collapsed_sections": [
        "QI-MsOteVRo7",
        "2EHkFlsrVRpt",
        "3BRjhLbXVRq3",
        "51Zcsj3yeK4v"
      ],
      "include_colab_link": true
    },
    "kernelspec": {
      "display_name": "Python 3",
      "language": "python",
      "name": "python3"
    }
  },
  "cells": [
    {
      "cell_type": "markdown",
      "metadata": {
        "id": "view-in-github",
        "colab_type": "text"
      },
      "source": [
        "<a href=\"https://colab.research.google.com/github/rajeshkumarkarra/Learn_Python/blob/updates/Basics.ipynb\" target=\"_parent\"><img src=\"https://colab.research.google.com/assets/colab-badge.svg\" alt=\"Open In Colab\"/></a>"
      ]
    },
    {
      "metadata": {
        "id": "o44T8YwgVRn3",
        "colab_type": "text"
      },
      "cell_type": "markdown",
      "source": [
        "# Basics"
      ]
    },
    {
      "metadata": {
        "id": "gBY1n44-VRn5",
        "colab_type": "text"
      },
      "cell_type": "markdown",
      "source": [
        "# https://www.geeksforgeeks.org/python-programming-language/"
      ]
    },
    {
      "metadata": {
        "id": "f0lAlBNSVRn6",
        "colab_type": "text"
      },
      "cell_type": "markdown",
      "source": [
        "# Keywords in Python | Set 1"
      ]
    },
    {
      "metadata": {
        "id": "kjPoYM4ZVRn8",
        "colab_type": "text"
      },
      "cell_type": "markdown",
      "source": [
        "Keywords in Python | Set 1\n",
        "Python Keywords – IntroductionKeywords in Python | Set 1\n",
        "Python Keywords – Introduction\n",
        "\n",
        "This article aims at providing a detailed insight to these keywords.\n",
        "\n",
        "1. True : This keyword is used to represent a boolean true. If a statement is truth, “True” is printed.\n",
        "\n",
        "2. False : This keyword is used to represent a boolean false. If a statement is False, “False” is printed.\n",
        "True and False in python are same as 1 and 0.Example:"
      ]
    },
    {
      "metadata": {
        "id": "sCwvrqXGVRn9",
        "colab_type": "code",
        "outputId": "6fcabdbd-54e8-4ca4-cc10-80fc3b428e43",
        "colab": {}
      },
      "cell_type": "code",
      "source": [
        "print(False == 0)\n",
        "print(True == 1)\n",
        "\n",
        "print(True+True+True)\n",
        "print(False+False+False)"
      ],
      "execution_count": 0,
      "outputs": [
        {
          "output_type": "stream",
          "text": [
            "True\n",
            "True\n",
            "3\n",
            "0\n"
          ],
          "name": "stdout"
        }
      ]
    },
    {
      "metadata": {
        "id": "WPFHbjLYVRoH",
        "colab_type": "text"
      },
      "cell_type": "markdown",
      "source": [
        "3. None : This is a special constant used to denote a null value or a void. Its important to remember, 0, any empty container(e.g empty list) do not compute to None.\n",
        "It is an object of its own datatype – NoneType. It is not possible to create multiple None objects and can assign it to variables.\n",
        "\n",
        "\n",
        "\n",
        "4. and : This a logical operator in python. “and” returns true if both the operands are true. Else returns false.The truth table for “and” is depicted below.\n",
        "\n",
        "and\n",
        "5. or : This a logical operator in python. “or” returns true if any one of the operand is true. Else returns false.The truth table for “or” is depicted below.\n",
        "\n",
        "6. not : This logical operator inverts the truth value.The truth table for “not” is depicted below."
      ]
    },
    {
      "metadata": {
        "id": "6meoUyufVRoI",
        "colab_type": "code",
        "outputId": "6adeb629-ebc8-42a9-9502-cddc197685ac",
        "colab": {}
      },
      "cell_type": "code",
      "source": [
        "# Python code to demonstrate \n",
        "# True, False, None, and, or , not \n",
        "\n",
        "# showing that None is not equal to 0 \n",
        "# prints False as its false. \n",
        "print (None == 0) \n",
        "\n",
        "# showing objective of None \n",
        "# two None value equated to None \n",
        "# here x and y both are null \n",
        "# hence true \n",
        "x = None\n",
        "y = None\n",
        "print (x == y) \n",
        "\n",
        "# showing logical operation \n",
        "# or (returns True) \n",
        "print (True or False) \n",
        "\n",
        "# showing logical operation \n",
        "# and (returns False) \n",
        "print (False and True) \n",
        "\n",
        "# showing logical operation \n",
        "# not (returns False) \n",
        "print (not True) \n"
      ],
      "execution_count": 0,
      "outputs": [
        {
          "output_type": "stream",
          "text": [
            "False\n",
            "True\n",
            "True\n",
            "False\n",
            "False\n"
          ],
          "name": "stdout"
        }
      ]
    },
    {
      "metadata": {
        "id": "o_MA9RYNVRoO",
        "colab_type": "code",
        "outputId": "74be7f91-55dc-4c4a-ea89-ad016f1e3925",
        "colab": {}
      },
      "cell_type": "code",
      "source": [
        "print(True and True)\n",
        "print(False or False)\n",
        "print(True)"
      ],
      "execution_count": 0,
      "outputs": [
        {
          "output_type": "stream",
          "text": [
            "True\n",
            "False\n",
            "True\n"
          ],
          "name": "stdout"
        }
      ]
    },
    {
      "metadata": {
        "id": "p8pxLLprVRoT",
        "colab_type": "text"
      },
      "cell_type": "markdown",
      "source": [
        "7. assert : This function is used for debugging purposes. Usually used to check the correctness of code. If a statement evaluated to true, nothing happens, but when it is false, “AssertionError” is raised . One can also print a message with the error, separated by a comma.\n",
        "\n",
        "8. break : “break” is used to control the flow of loop. The statement is used to break out of loop and passes the control to the statement following immediately after loop.\n",
        "\n",
        "9. continue : “continue” is also used to control the flow of code. The keyword skips the current iteration of the loop, but does not end the loop.\n",
        "\n",
        "\n",
        "\n",
        "Illustrations of break and continue keywords can be seen in the article below.\n",
        "\n",
        "Loops and Control Statements (continue, break and pass) in Python\n",
        "10. class : This keyword is used to declare user defined classes.For more info. click here.\n",
        "\n",
        "11. def : This keyword is used to declare user defined functions.For more info. click here.\n",
        "\n",
        "12. if : It is a control statement for decision making. Truth expression forces control to go in “if” statement block.\n",
        "\n",
        "13. else : It is a control statement for decision making. False expression forces control to go in “else” statement block.\n",
        "\n",
        "14. elif : It is a control statement for decision making. It is short for “else if”\n",
        "\n",
        "if, else and elif conditional statements are explained in detail here article.\n",
        "\n",
        "15. del : del is used to delete a reference to an object. Any variable or list value can be deleted using del."
      ]
    },
    {
      "metadata": {
        "id": "LfNZ0uJHVRoV",
        "colab_type": "code",
        "outputId": "5e14da64-68be-47ea-c29b-77b5e3c03b63",
        "colab": {}
      },
      "cell_type": "code",
      "source": [
        "# Python code to demonstrate \n",
        "# del and assert \n",
        "\n",
        "# initialising list \n",
        "a = [1, 2, 3] \n",
        "\n",
        "# printing list before deleting any value \n",
        "print (\"The list before deleting any value\") \n",
        "print (a) \n",
        "\n",
        "# using del to delete 2nd element of list \n",
        "del a[1] \n",
        "\n",
        "# printing list after deleting 2nd element \n",
        "print (\"The list after deleting 2nd element\") \n",
        "print (a) \n",
        "\n",
        "# demonstrating use of assert \n",
        "# prints AssertionError \n",
        "assert 5 < 3, \"5 is not smaller than 3\"\n"
      ],
      "execution_count": 0,
      "outputs": [
        {
          "output_type": "stream",
          "text": [
            "The list before deleting any value\n",
            "[1, 2, 3]\n",
            "The list after deleting 2nd element\n",
            "[1, 3]\n"
          ],
          "name": "stdout"
        },
        {
          "output_type": "error",
          "ename": "AssertionError",
          "evalue": "5 is not smaller than 3",
          "traceback": [
            "\u001b[0;31m---------------------------------------------------------------------------\u001b[0m",
            "\u001b[0;31mAssertionError\u001b[0m                            Traceback (most recent call last)",
            "\u001b[0;32m<ipython-input-4-24fdcbcabfac>\u001b[0m in \u001b[0;36m<module>\u001b[0;34m()\u001b[0m\n\u001b[1;32m     18\u001b[0m \u001b[0;31m# demonstrating use of assert\u001b[0m\u001b[0;34m\u001b[0m\u001b[0;34m\u001b[0m\u001b[0;34m\u001b[0m\u001b[0m\n\u001b[1;32m     19\u001b[0m \u001b[0;31m# prints AssertionError\u001b[0m\u001b[0;34m\u001b[0m\u001b[0;34m\u001b[0m\u001b[0;34m\u001b[0m\u001b[0m\n\u001b[0;32m---> 20\u001b[0;31m \u001b[0;32massert\u001b[0m \u001b[0;36m5\u001b[0m \u001b[0;34m<\u001b[0m \u001b[0;36m3\u001b[0m\u001b[0;34m,\u001b[0m \u001b[0;34m\"5 is not smaller than 3\"\u001b[0m\u001b[0;34m\u001b[0m\u001b[0;34m\u001b[0m\u001b[0m\n\u001b[0m",
            "\u001b[0;31mAssertionError\u001b[0m: 5 is not smaller than 3"
          ]
        }
      ]
    },
    {
      "metadata": {
        "id": "wnwYxqsxVRoa",
        "colab_type": "code",
        "colab": {
          "base_uri": "https://localhost:8080/",
          "height": 122
        },
        "outputId": "5b59e5fb-9206-45dc-cecf-d24e2138166a"
      },
      "cell_type": "code",
      "source": [
        "# Another Example\n",
        "a=[\"rajesh\", \"peter\", \"john\"]\n",
        "print(a)\n",
        "\n",
        "del a[-1]\n",
        "\n",
        "print(\"after deletion\")\n",
        "print(a)\n",
        "\n",
        "b=[1,2,3]\n",
        "print(b)\n",
        "del(a[1])\n",
        "del(b[2])\n",
        "print(a)\n",
        "print(b)\n"
      ],
      "execution_count": 3,
      "outputs": [
        {
          "output_type": "stream",
          "text": [
            "['rajesh', 'peter', 'john']\n",
            "after deletion\n",
            "['rajesh', 'peter']\n",
            "[1, 2, 3]\n",
            "['rajesh']\n",
            "[1, 2]\n"
          ],
          "name": "stdout"
        }
      ]
    },
    {
      "metadata": {
        "id": "Sln5u76bVRof",
        "colab_type": "text"
      },
      "cell_type": "markdown",
      "source": [
        "# Keywords in Python | Set 2"
      ]
    },
    {
      "metadata": {
        "id": "dKq-Fv79VRog",
        "colab_type": "text"
      },
      "cell_type": "markdown",
      "source": [
        "Python Keywords – Introduction\n",
        "Keywords in Python | Set 1\n",
        "\n",
        "More keywords:\n",
        "\n",
        "16. try : This keyword is used for exception handling, used to catch the errors in the code using the keyword except. Code in “try” block is checked, if there is any type of error, except block is executed.\n",
        "\n",
        "17. except : As explained above, this works together with “try” to catch exceptions.\n",
        "\n",
        "18. raise : Also used for exception handling to explicitly raise exceptions.\n",
        "\n",
        "19. finally : No matter what is result of the “try” block, block termed “finally” is always executed. Detailed article –Exception Handling in Python\n",
        "\n",
        "\n",
        "\n",
        "20. for : This keyword is used to control flow and for looping.\n",
        "\n",
        "21. while : Has a similar working like “for” , used to control flow and for looping.\n",
        "\n",
        "22. pass : It is the null statement in python. Nothing happens when this is encountered. This is used to prevent indentation errors and used as a placeholder\n",
        "\n",
        "Detailed Article – for, while, pass\n",
        "\n",
        "23. import : This statement is used to include a particular module into current program.\n",
        "\n",
        "24. from : Generally used with import, from is used to import particular functionality from the module imported.\n",
        "\n",
        "25. as : This keyword is used to create the alias for the module imported. i.e giving a new name to the imported module.. E.g import math as mymath.\n",
        "\n",
        "Detailed Article – import, from and as\n",
        "\n",
        "26. lambda : This keyword is used to make inline returning functions with no statements allowed internally. Detailed Article – map, filter, lambda\n",
        "\n",
        "27. return : This keyword is used to return from the function. Detailed article –  Return values in Python.\n",
        "\n",
        "\n",
        "\n",
        "28. yield : This keyword is used like return statement but is used to return a generator. Detailed Article – yield keyword\n",
        "\n",
        "29. with : This keyword is used to wrap the execution of block of code within methods defined by context manager.This keyword is not used much in day to day programming.\n",
        "\n",
        "30. in : This keyword is used to check if a container contains a value. This keyword is also used to loop through the container.\n",
        "\n",
        "31. is : This keyword is used to test object identity, i.e to check if both the objects take same memory location or not."
      ]
    },
    {
      "metadata": {
        "id": "68LRZAl2VRoh",
        "colab_type": "code",
        "colab": {
          "base_uri": "https://localhost:8080/",
          "height": 140
        },
        "outputId": "e367b798-2f66-4ccb-c5f9-ff11070deb1c"
      },
      "cell_type": "code",
      "source": [
        "# Python code to demonstrate working of \n",
        "# in and is \n",
        "  \n",
        "# using \"in\" to check  \n",
        "if 's' in 'geeksforgeeks': \n",
        "       print (\"s is part of geeksforgeeks\") \n",
        "else : print (\"s is not part of geeksforgeeks\") \n",
        "  \n",
        "# using \"in\" to loop through \n",
        "for i in 'geeksforgeeks': \n",
        "    print (i,end=\" \") \n",
        "  \n",
        "print (\"\\r\") \n",
        "      \n",
        "# using is to check object identity \n",
        "# string is immutable( cannot be changed once alloted) \n",
        "# hence occupy same memory location \n",
        "print (' ' is ' ') \n",
        "  \n",
        "# using is to check object identity \n",
        "# dictionary is mutable( can be changed once alloted) \n",
        "# hence occupy different memory location \n",
        "print ({} is {}) \n",
        "print([] is [])\n",
        "print(() is ())\n",
        "type(())\n",
        "type([])\n",
        "type({})\n",
        "type(\"\")\n",
        "type(2.5)"
      ],
      "execution_count": 4,
      "outputs": [
        {
          "output_type": "stream",
          "text": [
            "s is part of geeksforgeeks\n",
            "g e e k s f o r g e e k s \r\n",
            "True\n",
            "False\n",
            "False\n",
            "True\n"
          ],
          "name": "stdout"
        },
        {
          "output_type": "execute_result",
          "data": {
            "text/plain": [
              "float"
            ]
          },
          "metadata": {
            "tags": []
          },
          "execution_count": 4
        }
      ]
    },
    {
      "metadata": {
        "id": "31xTFWb7VRom",
        "colab_type": "code",
        "colab": {
          "base_uri": "https://localhost:8080/",
          "height": 70
        },
        "outputId": "6b0dd044-d432-48fb-d676-79b4a8222069"
      },
      "cell_type": "code",
      "source": [
        "# Example:\n",
        "if 's' in \"rajeshkumarkarra\":\n",
        "    print(\"s is part of rajeshkumarkarra\")\n",
        "else:\n",
        "    print(\"s is not part of rajeshkumarkarra\")\n",
        "    \n",
        "for i in 'rajeshkumarkarra':\n",
        "    print(i, end=\" \")\n",
        "    \n",
        "    \n",
        "# Example 2\n",
        "\n",
        "if 's' in \"rajeshkumarkarra\":\n",
        "  print(\" is in sentense\")\n",
        "else:\n",
        "  print(\"isn't in sentense\")\n",
        "  \n",
        "  \n",
        "for i in \"rajesh\":\n",
        "  print(i, end=\"\")\n"
      ],
      "execution_count": 10,
      "outputs": [
        {
          "output_type": "stream",
          "text": [
            "s is part of rajeshkumarkarra\n",
            "r a j e s h k u m a r k a r r a  is in sentense\n",
            "rajesh"
          ],
          "name": "stdout"
        }
      ]
    },
    {
      "metadata": {
        "id": "i4_ouLvnVRoq",
        "colab_type": "text"
      },
      "cell_type": "markdown",
      "source": [
        "32. global : This keyword is used to define a variable inside the function to be of a global scope.\n",
        "\n",
        "33. non-local : This keyword works similar to the global, but rather than global, this keyword declares a variable to point to variable of outside enclosing function, in case of nested functions."
      ]
    },
    {
      "metadata": {
        "id": "7xnqfoGfVRor",
        "colab_type": "code",
        "colab": {}
      },
      "cell_type": "code",
      "source": [
        "# Python code to demonstrate working of \n",
        "# global and non local \n",
        "\n",
        "#initializing variable globally \n",
        "a = 10\n",
        "\n",
        "# used to read the variable \n",
        "def read(): \n",
        "\tprint (a) \n",
        "\n",
        "# changing the value of globally defined variable \n",
        "def mod1(): \n",
        "\tglobal a \n",
        "\ta = 5\n",
        "\n",
        "# changing value of only local variable \n",
        "def mod2(): \n",
        "\ta = 15\n",
        "\n",
        "# reading initial value of a \n",
        "# prints 10 \n",
        "read() \n",
        "\n",
        "# calling mod 1 function to modify value \n",
        "# modifies value of global a to 5 \n",
        "mod1() \n",
        "\n",
        "# reading modified value \n",
        "# prints 5 \n",
        "read() \n",
        "\n",
        "# calling mod 2 function to modify value \n",
        "# modifies value of local a to 15, doesn't effect global value \n",
        "mod2() \n",
        "\n",
        "# reading modified value \n",
        "# again prints 5 \n",
        "read() \n",
        "\n",
        "# demonstrating non local \n",
        "# inner loop changing the value of outer a \n",
        "# prints 10 \n",
        "print (\"Value of a using nonlocal is : \",end=\"\") \n",
        "def outer(): \n",
        "\ta = 5\n",
        "\tdef inner(): \n",
        "\t\tnonlocal a \n",
        "\t\ta = 10\n",
        "\tinner() \n",
        "\tprint (a) \n",
        "\n",
        "outer() \n",
        "\n",
        "# demonstrating without non local \n",
        "# inner loop not changing the value of outer a \n",
        "# prints 5 \n",
        "print (\"Value of a without using nonlocal is : \",end=\"\") \n",
        "def outer(): \n",
        "\ta = 5\n",
        "\tdef inner(): \n",
        "\t\ta = 10\n",
        "\tinner() \n",
        "\tprint (a) \n",
        "\n",
        "outer() \n"
      ],
      "execution_count": 0,
      "outputs": []
    },
    {
      "metadata": {
        "id": "8xTI3oi3VRov",
        "colab_type": "code",
        "colab": {}
      },
      "cell_type": "code",
      "source": [
        "# Example 1\n",
        "a = 20\n",
        "def read():\n",
        "    print(\"Printing global a value: \", end=\"\")\n",
        "    print(a)\n",
        "read()\n",
        "\n",
        "def mod1():\n",
        "    global a\n",
        "    a=100\n",
        "    print(\"printing changing global value of a: \", end=\"\")\n",
        "    \n",
        "mod1()\n",
        "read()\n",
        "\n",
        "def mod2():\n",
        "    a=200\n",
        "    print(\"printing local a value instead of non changing of global value: \", end=\"\")\n",
        "    \n",
        "mod2()\n",
        "read()\n",
        "\n",
        "print(\"value of 'a' using nonlocal:  \", end=\"\")\n",
        "def outer():\n",
        "    a=10\n",
        "    def inner():\n",
        "        nonlocal a\n",
        "        a=20\n",
        "    inner()\n",
        "    print(a)\n",
        "outer()\n",
        "\n",
        "print(\"value of 'a' using local: \", end=\"\")\n",
        "def outer():\n",
        "    a=10\n",
        "    def inner():\n",
        "        a=20\n",
        "    inner()\n",
        "    print(a)\n",
        "outer()\n",
        "\n",
        "\n",
        "\n"
      ],
      "execution_count": 0,
      "outputs": []
    },
    {
      "metadata": {
        "id": "GGVu_s4pRhou",
        "colab_type": "code",
        "colab": {
          "base_uri": "https://localhost:8080/",
          "height": 70
        },
        "outputId": "460f508b-58e7-45e9-acda-217b647ed331"
      },
      "cell_type": "code",
      "source": [
        "# Example \n",
        "\n",
        "a = 100\n",
        "def read():\n",
        "  print(a)\n",
        "\n",
        "def mod1():\n",
        "  global a\n",
        "  a=200\n",
        "def mod2():\n",
        "  a=300\n",
        "  \n",
        "read()\n",
        "mod1()\n",
        "read()\n",
        "mod2()\n",
        "read()\n",
        "\n"
      ],
      "execution_count": 21,
      "outputs": [
        {
          "output_type": "stream",
          "text": [
            "100\n",
            "200\n",
            "200\n"
          ],
          "name": "stdout"
        }
      ]
    },
    {
      "metadata": {
        "id": "bMD5VCfkTkBN",
        "colab_type": "code",
        "colab": {
          "base_uri": "https://localhost:8080/",
          "height": 35
        },
        "outputId": "ff438821-ba99-487f-afaf-28987100bffe"
      },
      "cell_type": "code",
      "source": [
        "print(\"Hello\")\n",
        "def outer():\n",
        "  a = 100\n",
        "  def inner():\n",
        "    nonlocal a\n",
        "    a = 200\n",
        "    inner()\n",
        "    print(a)\n",
        "outer()"
      ],
      "execution_count": 30,
      "outputs": [
        {
          "output_type": "stream",
          "text": [
            "Hello\n"
          ],
          "name": "stdout"
        }
      ]
    },
    {
      "metadata": {
        "id": "58V16aMtVRoz",
        "colab_type": "code",
        "colab": {}
      },
      "cell_type": "code",
      "source": [
        "# Example...\n",
        "a= 20\n",
        "\n",
        "def read():\n",
        "    print(a)\n",
        "    \n",
        "def mod1():\n",
        "    global a\n",
        "    a=10\n",
        "    \n",
        "def mod2():\n",
        "    a=30\n",
        "    \n",
        "read()\n",
        "mod1()\n",
        "read()\n",
        "mod2()\n",
        "read()\n",
        "print(\"value of a using nonlocal is :\", end=\"\")\n",
        "def outer():\n",
        "    a=20\n",
        "    def inner():\n",
        "        nonlocal a\n",
        "        a=10\n",
        "    inner()\n",
        "    print(a)\n",
        "outer()\n",
        "print(\"value of a using without nonlocal is:\", end=\"\")\n",
        "def outer():\n",
        "    a=30\n",
        "    def inner():\n",
        "        a=25\n",
        "    \n",
        "    inner()\n",
        "    print(a)\n",
        "outer()\n"
      ],
      "execution_count": 0,
      "outputs": []
    },
    {
      "metadata": {
        "id": "QI-MsOteVRo7",
        "colab_type": "text"
      },
      "cell_type": "markdown",
      "source": [
        "# Namespaces and Scope in Python"
      ]
    },
    {
      "metadata": {
        "id": "EdSbxlMzVRo_",
        "colab_type": "text"
      },
      "cell_type": "markdown",
      "source": [
        "What is namespace:\n",
        "\n",
        "A namespace is a system to have a unique name for each and every object in Python. An object might be a variable or a method. Python itself maintains a namespace in the form of a Python dictionary. Let’s go through an example, a directory-file system structure in computers. Needless to say, that one can have multiple directories having a file with the same name inside of every directory. But one can get directed to the file, one wishes, just by specifying the absolute path to the file.\n",
        "Real-time example, the role of a namespace is like a surname. One might not find a single “Alice” in the class there might be multiple “Alice” but when you particularly ask for “Alice Lee” or “Alice Clark” (with a surname), there will be only one (time being don’t think of both first name and surname are same for multiple students).\n",
        "\n",
        "On the similar lines, Python interpreter understands what exact method or variable one is trying to point to in the code, depending upon the namespace. So, the division of the word itself gives little more information. Its Name (which means name, an unique identifier) + Space(which talks something related to scope). Here, a name might be of any Python method or variable and space depends upon the location from where is trying to access a variable or a method.\n",
        "\n",
        "\n",
        "\n",
        "Types of namespaces :\n",
        "\n",
        "When Python interpreter runs solely without and user-defined modules, methods, classes, etc. Some functions like print(), id() are always present, these are built in namespaces. When a user creates a module, a global namespace gets created, later creation of local functions creates the local namespace. The built-in namespace encompasses global namespace and global namespace encompasses local namespace.\n",
        "\n",
        "\n",
        " \n",
        "Lifetime of a namespace :\n",
        "\n",
        "A lifetime of a namespace depends upon the scope of objects, if the scope of an object ends, the lifetime of that namespace comes to an end. Hence, it is not possible to access inner namespace’s objects from an outer namespace.\n",
        "\n"
      ]
    },
    {
      "metadata": {
        "id": "v7Mh4xzQVRpB",
        "colab_type": "code",
        "colab": {}
      },
      "cell_type": "code",
      "source": [
        "# var1 is in the global namespace \n",
        "var1 = 5\n",
        "def some_func(): \n",
        "\n",
        "\t# var2 is in the local namespace \n",
        "\tvar2 = 6\n",
        "\tdef some_inner_func(): \n",
        "\n",
        "\t\t# var3 is in the nested local \n",
        "\t\t# namespace \n",
        "\t\tvar3 = 7\n"
      ],
      "execution_count": 0,
      "outputs": []
    },
    {
      "metadata": {
        "id": "5rYscg-sVRpH",
        "colab_type": "text"
      },
      "cell_type": "markdown",
      "source": [
        "But in some cases, one might be interested in updating or processing global variable only, as shown in the following example, one should mark it explicitly as global and the update or process."
      ]
    },
    {
      "metadata": {
        "id": "xSn0iB6nVRpI",
        "colab_type": "code",
        "colab": {}
      },
      "cell_type": "code",
      "source": [
        "# Python program processing \n",
        "# global variable \n",
        "\n",
        "count =5 \n",
        "def someMethod():\n",
        "    global count\n",
        "    count = count+1\n",
        "    print(count)\n",
        "someMethod()\n",
        "    \n"
      ],
      "execution_count": 0,
      "outputs": []
    },
    {
      "metadata": {
        "id": "_ZgjKJ_MVRpO",
        "colab_type": "code",
        "colab": {}
      },
      "cell_type": "code",
      "source": [
        "# Example 1\n",
        "count = 5\n",
        "def someMethod():\n",
        "    global count\n",
        "if(count<=5):\n",
        "    count=count+1\n",
        "    print(count)\n",
        "        \n",
        "someMethod()"
      ],
      "execution_count": 0,
      "outputs": []
    },
    {
      "metadata": {
        "id": "KNCvmdrQVRpZ",
        "colab_type": "text"
      },
      "cell_type": "markdown",
      "source": [
        "Scope of Objects in Python :\n",
        "\n",
        "Scope refers to the coding region from which particular Python object is accessible. Hence one cannot access any particular object from anywhere from the code, the accessing has to be allowed by the scope of the object."
      ]
    },
    {
      "metadata": {
        "id": "5Rga-_sbVRpe",
        "colab_type": "code",
        "colab": {}
      },
      "cell_type": "code",
      "source": [
        "# Python program showing \n",
        "# a scope of object \n",
        "\n",
        "def some_func(): \n",
        "\tprint(\"You are welcome to some_func\") \n",
        "\tprint(var) \n",
        "some_func() \n"
      ],
      "execution_count": 0,
      "outputs": []
    },
    {
      "metadata": {
        "id": "Iclf3OE2VRpl",
        "colab_type": "text"
      },
      "cell_type": "markdown",
      "source": [
        "As can be seen in the above output the function some_func() is in the scope from main but var is not avaialable in the scope of main. Similarly, in case of inner functions, outer functions don’t have accessibility of inner local variables which are local to inner functions and out of scope for outer functions. Lets take an example to have details understanding of the same:"
      ]
    },
    {
      "metadata": {
        "id": "ETzHNZZrVRpm",
        "colab_type": "code",
        "colab": {}
      },
      "cell_type": "code",
      "source": [
        "# Example 2\n",
        "# Python program showing \n",
        "# a scope of object \n",
        "\n",
        "def some_func(): \n",
        "\tprint(\"Inside some_func\") \n",
        "\tdef some_inner_func(): \n",
        "\t\tvar = 10\n",
        "\t\tprint(\"Inside inner function, value of var:\",var) \n",
        "\tsome_inner_func() \n",
        "\t\n",
        "some_func() \n"
      ],
      "execution_count": 0,
      "outputs": []
    },
    {
      "metadata": {
        "id": "yVJDkqHFVRpq",
        "colab_type": "code",
        "colab": {}
      },
      "cell_type": "code",
      "source": [
        "# Example 3\n",
        "def some_func():\n",
        "    print(\"inside some_func\")\n",
        "    \n",
        "    def some_inner_func():\n",
        "        var=10\n",
        "        print(\"Inside inner function value of var:\", var)\n",
        "    some_inner_func()\n",
        "some_func()\n",
        "    "
      ],
      "execution_count": 0,
      "outputs": []
    },
    {
      "metadata": {
        "id": "2EHkFlsrVRpt",
        "colab_type": "text"
      },
      "cell_type": "markdown",
      "source": [
        "# Statement, Indentation and Comment in Python\n"
      ]
    },
    {
      "metadata": {
        "id": "kykZHPxiVRpu",
        "colab_type": "text"
      },
      "cell_type": "markdown",
      "source": [
        "Instructions written in the source code for execution are called statements. There are different types of statements in the Python programming language like Assignment statement, Conditional statement, Looping statements etc. These all help the user to get the required output. For example, n = 50 is an assignment statement.\n",
        "\n",
        "Multi-Line Statements: Statements in Python can be extended to one or more lines using parentheses (), braces {}, square brackets [], semi-colon (;), continuation character slash (\\). When the programmer needs to do long calculations and cannot fit his statements into one line, one can make use of these characters.\n",
        "Example :\n",
        "\n",
        "Declared using Continuation Character (\\):\n",
        "s = 1 + 2 + 3 + \\\n",
        "    4 + 5 + 6 + \\\n",
        "    7 + 8 + 9\n",
        "\n",
        "Declared using parentheses () :\n",
        "n = (1 * 2 * 3 + 7 + 8 + 9)\n",
        "\n",
        "Declared using square brackets [] :\n",
        "footballer = ['MESSI',\n",
        "          'NEYMAR',\n",
        "          'SUAREZ']\n",
        "\n",
        "Declared using braces {} :\n",
        "x = {1 + 2 + 3 + 4 + 5 + 6 +\n",
        "     7 + 8 + 9}\n",
        "\n",
        "Declared using semicolons(;) :\n",
        "flag = 2; ropes = 3; pole = 4\n"
      ]
    },
    {
      "metadata": {
        "id": "2rdD4SjFVRpv",
        "colab_type": "text"
      },
      "cell_type": "markdown",
      "source": [
        "# Indentation"
      ]
    },
    {
      "metadata": {
        "id": "feER3ps6VRpx",
        "colab_type": "text"
      },
      "cell_type": "markdown",
      "source": [
        "A block is a combination of all these statements. Block can be regarded as the grouping of statements for a specific purpose. Most of the programming languages like C, C++, Java use braces { } to define a block of code. One of the distinctive features of Python is its use of indentation to highlight the blocks of code. Whitespace is used for indentation in Python. All statements with the same distance to the right belong to the same block of code. If a block has to be more deeply nested, it is simply indented further to the right. You can understand it better by looking at the following lines of code:"
      ]
    },
    {
      "metadata": {
        "id": "Fdo4MixlVRpz",
        "colab_type": "code",
        "colab": {}
      },
      "cell_type": "code",
      "source": [
        "# Python program showing \n",
        "# indentation \n",
        "\n",
        "site = 'gfg'\n",
        "\n",
        "if site == 'gfg': \n",
        "\tprint('Logging on to geeksforgeeks...') \n",
        "else: \n",
        "\tprint('retype the URL.') \n",
        "print('All set !') \n"
      ],
      "execution_count": 0,
      "outputs": []
    },
    {
      "metadata": {
        "id": "jLeOe9i5VRp3",
        "colab_type": "code",
        "colab": {}
      },
      "cell_type": "code",
      "source": [
        "# Example 1\n",
        "name = 'rajeshk'\n",
        "if name == 'rajeshk':\n",
        "    print('Logging on to rajesh domain')\n",
        "    \n",
        "else:\n",
        "    print('retype the URL')\n",
        "    \n",
        "print('All set!')"
      ],
      "execution_count": 0,
      "outputs": []
    },
    {
      "metadata": {
        "id": "-9Xcw__zVRp6",
        "colab_type": "text"
      },
      "cell_type": "markdown",
      "source": [
        "The lines print(‘Logging on to geeksforgeeks…’) and print(‘retype the URL.’) are two separate code blocks. The two blocks of code in our example if-statement are both indented four spaces. The final print(‘All set!’) is not indented, and so it does not belong to the else-block.\n",
        "\n"
      ]
    },
    {
      "metadata": {
        "id": "OZ8niRrEVRp7",
        "colab_type": "code",
        "colab": {
          "base_uri": "https://localhost:8080/",
          "height": 35
        },
        "outputId": "aca498b7-e3a3-458b-f09d-c53d434e1e9d"
      },
      "cell_type": "code",
      "source": [
        "j =1\n",
        "while(j<=5):\n",
        "    print(j, end=\"\")\n",
        "    j = j+1"
      ],
      "execution_count": 32,
      "outputs": [
        {
          "output_type": "stream",
          "text": [
            "12345"
          ],
          "name": "stdout"
        }
      ]
    },
    {
      "metadata": {
        "id": "oXONKunfVRp_",
        "colab_type": "code",
        "colab": {
          "base_uri": "https://localhost:8080/",
          "height": 35
        },
        "outputId": "51a490ce-8b0a-448b-c537-e0f358b39a9b"
      },
      "cell_type": "code",
      "source": [
        "# Example1\n",
        "count=5\n",
        "while(count<=10):\n",
        "    print(count, end=\"\")\n",
        "    count=count+1"
      ],
      "execution_count": 31,
      "outputs": [
        {
          "output_type": "stream",
          "text": [
            "5678910"
          ],
          "name": "stdout"
        }
      ]
    },
    {
      "metadata": {
        "id": "58Y7ttBKVRqD",
        "colab_type": "text"
      },
      "cell_type": "markdown",
      "source": [
        "To indicate a block of code in Python, you must indent each line of the block by the same whitespace. The two blocks of code in the while loop are both indented four spaces. It is required for indicating what block of code a statement belongs to. For example, j=1 and while(j<=5): is not indented, and so it is not within while block. So, Python code structures by indentation.\n",
        "\n"
      ]
    },
    {
      "metadata": {
        "id": "1yigCLleVRqE",
        "colab_type": "text"
      },
      "cell_type": "markdown",
      "source": [
        "Comments\n",
        "Python developers often make use of the comment system as, without the use of it, things can get real confusing, real fast. Comments are the useful information that the developers provide to make the reader understand the source code. It explains the logic or a part of it used in the code. Comments are usually helpful to someone maintaining or enhancing your code when you are no longer around to answer questions about it. These are often cited as a useful programming convention that does not take part in the output of the program but improves the readability of the whole program. There are two types of comment in Python:\n",
        "Single line comments : Python single line comment starts with hashtag symbol with no white spaces (#) and lasts till the end of the line. If the comment exceeds one line then put a hashtag on the next line and continue the comment. Python’s single line comments are proved useful for supplying short explanations for variables, function declarations, and expressions. See the following code snippet demonstrating single line comment:\n",
        "\n",
        "Code 1:"
      ]
    },
    {
      "metadata": {
        "id": "aC6hqJWmVRqF",
        "colab_type": "code",
        "colab": {}
      },
      "cell_type": "code",
      "source": [
        "# This is a comment \n",
        "# Print “GeeksforGeeks !” to console \n",
        "print(\"GeeksforGeeks\") \n"
      ],
      "execution_count": 0,
      "outputs": []
    },
    {
      "metadata": {
        "id": "DhcyPcfBVRqL",
        "colab_type": "code",
        "colab": {}
      },
      "cell_type": "code",
      "source": [
        "a, b = 1, 3 # Declaring two integers \n",
        "sum = a + b # adding two integers \n",
        "print(sum) # displaying the output \n"
      ],
      "execution_count": 0,
      "outputs": []
    },
    {
      "metadata": {
        "id": "Wplb2DT1VRqQ",
        "colab_type": "text"
      },
      "cell_type": "markdown",
      "source": [
        "Multi-line string as comment : Python multi-line comment is a piece of text enclosed in a delimiter (\"\"\") on each end of the comment. Again there should be no white space between delimiter (\"\"\"). They are useful when the comment text does not fit into one line; therefore needs to span across lines. Multi-line comments or paragraphs serve as documentation for others reading your code. See the following code snippet demonstrating multi-line comment:\n",
        "\n",
        "Code 1:"
      ]
    },
    {
      "metadata": {
        "id": "MF3Fpa4xVRqR",
        "colab_type": "code",
        "colab": {}
      },
      "cell_type": "code",
      "source": [
        "\"\"\" \n",
        "This would be a multiline comment in Python that \n",
        "spans several lines and describes geeksforgeeks. \n",
        "A Computer Science portal for geeks. It contains \n",
        "well written, well thought \n",
        "and well-explained computer science \n",
        "and programming articles, \n",
        "quizzes and more. \n",
        "… \n",
        "\"\"\"\n",
        "print(\"GeeksForGeeks\") \n"
      ],
      "execution_count": 0,
      "outputs": []
    },
    {
      "metadata": {
        "id": "JDTTYs0_VRqY",
        "colab_type": "code",
        "colab": {}
      },
      "cell_type": "code",
      "source": [
        "'''This article on geeksforgeeks gives you a \n",
        "perfect example of \n",
        "multi-line comments'''\n",
        "\n",
        "print(\"GeeksForGeeks\") \n"
      ],
      "execution_count": 0,
      "outputs": []
    },
    {
      "metadata": {
        "id": "BDJ3vZS7VRqe",
        "colab_type": "text"
      },
      "cell_type": "markdown",
      "source": [
        "# Structuring Python Programs"
      ]
    },
    {
      "metadata": {
        "id": "aYXbV8aoVRqg",
        "colab_type": "text"
      },
      "cell_type": "markdown",
      "source": [
        "In this article, you would come to know about proper structuring and formatting your python programs.\n",
        "\n",
        "Python Statements In general, the interpreter reads and executes the statements line by line i.e sequentially. Though, there are some statements that can alter this behavior like conditional statements.\n",
        "            Mostly, python statements are written in such a format that one statement is only written in a single line. The interpreter considers the ‘new line character’ as the terminator of one instruction. But, writing multiple statements per line is also possible that you can find below.\n",
        "Examples:"
      ]
    },
    {
      "metadata": {
        "id": "-uN_kGfJVRqi",
        "colab_type": "code",
        "colab": {}
      },
      "cell_type": "code",
      "source": [
        "# Example 1 \n",
        "\n",
        "print('Welcome to the tech world') \n"
      ],
      "execution_count": 0,
      "outputs": []
    },
    {
      "metadata": {
        "id": "GHIypZ4UVRqn",
        "colab_type": "code",
        "colab": {}
      },
      "cell_type": "code",
      "source": [
        "# Example 1\n",
        "# Example 2 \n",
        "\n",
        "x = [1, 2, 3, 4] \n",
        "\n",
        "# x[1:3] means that start from the index \n",
        "# 1 and go upto the index 2 \n",
        "print(x[1:3]) \n",
        "\n",
        "\"\"\" In the above mentioned format, the first \n",
        "index is included, but the last index is not \n",
        "included.\"\"\"\n"
      ],
      "execution_count": 0,
      "outputs": []
    },
    {
      "metadata": {
        "id": "JTtEsHiHVRqr",
        "colab_type": "code",
        "colab": {}
      },
      "cell_type": "code",
      "source": [
        "# Example 2\n",
        "y = [1,2,2,3,4,5,6,5]\n",
        "print(y[2:5])"
      ],
      "execution_count": 0,
      "outputs": []
    },
    {
      "metadata": {
        "id": "hLP1yJJaVRqu",
        "colab_type": "text"
      },
      "cell_type": "markdown",
      "source": [
        "Multiple Statements per Line We can also write multiple statements per line, but it is not a good practice as it reduces the readability of the code. Try to avoid writing multiple statements in a single line. But, still you can write multiple lines by terminating one statement with the help of ‘;’. ‘;’ is used as the terminator of one statement in this case.\n",
        "        For Example, consider the following code."
      ]
    },
    {
      "metadata": {
        "id": "eVcgQt5IVRqv",
        "colab_type": "code",
        "colab": {}
      },
      "cell_type": "code",
      "source": [
        "# Example \n",
        "\n",
        "a = 10; b = 20; c = b + a \n",
        "\n",
        "print(a); print(b); print(c) \n"
      ],
      "execution_count": 0,
      "outputs": []
    },
    {
      "metadata": {
        "id": "yOxURr6LVRqy",
        "colab_type": "code",
        "colab": {}
      },
      "cell_type": "code",
      "source": [
        "# Example 1\n",
        "name = \"peter, john\";surname =\"mark\"\n",
        "print(name);print(surname)"
      ],
      "execution_count": 0,
      "outputs": []
    },
    {
      "metadata": {
        "id": "_C036PlCVRq2",
        "colab_type": "text"
      },
      "cell_type": "markdown",
      "source": [
        "Line Continuation to avoid left and right scrolling \n",
        "Some statements may become very long and may force you to scroll the screen left and right frequently. You can fit your code in such a way that you do not have to scroll here and there. Python allows you to write a single statement in multiple lines, also known as line continuation. Line continuation enhances readability as well.\n",
        "\n",
        "\n"
      ]
    },
    {
      "metadata": {
        "id": "3BRjhLbXVRq3",
        "colab_type": "raw"
      },
      "cell_type": "markdown",
      "source": [
        "# Bad Practice as width of this code is\n",
        "# too much.\n",
        "\n",
        "#code\n",
        "x = 10\n",
        "y = 20\n",
        "z = 30\n",
        "no_of_teachers = x\n",
        "no_of_male_students = y\n",
        "no_of_female_students = z\n",
        "\n",
        "if (no_of_teachers == 10 && no_of_female_students == 30 && no_of_male_students == 20 && (x + y) == 30):\n",
        "        print('The course is valid')"
      ]
    },
    {
      "metadata": {
        "id": "-t9jRo6yVRq4",
        "colab_type": "text"
      },
      "cell_type": "markdown",
      "source": [
        "Types of Line Continuation \n",
        "In general, there are two types of line continuation\n",
        "\n",
        "Implicit Line Continuation \n",
        "This is the most straightforward technique in writing a statement that spans multiple lines.\n",
        "Any statement containing opening parentheses (‘(‘), brackets (‘[‘), or curly braces (‘{‘) is presumed to be incomplete until all matching parentheses, square brackets, and curly braces have been encountered. Until then, the statement can be implicitly continued across lines without raising an error.\n",
        "Examples:"
      ]
    },
    {
      "metadata": {
        "id": "uMTyFERUVRq7",
        "colab_type": "code",
        "colab": {}
      },
      "cell_type": "code",
      "source": [
        "# Example 1 \n",
        "\n",
        "# The following code is valid \n",
        "a = [ \n",
        "\t[1, 2, 3], \n",
        "\t[3, 4, 5], \n",
        "\t[5, 6, 7] \n",
        "\t] \n",
        "\n",
        "print(a) \n",
        "a =[\n",
        "    \"rajesh\",\n",
        "    \"peter\",\n",
        "    \"john\"\n",
        "   ]\n",
        "print(a)\n",
        "\n",
        "a =(\n",
        "    \"rajesh\",\n",
        "    \"peter\",\n",
        "    \"john\"\n",
        "   )\n",
        "print(a)"
      ],
      "execution_count": 0,
      "outputs": []
    },
    {
      "metadata": {
        "id": "7NIpu_yAVRrO",
        "colab_type": "code",
        "colab": {}
      },
      "cell_type": "code",
      "source": [
        "# Example 2 \n",
        "# The following code is also valid \n",
        "\n",
        "person_1 = 18\n",
        "person_2 = 20\n",
        "person_3 = 12\n",
        "\n",
        "if ( \n",
        "person_1 >= 18 and\n",
        "person_2 >= 18 and\n",
        "person_3 < 18\n",
        "): \n",
        "\tprint('2 Persons should have ID Cards') \n"
      ],
      "execution_count": 0,
      "outputs": []
    },
    {
      "metadata": {
        "id": "l86BlfpXVRrT",
        "colab_type": "code",
        "colab": {}
      },
      "cell_type": "code",
      "source": [
        "# Example 2\n",
        "person1=18\n",
        "person2=20\n",
        "person3=12\n",
        "\n",
        "if(\n",
        "    person1<=18 or\n",
        "    person2<=20 or\n",
        "    person3>=12\n",
        "  ):\n",
        "    print('1 persons should have ID cards')"
      ],
      "execution_count": 0,
      "outputs": []
    },
    {
      "metadata": {
        "id": "5G0UABWiVRrc",
        "colab_type": "code",
        "colab": {}
      },
      "cell_type": "code",
      "source": [
        "# Example 3\n",
        "\n",
        "person1 = \"rajeshkumar\"\n",
        "person2 = \"johnPaul\"\n",
        "\n",
        "if('a' in person1 and person2):\n",
        "    print(\"they're eligible for the meeting\")\n",
        "    \n",
        "type(person1)\n",
        "\n",
        "for i in person1, person2:\n",
        "    print(i, end=\"\" )\n",
        "    \n",
        "\n",
        "\n",
        "   \n"
      ],
      "execution_count": 0,
      "outputs": []
    },
    {
      "metadata": {
        "id": "K9kCCocCVRrk",
        "colab_type": "text"
      },
      "cell_type": "markdown",
      "source": [
        "Explicit Line Continuation \n",
        "Explicit Line joining is used mostly when implicit line joining is not applicable. In this method, you have to use a character that helps the interpreter to understand that the particular statement is spanning more than one lines.\n",
        "        Backslash (\\) is used to indicate that a statement spans more than one line. The point is to be noted that ” must be the last character in that line, even white-space is not allowed.\n",
        "See the following example for clarification"
      ]
    },
    {
      "metadata": {
        "id": "EKvSmfcBVRrl",
        "colab_type": "code",
        "colab": {}
      },
      "cell_type": "code",
      "source": [
        "# Example 2\n",
        "y = \\\n",
        "1+2\\\n",
        "+3+4\\\n",
        "+10\n",
        "\n",
        "print(y)"
      ],
      "execution_count": 0,
      "outputs": []
    },
    {
      "metadata": {
        "id": "V-OcfdMoVRro",
        "colab_type": "text"
      },
      "cell_type": "markdown",
      "source": [
        "Explicit Line Continuation \n",
        "Explicit Line joining is used mostly when implicit line joining is not applicable. In this method, you have to use a character that helps the interpreter to understand that the particular statement is spanning more than one lines.\n",
        "        Backslash (\\) is used to indicate that a statement spans more than one line. The point is to be noted that ” must be the last character in that line, even white-space is not allowed.\n",
        "See the following example for clarification"
      ]
    },
    {
      "metadata": {
        "id": "TbR0CPwHVRrp",
        "colab_type": "text"
      },
      "cell_type": "markdown",
      "source": [
        "Comments in Python \n",
        "Writing comments in the code are very important and they help in code readability and also tell more about the code. It helps you to write details against a statement or a chunk of code. Interpreter ignores the comments and does not count them in commands. In this section, we’ll learn how to write comments in Python.\n",
        "        Symbols used for writing comments include Hash (#) or Triple Double Quotation marks(“””). Hash is used in writing single line comments that do not span multiple lines. Triple Quotation Marks are used to write multiple line comments. Three triple quotation marks to start the comment and again three quotation marks to end the comment.\n",
        "Consider the following examples:"
      ]
    },
    {
      "metadata": {
        "id": "JmUP4qf-VRrq",
        "colab_type": "code",
        "colab": {}
      },
      "cell_type": "code",
      "source": [
        "# Example 1 \n",
        "\n",
        "####### This example will print Hello World ####### print('Hello World') # This is a comment \n"
      ],
      "execution_count": 0,
      "outputs": []
    },
    {
      "metadata": {
        "id": "yyLtPOg3VRrs",
        "colab_type": "code",
        "colab": {}
      },
      "cell_type": "code",
      "source": [
        "# Example 2 \n",
        "\n",
        "\"\"\" This example will demonstrate \n",
        "\tmultiple comments \"\"\"\n",
        "\n",
        "\"\"\" The following \n",
        "\ta variable contains the \n",
        "\tstring 'How old are you?' \n",
        "\"\"\"\n",
        "a = 'How old are you?'\n",
        "\n",
        "\"\"\" The following statement prints \n",
        "\twhat's inside the variable a \n",
        "\"\"\"\n",
        "print(a) \n"
      ],
      "execution_count": 0,
      "outputs": []
    },
    {
      "metadata": {
        "id": "OveVF0b6VRrv",
        "colab_type": "text"
      },
      "cell_type": "markdown",
      "source": [
        "Note Do note that Hash (#) inside a string does not make it a comment. Consider the following example for demonstration."
      ]
    },
    {
      "metadata": {
        "id": "vzhHEmfdVRrw",
        "colab_type": "code",
        "colab": {}
      },
      "cell_type": "code",
      "source": [
        "# Example \n",
        "\n",
        "\"\"\" The following statement prints the string stored \n",
        "\tin the variable \"\"\"\n",
        "\n",
        "a = 'This is # not a comment #'\n",
        "print(a) # Prints the string stored in a \n"
      ],
      "execution_count": 0,
      "outputs": []
    },
    {
      "metadata": {
        "id": "jNGP86H9VRr2",
        "colab_type": "code",
        "colab": {}
      },
      "cell_type": "code",
      "source": [
        "# Example 1 \n",
        "\n",
        "# This is correct but whitespace can improve readability \n",
        "\n",
        "a = 1-2 # Better way is a = 1 - 2 \n",
        "\n",
        "print(a) \n"
      ],
      "execution_count": 0,
      "outputs": []
    },
    {
      "metadata": {
        "id": "C1cBIf-xVRr5",
        "colab_type": "code",
        "colab": {}
      },
      "cell_type": "code",
      "source": [
        "# Example 2 \n",
        "\n",
        "# This is correct \n",
        "# Whitespace here can improve readability. \n",
        "x = 10\n",
        "flag =(x == 10)and(x<12) \n",
        "print(flag) \n",
        "\n",
        "\"\"\" Readable form could be as follows \n",
        "x = 10 \n",
        "flag = (x == 10) and (x < 12) \n",
        "print(flag) \n",
        "\"\"\"\n",
        "\n",
        "# Try the more readable code yourself \n"
      ],
      "execution_count": 0,
      "outputs": []
    },
    {
      "metadata": {
        "id": "CRbPLFKQVRr-",
        "colab_type": "text"
      },
      "cell_type": "markdown",
      "source": [
        "Whitespaces are necessary in separating the keywords from the variables or other keywords. Consider the following example."
      ]
    },
    {
      "metadata": {
        "id": "erJsJpqPVRr_",
        "colab_type": "code",
        "colab": {}
      },
      "cell_type": "code",
      "source": [
        "# Example \n",
        "\n",
        "x = [1, 2, 3] \n",
        "y = 2\n",
        "\n",
        "\"\"\" Following is incorrect, and will generate syntax error \n",
        "a = yin x \n",
        "\"\"\"\n",
        "\n",
        "# Corrected version is written as \n",
        "a = y in x \n",
        "print(a) \n"
      ],
      "execution_count": 0,
      "outputs": []
    },
    {
      "metadata": {
        "id": "vHNpb_WxVRsC",
        "colab_type": "text"
      },
      "cell_type": "markdown",
      "source": [
        "Whitespaces as Indentation \n",
        "Python’s syntax is quite easy, but still you have to take some care in writing the code. Indentation is used in writing python codes.\n",
        "        Whitespaces before a statement have significant role and are used in indentation. Whitespace before a statement can have a different meaning. Let’s try an example."
      ]
    },
    {
      "metadata": {
        "id": "DqcSSNW0VRsD",
        "colab_type": "code",
        "colab": {}
      },
      "cell_type": "code",
      "source": [
        "# Example \n",
        "\n",
        "print('foo') # Correct \n",
        "\n",
        "print('foo') # This will generate an error \n",
        "\n",
        "# The error would be somewhat 'unexpected indent' \n"
      ],
      "execution_count": 0,
      "outputs": []
    },
    {
      "metadata": {
        "id": "F-T-fJM2VRsK",
        "colab_type": "text"
      },
      "cell_type": "markdown",
      "source": [
        "Leading whitespaces are used to determine the grouping of the statements like in loops or control structures etc.\n",
        "Example:"
      ]
    },
    {
      "metadata": {
        "id": "nT74V_lGVRsL",
        "colab_type": "code",
        "colab": {}
      },
      "cell_type": "code",
      "source": [
        "# Example \n",
        "\n",
        "x = 10\n",
        "\n",
        "while(x != 0):# while x=0 it means loop of x (x=10-2=8) is running untill it will zero\n",
        "    if(x > 5):# Line 1 \n",
        "        print('x > 5') # Line 2 \n",
        "    else:\t # Line 3 \n",
        "        print('x < 5') # Line 4 \n",
        "    x -= 2\t # Line 5 # it means x= x-2(subtract left operand from right operand)\n",
        "\n",
        "\"\"\" \n",
        "Lines 1, 3, 5 are on same level \n",
        "Line 2 will only be executed if if condition becomes true. \n",
        "Line 4 will only be executed if if condition becomes false. \n",
        "\"\"\"\n",
        "\"\"\"\n",
        "Looping:\n",
        "loop hit 1: x=8 (x>5)=1 time greater than 5\n",
        "loop hit 2: x=7 (x>5)=1 time greater than 5{so here 3 time greater than 5}\n",
        "loop hit 3: x=6 (x>5)=1 time greater than 5\n",
        "loop hit 4: x=5 (x=5)= x=5 return to else statement because condition is over\n",
        "hitting else\n",
        "loop hit 5: x=2(here x=4-2=2) (x<5)=1 time lesser than 5\n",
        "loop hit 5: x=1(x<5)=1 time lesser than 5{here 2 time lesser than 5}\n",
        "loop hit 5: x=0 condition is over\n",
        "\n",
        "\"\"\"\n"
      ],
      "execution_count": 0,
      "outputs": []
    },
    {
      "metadata": {
        "id": "ZIeO6SMmVRsO",
        "colab_type": "text"
      },
      "cell_type": "markdown",
      "source": [
        "# How to check if a string is a valid keyword in Python?"
      ]
    },
    {
      "metadata": {
        "id": "Zi1SMOW8VRsP",
        "colab_type": "text"
      },
      "cell_type": "markdown",
      "source": [
        "Defining a Keyword\n",
        "\n",
        "In programming, a keyword is a “reserved word” by the language which convey a special meaning to the interpreter. It may be a command or a parameter. Keywords cannot be used as a variable name in the program snippet.\n",
        "\n",
        "Keywords in Python:  Python language also reserves some of keywords that convey special meaning. Knowledge of these is necessary part of learning this language. Below is list of keywords registered by python .\n",
        "\n",
        "False, elif, lambda,\n",
        "None, else, nonlocal,\n",
        "True, except, not,\n",
        "and, finally, or,\n",
        "as, for, pass,\n",
        "assert, from, raise,\n",
        "break, global, return,\n",
        "class, if, try,\n",
        "continue, import, while,\n",
        "def, in, with,\n",
        "del, is, yield,\n",
        "\n",
        "How to check if a string is keyword?\n",
        "Python in its language defines an inbuilt module “keyword” which handles certain operations related to keywords. A function “iskeyword()” checks if a string is keyword or not. Returns true if a string is keyword, else returns false."
      ]
    },
    {
      "metadata": {
        "id": "9gf191drVRsQ",
        "colab_type": "code",
        "colab": {}
      },
      "cell_type": "code",
      "source": [
        "#Python code to demonstrate working of iskeyword() \n",
        "\n",
        "# importing \"keyword\" for keyword operations \n",
        "import keyword \n",
        "\n",
        "# initializing strings for testing \n",
        "s = \"for\"\n",
        "s1 = \"geeksforgeeks\"\n",
        "s2 = \"elif\"\n",
        "s3 = \"elseif\"\n",
        "s4 = \"nikhil\"\n",
        "s5 = \"assert\"\n",
        "s6 = \"shambhavi\"\n",
        "s7 = \"True\"\n",
        "s8 = \"False\"\n",
        "s9 = \"akshat\"\n",
        "s10 = \"akash\"\n",
        "s11 = \"break\"\n",
        "s12 = \"ashty\"\n",
        "s13 = \"lambda\"\n",
        "s14 = \"suman\"\n",
        "s15 = \"try\"\n",
        "s16 = \"vaishnavi\"\n",
        "\n",
        "# checking which are keywords \n",
        "if keyword.iskeyword(s): \n",
        "\t\tprint ( s + \" is a python keyword\") \n",
        "else : print ( s + \" is not a python keyword\") \n",
        "\n",
        "if keyword.iskeyword(s1): \n",
        "\t\tprint ( s1 + \" is a python keyword\") \n",
        "else : print ( s1 + \" is not a python keyword\") \n",
        "\n",
        "if keyword.iskeyword(s2): \n",
        "\t\tprint ( s2 + \" is a python keyword\") \n",
        "else : print ( s2 + \" is not a python keyword\") \n",
        "\n",
        "if keyword.iskeyword(s3): \n",
        "\t\tprint ( s3 + \" is a python keyword\") \n",
        "else : print ( s3 + \" is not a python keyword\") \n",
        "\n",
        "if keyword.iskeyword(s4): \n",
        "\t\tprint ( s4 + \" is a python keyword\") \n",
        "else : print ( s4 + \" is not a python keyword\") \n",
        "\n",
        "if keyword.iskeyword(s5): \n",
        "\t\tprint ( s5 + \" is a python keyword\") \n",
        "else : print ( s5 + \" is not a python keyword\") \n",
        "\n",
        "if keyword.iskeyword(s6): \n",
        "\t\tprint ( s6 + \" is a python keyword\") \n",
        "else : print ( s6 + \" is not a python keyword\") \n",
        "\n",
        "if keyword.iskeyword(s7): \n",
        "\t\tprint ( s7 + \" is a python keyword\") \n",
        "else : print ( s7 + \" is not a python keyword\") \n",
        "\n",
        "if keyword.iskeyword(s8): \n",
        "\t\tprint ( s8 + \" is a python keyword\") \n",
        "else : print ( s8 + \" is not a python keyword\") \n",
        "\n",
        "if keyword.iskeyword(s9): \n",
        "\t\tprint ( s9 + \" is a python keyword\") \n",
        "else : print ( s9 + \" is not a python keyword\") \n",
        "\n",
        "if keyword.iskeyword(s10): \n",
        "\t\tprint ( s10 + \" is a python keyword\") \n",
        "else : print ( s10 + \" is not a python keyword\") \n",
        "\n",
        "if keyword.iskeyword(s11): \n",
        "\t\tprint ( s11 + \" is a python keyword\") \n",
        "else : print ( s11 + \" is not a python keyword\") \n",
        "\n",
        "if keyword.iskeyword(s12): \n",
        "\t\tprint ( s12 + \" is a python keyword\") \n",
        "else : print ( s12 + \" is not a python keyword\") \n",
        "\n",
        "if keyword.iskeyword(s13): \n",
        "\t\tprint ( s13 + \" is a python keyword\") \n",
        "else : print ( s13 + \" is not a python keyword\") \n",
        "\n",
        "if keyword.iskeyword(s14): \n",
        "\t\tprint ( s14 + \" is a python keyword\") \n",
        "else : print ( s14 + \" is not a python keyword\") \n",
        "\n",
        "if keyword.iskeyword(s15): \n",
        "\t\tprint ( s15 + \" is a python keyword\") \n",
        "else : print ( s15 + \" is not a python keyword\") \n",
        "\n",
        "if keyword.iskeyword(s16): \n",
        "\t\tprint ( s16 + \" is a python keyword\") \n",
        "else : print ( s16 + \" is not a python keyword\") \n"
      ],
      "execution_count": 0,
      "outputs": []
    },
    {
      "metadata": {
        "id": "Priripa8VRsS",
        "colab_type": "text"
      },
      "cell_type": "markdown",
      "source": [
        "How to print list of all keywords\n",
        "\n",
        "Sometimes, remembering all the keywords can be a difficult task while assigning variable names. Hence a function “kwlist()” is provided in “keyword” module which prints all the 33 python keywords."
      ]
    },
    {
      "metadata": {
        "id": "LGViQaPGVRsT",
        "colab_type": "code",
        "colab": {}
      },
      "cell_type": "code",
      "source": [
        "#Python code to demonstrate working of iskeyword() \n",
        "\n",
        "# importing \"keyword\" for keyword operations \n",
        "import keyword \n",
        "\n",
        "# printing all keywords at once using \"kwlist()\" \n",
        "print (\"The list of keywords is : \") \n",
        "print (keyword.kwlist) \n"
      ],
      "execution_count": 0,
      "outputs": []
    },
    {
      "metadata": {
        "id": "wLp_9kQlVRsW",
        "colab_type": "text"
      },
      "cell_type": "markdown",
      "source": [
        "# How to print without newline in Python?"
      ]
    },
    {
      "metadata": {
        "id": "Gogh8viNVRsX",
        "colab_type": "text"
      },
      "cell_type": "markdown",
      "source": [
        "Generally people switching from C/C++ to Python wonder how to print two or more variables or statements without going into a new line in python. Since the python print() function by default ends with newline. Python has a predefined format if you use print(a_variable) then it will go to next line automatically.\n",
        "For examples:"
      ]
    },
    {
      "metadata": {
        "id": "G-6FB3OUVRsa",
        "colab_type": "code",
        "colab": {}
      },
      "cell_type": "code",
      "source": [
        "# Python 2 code for printing \n",
        "# on the same line printing \n",
        "# geeks and geeksforgeeks \n",
        "# in the same line \n",
        "\n",
        "print(\"geeks\")\n",
        "print(\"geeksforgeeks\")\n",
        "\n",
        "\n",
        "# array \n",
        "a = [1, 2, 3, 4] \n",
        "\n",
        "# printing a element in same \n",
        "# line \n",
        "for i in range(4):\n",
        "    \n",
        "    print(a[i], end=\"\")\n"
      ],
      "execution_count": 0,
      "outputs": []
    },
    {
      "metadata": {
        "id": "Jpn4rSSEVRsf",
        "colab_type": "text"
      },
      "cell_type": "markdown",
      "source": [
        "# Nested If"
      ]
    },
    {
      "metadata": {
        "id": "n2AVs4uzVRsg",
        "colab_type": "code",
        "colab": {
          "base_uri": "https://localhost:8080/",
          "height": 87
        },
        "outputId": "b40733d2-6b7e-4030-94f6-94d015229873"
      },
      "cell_type": "code",
      "source": [
        "i=10\n",
        "if (i == 10):\n",
        "    if( i <12):\n",
        "        print(\"i value is lesser than 12: \",+i)\n",
        "    if (i < 15):\n",
        "        print(\"i value is lesser than 15 too: \",+i)\n",
        "    else:\n",
        "        print(\"i value is greater than 12: \",+i)\n",
        "        \n",
        "        \n",
        "# Example 2\n",
        "\n",
        "a = 100\n",
        "b = 200\n",
        "c = a+b\n",
        "if(c == 300):\n",
        "  if(c<500):\n",
        "    print(\"c value is lesser than 500:\", +c)\n",
        "    \n",
        "  if(c<400):\n",
        "    print(\"c value is lesser than 400 too: \", +c)\n",
        "    \n",
        "  else:\n",
        "    print(\"c value is greater than 500: \", +c)"
      ],
      "execution_count": 34,
      "outputs": [
        {
          "output_type": "stream",
          "text": [
            "i value is lesser than 12:  10\n",
            "i value is lesser than 15 too:  10\n",
            "c value is lesser than 500: 300\n",
            "c value is lesser than 400 too:  300\n"
          ],
          "name": "stdout"
        }
      ]
    },
    {
      "metadata": {
        "id": "qEAB4NTCVRsj",
        "colab_type": "text"
      },
      "cell_type": "markdown",
      "source": [
        "# if-elif-else ladder"
      ]
    },
    {
      "metadata": {
        "id": "4hzBch5JVRsl",
        "colab_type": "code",
        "colab": {}
      },
      "cell_type": "code",
      "source": [
        "i = 10\n",
        "if (i == 10):\n",
        "    print(\"i is 10\")\n",
        "elif (i == 16):\n",
        "    print(\"i is 15\")\n",
        "elif (i == 20):\n",
        "    print(\"i is 20\")\n",
        "else:\n",
        "    print(\"i is not a value\")"
      ],
      "execution_count": 0,
      "outputs": []
    },
    {
      "metadata": {
        "id": "txSOS_3wVRsp",
        "colab_type": "code",
        "colab": {}
      },
      "cell_type": "code",
      "source": [
        "print('rajesh')"
      ],
      "execution_count": 0,
      "outputs": []
    },
    {
      "metadata": {
        "id": "LjsX_30fVRss",
        "colab_type": "code",
        "outputId": "82f09db2-7334-4403-a791-d8c9c246c6bb",
        "colab": {}
      },
      "cell_type": "code",
      "source": [
        "def add(num1, num2):\n",
        "    return num1+num2\n",
        "\n",
        "def subtract(num1, num2):\n",
        "    return num1-num2\n",
        "def multiply(num1, num2):\n",
        "    return num1*num2\n",
        "def division(num1, num2):\n",
        "    return num1/num2\n",
        "print(\n",
        "    \"please select the operation -\\n\"\\\n",
        "    \"1. add\\n\" \\\n",
        "    \"2. subtract\\n\"\\\n",
        "    \"3. multiply\\n\"\\\n",
        "    \"4. division\\n \"\n",
        "     )\n",
        "select=input(\"select operations from 1,2,3,4\")\n",
        "number1=int(input(\"Enter first number: \"))\n",
        "number2=int(input(\"Enter second number: \"))\n",
        "if select=='1':\n",
        "    print(number1, \"+\", number2,\"=\", add(number1,number2))\n",
        "elif select=='2':\n",
        "    print(number1, \"-\", number2, \"=\", subtract(number1,number2))\n",
        "elif select=='3':\n",
        "    print(number1, \"*\", number2,\"=\", multiply(number1,number2))\n",
        "elif select=='4':\n",
        "    print(number1, \"/\", number2,\"=\", multiply(number1,number2))\n",
        "    \n",
        "else:\n",
        "    print(\"this is not a valid number\")"
      ],
      "execution_count": 0,
      "outputs": [
        {
          "output_type": "stream",
          "text": [
            "please select the operation -\n",
            "1. add\n",
            "2. subtract\n",
            "3. multiply\n",
            "4. division\n",
            " \n"
          ],
          "name": "stdout"
        },
        {
          "output_type": "stream",
          "text": [
            "select operations from 1,2,3,4 3\n",
            "Enter first number:  5\n",
            "Enter second number:  6\n"
          ],
          "name": "stdin"
        },
        {
          "output_type": "stream",
          "text": [
            "5 * 6 = 30\n"
          ],
          "name": "stdout"
        }
      ]
    },
    {
      "metadata": {
        "id": "JM75_e4SVRsv",
        "colab_type": "code",
        "outputId": "0a700650-5da0-4cf2-ace6-fc437af8feda",
        "colab": {}
      },
      "cell_type": "code",
      "source": [
        "# Example2 of calculator\n",
        "\n",
        "def add(num1, num2):\n",
        "    return num1 + num2\n",
        "def subtract(num1, num2):\n",
        "    return num1 - num2\n",
        "def multiply(num1, num2):\n",
        "    return num1 * num2\n",
        "def division(num1, num2):\n",
        "    return num1 / num2\n",
        "\n",
        "print(\n",
        "    \"Please select the operations: \\n\"\\\n",
        "    \"1. Add\\n\"\\\n",
        "    \"2. Subtract\\n\"\\\n",
        "    \"3. Multiply\\n\"\\\n",
        "    \"4. Division\\n\"\n",
        "\n",
        "    )\n",
        "\n",
        "select = input(\"plese select the operations from 1,2,3,4\")\n",
        "number1=int(input(\"Enter your first values:\"))\n",
        "number2=int(input(\"Enter your second value:\"))\n",
        "if select =='1':\n",
        "    print(number1, \"+\", number2,\"=\", add(number1, number2))\n",
        "elif select=='2':\n",
        "    print(number1, \"-\", number2,\"=\", subtract(number1, number2) )\n",
        "elif select=='3':\n",
        "    print(number1, \"*\", number2,\"=\", multiply(number1, number2) )\n",
        "elif select=='4':\n",
        "    print(number1, \"/\", number2,\"=\", division(number1, number2) )\n",
        "    \n",
        "else:\n",
        "    \n",
        "    print(\"This is not a valid\" )"
      ],
      "execution_count": 0,
      "outputs": [
        {
          "output_type": "stream",
          "text": [
            "Please select the operations: \n",
            "1. Add\n",
            "2. Subtract\n",
            "3. Multiply\n",
            "4. Division\n",
            "\n"
          ],
          "name": "stdout"
        },
        {
          "output_type": "stream",
          "text": [
            "plese select the operations from 1,2,3,4 4\n",
            "Enter your first values: 4\n",
            "Enter your second value: 2\n"
          ],
          "name": "stdin"
        },
        {
          "output_type": "stream",
          "text": [
            "4 / 2 = 2.0\n"
          ],
          "name": "stdout"
        }
      ]
    },
    {
      "metadata": {
        "id": "B7g1PL8GVRsy",
        "colab_type": "text"
      },
      "cell_type": "markdown",
      "source": [
        "# Basic calculator program using Python"
      ]
    },
    {
      "metadata": {
        "id": "d60uqRWHVRsz",
        "colab_type": "text"
      },
      "cell_type": "markdown",
      "source": [
        "Create a simple calculator which can perform basic arithmetic operations like addition, subtraction, multiplication or division depending upon the user input.\n",
        "Approach :\n",
        "\n",
        "User choose the desired operation. Options 1, 2, 3 and 4 are valid.\n",
        "Two numbers are taken and an if…elif…else branching is used to execute a particular section.\n",
        "Using functions add(), subtract(), multiply() and divide() evaluate respective operations.\n",
        "\n",
        "\n"
      ]
    },
    {
      "metadata": {
        "id": "AATQjGj-VRs0",
        "colab_type": "raw"
      },
      "cell_type": "markdown",
      "source": [
        "Example :\n",
        "\n",
        "Please select operation -\n",
        "1. Add\n",
        "2. Subtract\n",
        "3. Multiply\n",
        "4. Divide\n",
        "Select operations form 1, 2, 3, 4 : 1\n",
        "Enter first number : 20\n",
        "Enter second number : 13\n",
        "20 + 13 = 33"
      ]
    },
    {
      "metadata": {
        "id": "nPMQcHuVVRs1",
        "colab_type": "code",
        "outputId": "cbcc7faf-38dd-494a-ccf4-b02fd9bde11a",
        "colab": {}
      },
      "cell_type": "code",
      "source": [
        "# Python program for simple calculator \n",
        "\n",
        "# Function to add two numbers \n",
        "def add(num1, num2): \n",
        "\treturn num1 + num2 \n",
        "\n",
        "# Function to subtract two numbers \n",
        "def subtract(num1, num2): \n",
        "\treturn num1 - num2 \n",
        "\n",
        "# Function to multiply two numbers \n",
        "def multiply(num1, num2): \n",
        "\treturn num1 * num2 \n",
        "\n",
        "# Function to divide two numbers \n",
        "def divide(num1, num2): \n",
        "\treturn num1 / num2 \n",
        "\n",
        "print(\n",
        "    \"Please select the operations: \\n\"\\\n",
        "    \"1. Add\\n\"\\\n",
        "    \"2. Subtract\\n\"\\\n",
        "    \"3. Multiply\\n\"\\\n",
        "    \"4. Division\\n\"\n",
        "\n",
        "    )\n",
        "\n",
        "\n",
        "\n",
        "\n",
        "# Take input from the user \n",
        "select = input(\"Select operations form 1, 2, 3, 4 :\") \n",
        "\n",
        "number_1 = int(input(\"Enter first number: \")) \n",
        "number_2 = int(input(\"Enter second number: \")) \n",
        "\n",
        "if select == '1': \n",
        "\tprint(number_1, \"+\", number_2, \"=\", \n",
        "\t\t\t\t\tadd(number_1, number_2)) \n",
        "\n",
        "elif select == '2': \n",
        "\tprint(number_1, \"-\", number_2, \"=\", \n",
        "\t\t\t\t\tsubtract(number_1, number_2)) \n",
        "\n",
        "elif select == '3': \n",
        "\tprint(number_1, \"*\", number_2, \"=\", \n",
        "\t\t\t\t\tmultiply(number_1, number_2)) \n",
        "\n",
        "elif select == '4': \n",
        "\tprint(number_1, \"/\", number_2, \"=\", \n",
        "\t\t\t\t\tdivide(number_1, number_2)) \n",
        "else: \n",
        "\tprint(\"Invalid input\") \n"
      ],
      "execution_count": 0,
      "outputs": [
        {
          "output_type": "stream",
          "text": [
            "Please select the operations: \n",
            "1. Add\n",
            "2. Subtract\n",
            "3. Multiply\n",
            "4. Division\n",
            "\n"
          ],
          "name": "stdout"
        },
        {
          "output_type": "stream",
          "text": [
            "Select operations form 1, 2, 3, 4 : 2\n",
            "Enter first number:  25\n",
            "Enter second number:  5\n"
          ],
          "name": "stdin"
        },
        {
          "output_type": "stream",
          "text": [
            "25 - 5 = 20\n"
          ],
          "name": "stdout"
        }
      ]
    },
    {
      "metadata": {
        "id": "igFdRhc9VRs4",
        "colab_type": "code",
        "outputId": "627edc8e-c3ec-4fce-c353-8a8f3b4579d7",
        "colab": {
          "base_uri": "https://localhost:8080/",
          "height": 35
        }
      },
      "cell_type": "code",
      "source": [
        "print(\"Testing Google's Colab\")"
      ],
      "execution_count": 0,
      "outputs": [
        {
          "output_type": "stream",
          "text": [
            "Testing Google's Colab\n"
          ],
          "name": "stdout"
        }
      ]
    },
    {
      "metadata": {
        "id": "WfPpbVjgV8G1",
        "colab_type": "code",
        "colab": {}
      },
      "cell_type": "code",
      "source": [
        ""
      ],
      "execution_count": 0,
      "outputs": []
    },
    {
      "metadata": {
        "id": "51Zcsj3yeK4v",
        "colab_type": "text"
      },
      "cell_type": "markdown",
      "source": [
        "# It's a Headding\n",
        "\n",
        "---\n",
        "\n",
        "**Sample**"
      ]
    },
    {
      "metadata": {
        "id": "UC56Cs8peUtm",
        "colab_type": "code",
        "outputId": "c9c5cee3-779c-4e01-e3fd-ebdcd79d1d67",
        "colab": {
          "base_uri": "https://localhost:8080/",
          "height": 35
        }
      },
      "cell_type": "code",
      "source": [
        "print(\"testing colab\")"
      ],
      "execution_count": 0,
      "outputs": [
        {
          "output_type": "stream",
          "text": [
            "testing colab\n"
          ],
          "name": "stdout"
        }
      ]
    },
    {
      "metadata": {
        "id": "ReHRtnN0eXj1",
        "colab_type": "code",
        "colab": {}
      },
      "cell_type": "code",
      "source": [
        ""
      ],
      "execution_count": 0,
      "outputs": []
    },
    {
      "metadata": {
        "id": "ngHDK6X-tNgh",
        "colab_type": "text"
      },
      "cell_type": "markdown",
      "source": [
        "! git clone https://github.com/rajeshkumarkarra/LearnPython.git"
      ]
    },
    {
      "metadata": {
        "id": "ZfD75eRZtUdD",
        "colab_type": "code",
        "colab": {}
      },
      "cell_type": "code",
      "source": [
        ""
      ],
      "execution_count": 0,
      "outputs": []
    }
  ]
}