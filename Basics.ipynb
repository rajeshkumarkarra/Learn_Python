{
 "cells": [
  {
   "cell_type": "markdown",
   "metadata": {},
   "source": [
    "# Basics"
   ]
  },
  {
   "cell_type": "markdown",
   "metadata": {},
   "source": [
    "# https://www.geeksforgeeks.org/python-programming-language/"
   ]
  },
  {
   "cell_type": "markdown",
   "metadata": {},
   "source": [
    "# Keywords in Python | Set 1"
   ]
  },
  {
   "cell_type": "markdown",
   "metadata": {},
   "source": [
    "Keywords in Python | Set 1\n",
    "Python Keywords – IntroductionKeywords in Python | Set 1\n",
    "Python Keywords – Introduction\n",
    "\n",
    "This article aims at providing a detailed insight to these keywords.\n",
    "\n",
    "1. True : This keyword is used to represent a boolean true. If a statement is truth, “True” is printed.\n",
    "\n",
    "2. False : This keyword is used to represent a boolean false. If a statement is False, “False” is printed.\n",
    "True and False in python are same as 1 and 0.Example:"
   ]
  },
  {
   "cell_type": "code",
   "execution_count": 3,
   "metadata": {},
   "outputs": [
    {
     "name": "stdout",
     "output_type": "stream",
     "text": [
      "True\n",
      "True\n",
      "3\n",
      "0\n"
     ]
    }
   ],
   "source": [
    "print(False == 0)\n",
    "print(True == 1)\n",
    "\n",
    "print(True+True+True)\n",
    "print(False+False+False)"
   ]
  },
  {
   "cell_type": "markdown",
   "metadata": {},
   "source": [
    "3. None : This is a special constant used to denote a null value or a void. Its important to remember, 0, any empty container(e.g empty list) do not compute to None.\n",
    "It is an object of its own datatype – NoneType. It is not possible to create multiple None objects and can assign it to variables.\n",
    "\n",
    "\n",
    "\n",
    "4. and : This a logical operator in python. “and” returns true if both the operands are true. Else returns false.The truth table for “and” is depicted below.\n",
    "\n",
    "and\n",
    "5. or : This a logical operator in python. “or” returns true if any one of the operand is true. Else returns false.The truth table for “or” is depicted below.\n",
    "\n",
    "6. not : This logical operator inverts the truth value.The truth table for “not” is depicted below."
   ]
  },
  {
   "cell_type": "code",
   "execution_count": 4,
   "metadata": {},
   "outputs": [
    {
     "name": "stdout",
     "output_type": "stream",
     "text": [
      "False\n",
      "True\n",
      "True\n",
      "False\n",
      "False\n"
     ]
    }
   ],
   "source": [
    "# Python code to demonstrate \n",
    "# True, False, None, and, or , not \n",
    "\n",
    "# showing that None is not equal to 0 \n",
    "# prints False as its false. \n",
    "print (None == 0) \n",
    "\n",
    "# showing objective of None \n",
    "# two None value equated to None \n",
    "# here x and y both are null \n",
    "# hence true \n",
    "x = None\n",
    "y = None\n",
    "print (x == y) \n",
    "\n",
    "# showing logical operation \n",
    "# or (returns True) \n",
    "print (True or False) \n",
    "\n",
    "# showing logical operation \n",
    "# and (returns False) \n",
    "print (False and True) \n",
    "\n",
    "# showing logical operation \n",
    "# not (returns False) \n",
    "print (not True) \n"
   ]
  },
  {
   "cell_type": "code",
   "execution_count": 5,
   "metadata": {},
   "outputs": [
    {
     "name": "stdout",
     "output_type": "stream",
     "text": [
      "True\n",
      "False\n",
      "True\n"
     ]
    }
   ],
   "source": [
    "print(True and True)\n",
    "print(False or False)\n",
    "print(True)"
   ]
  },
  {
   "cell_type": "markdown",
   "metadata": {},
   "source": [
    "7. assert : This function is used for debugging purposes. Usually used to check the correctness of code. If a statement evaluated to true, nothing happens, but when it is false, “AssertionError” is raised . One can also print a message with the error, separated by a comma.\n",
    "\n",
    "8. break : “break” is used to control the flow of loop. The statement is used to break out of loop and passes the control to the statement following immediately after loop.\n",
    "\n",
    "9. continue : “continue” is also used to control the flow of code. The keyword skips the current iteration of the loop, but does not end the loop.\n",
    "\n",
    "\n",
    "\n",
    "Illustrations of break and continue keywords can be seen in the article below.\n",
    "\n",
    "Loops and Control Statements (continue, break and pass) in Python\n",
    "10. class : This keyword is used to declare user defined classes.For more info. click here.\n",
    "\n",
    "11. def : This keyword is used to declare user defined functions.For more info. click here.\n",
    "\n",
    "12. if : It is a control statement for decision making. Truth expression forces control to go in “if” statement block.\n",
    "\n",
    "13. else : It is a control statement for decision making. False expression forces control to go in “else” statement block.\n",
    "\n",
    "14. elif : It is a control statement for decision making. It is short for “else if”\n",
    "\n",
    "if, else and elif conditional statements are explained in detail here article.\n",
    "\n",
    "15. del : del is used to delete a reference to an object. Any variable or list value can be deleted using del."
   ]
  },
  {
   "cell_type": "code",
   "execution_count": 6,
   "metadata": {},
   "outputs": [
    {
     "name": "stdout",
     "output_type": "stream",
     "text": [
      "The list before deleting any value\n",
      "[1, 2, 3]\n",
      "The list after deleting 2nd element\n",
      "[1, 3]\n"
     ]
    },
    {
     "ename": "AssertionError",
     "evalue": "5 is not smaller than 3",
     "output_type": "error",
     "traceback": [
      "\u001b[0;31m----------------------------------------------------------------------\u001b[0m",
      "\u001b[0;31mAssertionError\u001b[0m                       Traceback (most recent call last)",
      "\u001b[0;32m<ipython-input-6-24fdcbcabfac>\u001b[0m in \u001b[0;36m<module>\u001b[0;34m()\u001b[0m\n\u001b[1;32m     18\u001b[0m \u001b[0;31m# demonstrating use of assert\u001b[0m\u001b[0;34m\u001b[0m\u001b[0;34m\u001b[0m\u001b[0;34m\u001b[0m\u001b[0m\n\u001b[1;32m     19\u001b[0m \u001b[0;31m# prints AssertionError\u001b[0m\u001b[0;34m\u001b[0m\u001b[0;34m\u001b[0m\u001b[0;34m\u001b[0m\u001b[0m\n\u001b[0;32m---> 20\u001b[0;31m \u001b[0;32massert\u001b[0m \u001b[0;36m5\u001b[0m \u001b[0;34m<\u001b[0m \u001b[0;36m3\u001b[0m\u001b[0;34m,\u001b[0m \u001b[0;34m\"5 is not smaller than 3\"\u001b[0m\u001b[0;34m\u001b[0m\u001b[0;34m\u001b[0m\u001b[0m\n\u001b[0m",
      "\u001b[0;31mAssertionError\u001b[0m: 5 is not smaller than 3"
     ]
    }
   ],
   "source": [
    "# Python code to demonstrate \n",
    "# del and assert \n",
    "\n",
    "# initialising list \n",
    "a = [1, 2, 3] \n",
    "\n",
    "# printing list before deleting any value \n",
    "print (\"The list before deleting any value\") \n",
    "print (a) \n",
    "\n",
    "# using del to delete 2nd element of list \n",
    "del a[1] \n",
    "\n",
    "# printing list after deleting 2nd element \n",
    "print (\"The list after deleting 2nd element\") \n",
    "print (a) \n",
    "\n",
    "# demonstrating use of assert \n",
    "# prints AssertionError \n",
    "assert 5 < 3, \"5 is not smaller than 3\"\n"
   ]
  },
  {
   "cell_type": "code",
   "execution_count": 12,
   "metadata": {},
   "outputs": [
    {
     "name": "stdout",
     "output_type": "stream",
     "text": [
      "['rajesh', 'peter', 'john']\n",
      "after deletion\n",
      "['rajesh', 'peter']\n"
     ]
    }
   ],
   "source": [
    "# Another Example\n",
    "a=[\"rajesh\", \"peter\", \"john\"]\n",
    "print(a)\n",
    "\n",
    "del a[-1]\n",
    "\n",
    "print(\"after deletion\")\n",
    "print(a)\n",
    "\n",
    "b=[1,2,3]\n"
   ]
  },
  {
   "cell_type": "markdown",
   "metadata": {},
   "source": [
    "# Keywords in Python | Set 2"
   ]
  },
  {
   "cell_type": "markdown",
   "metadata": {},
   "source": [
    "Python Keywords – Introduction\n",
    "Keywords in Python | Set 1\n",
    "\n",
    "More keywords:\n",
    "\n",
    "16. try : This keyword is used for exception handling, used to catch the errors in the code using the keyword except. Code in “try” block is checked, if there is any type of error, except block is executed.\n",
    "\n",
    "17. except : As explained above, this works together with “try” to catch exceptions.\n",
    "\n",
    "18. raise : Also used for exception handling to explicitly raise exceptions.\n",
    "\n",
    "19. finally : No matter what is result of the “try” block, block termed “finally” is always executed. Detailed article –Exception Handling in Python\n",
    "\n",
    "\n",
    "\n",
    "20. for : This keyword is used to control flow and for looping.\n",
    "\n",
    "21. while : Has a similar working like “for” , used to control flow and for looping.\n",
    "\n",
    "22. pass : It is the null statement in python. Nothing happens when this is encountered. This is used to prevent indentation errors and used as a placeholder\n",
    "\n",
    "Detailed Article – for, while, pass\n",
    "\n",
    "23. import : This statement is used to include a particular module into current program.\n",
    "\n",
    "24. from : Generally used with import, from is used to import particular functionality from the module imported.\n",
    "\n",
    "25. as : This keyword is used to create the alias for the module imported. i.e giving a new name to the imported module.. E.g import math as mymath.\n",
    "\n",
    "Detailed Article – import, from and as\n",
    "\n",
    "26. lambda : This keyword is used to make inline returning functions with no statements allowed internally. Detailed Article – map, filter, lambda\n",
    "\n",
    "27. return : This keyword is used to return from the function. Detailed article –  Return values in Python.\n",
    "\n",
    "\n",
    "\n",
    "28. yield : This keyword is used like return statement but is used to return a generator. Detailed Article – yield keyword\n",
    "\n",
    "29. with : This keyword is used to wrap the execution of block of code within methods defined by context manager.This keyword is not used much in day to day programming.\n",
    "\n",
    "30. in : This keyword is used to check if a container contains a value. This keyword is also used to loop through the container.\n",
    "\n",
    "31. is : This keyword is used to test object identity, i.e to check if both the objects take same memory location or not."
   ]
  },
  {
   "cell_type": "code",
   "execution_count": null,
   "metadata": {},
   "outputs": [],
   "source": []
  }
 ],
 "metadata": {
  "kernelspec": {
   "display_name": "Python 3",
   "language": "python",
   "name": "python3"
  },
  "language_info": {
   "codemirror_mode": {
    "name": "ipython",
    "version": 3
   },
   "file_extension": ".py",
   "mimetype": "text/x-python",
   "name": "python",
   "nbconvert_exporter": "python",
   "pygments_lexer": "ipython3",
   "version": "3.7.2"
  }
 },
 "nbformat": 4,
 "nbformat_minor": 2
}
