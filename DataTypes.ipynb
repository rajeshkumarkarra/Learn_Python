{
  "nbformat": 4,
  "nbformat_minor": 0,
  "metadata": {
    "colab": {
      "name": "DataTypes.ipynb",
      "version": "0.3.2",
      "provenance": [],
      "collapsed_sections": [],
      "include_colab_link": true
    },
    "kernelspec": {
      "name": "python3",
      "display_name": "Python 3"
    },
    "accelerator": "GPU"
  },
  "cells": [
    {
      "cell_type": "markdown",
      "metadata": {
        "id": "view-in-github",
        "colab_type": "text"
      },
      "source": [
        "<a href=\"https://colab.research.google.com/github/rajeshkumarkarra/Learn_Python/blob/updates/DataTypes.ipynb\" target=\"_parent\"><img src=\"https://colab.research.google.com/assets/colab-badge.svg\" alt=\"Open In Colab\"/></a>"
      ]
    },
    {
      "metadata": {
        "id": "cNTVPuOS5_xV",
        "colab_type": "text"
      },
      "cell_type": "markdown",
      "source": [
        "# Python String\n",
        "In Python, Strings are arrays of bytes representing Unicode characters. However, Python does not have a character data type, a single character is simply a string with a length of 1. Square brackets can be used to access elements of the string.\n",
        "\n",
        "## Creating a String\n",
        "Strings in Python can be created using single quotes or double quotes or even triple quotes.\n",
        "\n",
        "String in single quotes cannot hold any other single quoted character in it otherwise an error arises because the compiler won’t recognize where to start and end the string. To overcome this error, use of double quotes is preferred, because it helps in creation of Strings with single quotes in them. For strings which contain Double quoted words in them, use of triple quotes is suggested. Along with this, triple quotes also allow the creation of multiline strings."
      ]
    },
    {
      "metadata": {
        "id": "3DDDB-JC4Spq",
        "colab_type": "code",
        "colab": {
          "base_uri": "https://localhost:8080/",
          "height": 245
        },
        "outputId": "8f3c283c-0618-4dd4-c7d2-522c26936f36"
      },
      "cell_type": "code",
      "source": [
        "# Python Program for \n",
        "# Creation of String \n",
        "\n",
        "# Creating a String \n",
        "# with single Quotes \n",
        "String1 = 'Welcome to the Geeks World'\n",
        "print(\"String with the use of Single Quotes: \") \n",
        "print(String1) \n",
        "\n",
        "# Creating a String \n",
        "# with double Quotes \n",
        "String1 = \"I'm a Geek\"\n",
        "print(\"\\nString with the use of Double Quotes: \") \n",
        "print(String1) \n",
        "\n",
        "# Creating a String \n",
        "# with triple Quotes \n",
        "String1 = '''I'm a Geek and I live in a world of \"Geeks\"'''\n",
        "print(\"\\nString with the use of Triple Quotes: \") \n",
        "print(String1) \n",
        "\n",
        "# Creating String with triple \n",
        "# Quotes allows multiple lines \n",
        "String1 = '''Geeks \n",
        "\t\t\tFor \n",
        "\t\t\tLife'''\n",
        "print(\"\\nCreating a multiline String: \") \n",
        "print(String1) \n"
      ],
      "execution_count": 1,
      "outputs": [
        {
          "output_type": "stream",
          "text": [
            "String with the use of Single Quotes: \n",
            "Welcome to the Geeks World\n",
            "\n",
            "String with the use of Double Quotes: \n",
            "I'm a Geek\n",
            "\n",
            "String with the use of Triple Quotes: \n",
            "I'm a Geek and I live in a world of \"Geeks\"\n",
            "\n",
            "Creating a multiline String: \n",
            "Geeks \n",
            "\t\t\tFor \n",
            "\t\t\tLife\n"
          ],
          "name": "stdout"
        }
      ]
    },
    {
      "metadata": {
        "id": "1-GoFhic6oXH",
        "colab_type": "code",
        "colab": {}
      },
      "cell_type": "code",
      "source": [
        ""
      ],
      "execution_count": 0,
      "outputs": []
    },
    {
      "metadata": {
        "id": "VIL8WyI17I1_",
        "colab_type": "text"
      },
      "cell_type": "markdown",
      "source": [
        "## Accessing characters in Python\n",
        "In Python, individual characters of a String can be accessed by using the method of Indexing, to access a range of characters in the String, method of slicing is used. Slicing in a String is done by using a Slicing operator (colon). Indexing allows negative address references to access characters from the back of the String, e.g. -1 refers to the last character, -2 refers to the second last character and so on.\n",
        "While accessing an index out of the range will cause an IndexError. Only Integers are allowed to be passed as an index, float or other types will cause a TypeError.\n"
      ]
    },
    {
      "metadata": {
        "id": "WABP4YS17O2v",
        "colab_type": "code",
        "colab": {
          "base_uri": "https://localhost:8080/",
          "height": 262
        },
        "outputId": "b2b78911-68fb-41f7-ccfb-59d14e9462ea"
      },
      "cell_type": "code",
      "source": [
        "# Python Program to Access \n",
        "# characters of String \n",
        "\n",
        "String1 = \"GeeksForGeeks\"\n",
        "print(\"Initial String: \") \n",
        "print(String1) \n",
        "\n",
        "# Printing First character \n",
        "print(\"\\nFirst character of String is: \") \n",
        "print(String1[0]) \n",
        "\n",
        "# Printing Last character \n",
        "print(\"\\nLast character of String is: \") \n",
        "print(String1[-1]) \n",
        "\n",
        "# Printing 3rd to 12th character \n",
        "print(\"\\nSlicing characters from 3-12: \") \n",
        "print(String1[3:12]) \n",
        "\n",
        "# Printing characters between \n",
        "# 3rd and 2nd last character \n",
        "print(\"\\nSlicing characters between \" +\n",
        "\t\"3rd and 2nd last character: \") \n",
        "print(String1[3:-2]) \n"
      ],
      "execution_count": 2,
      "outputs": [
        {
          "output_type": "stream",
          "text": [
            "Initial String: \n",
            "GeeksForGeeks\n",
            "\n",
            "First character of String is: \n",
            "G\n",
            "\n",
            "Last character of String is: \n",
            "s\n",
            "\n",
            "Slicing characters from 3-12: \n",
            "ksForGeek\n",
            "\n",
            "Slicing characters between 3rd and 2nd last character: \n",
            "ksForGee\n"
          ],
          "name": "stdout"
        }
      ]
    },
    {
      "metadata": {
        "id": "2KOMtcec7Wu-",
        "colab_type": "code",
        "colab": {
          "base_uri": "https://localhost:8080/",
          "height": 70
        },
        "outputId": "0301e523-ccca-4948-d154-4866fe57f3bf"
      },
      "cell_type": "code",
      "source": [
        "# Example\n",
        "name = \"rajeshkumarkarra\"\n",
        "print(name[1])\n",
        "print(name[-2])\n",
        "print(name[2:4])"
      ],
      "execution_count": 3,
      "outputs": [
        {
          "output_type": "stream",
          "text": [
            "a\n",
            "r\n",
            "je\n"
          ],
          "name": "stdout"
        }
      ]
    },
    {
      "metadata": {
        "id": "R2BS5qMj7niY",
        "colab_type": "code",
        "colab": {}
      },
      "cell_type": "code",
      "source": [
        ""
      ],
      "execution_count": 0,
      "outputs": []
    },
    {
      "metadata": {
        "id": "fa6vKB9t8RBN",
        "colab_type": "text"
      },
      "cell_type": "markdown",
      "source": [
        "# Deleting/Updating from a String\n",
        "In Python, Updation or deletion of characters from a String is not allowed. This will cause an error because item assignment or item deletion from a String is not supported. Although deletion of entire String is possible with the use of a built-in del keyword. This is because Strings are immutable, hence elements of a String cannot be changed once it has been assigned. Only new strings can be reassigned to the same name.\n",
        "\n",
        "## Updation of a character:"
      ]
    },
    {
      "metadata": {
        "id": "vcot6Yj38T9Y",
        "colab_type": "code",
        "colab": {
          "base_uri": "https://localhost:8080/",
          "height": 272
        },
        "outputId": "4d4957fe-b9f7-4e40-99be-a08da1087058"
      },
      "cell_type": "code",
      "source": [
        "# Python Program to Update \n",
        "# character of a String \n",
        "\n",
        "String1 = \"Hello, I'm a Geek\"\n",
        "print(\"Initial String: \") \n",
        "print(String1) \n",
        "\n",
        "# Updating a character \n",
        "# of the String \n",
        "String1[2] = 'p'\n",
        "print(\"\\nUpdating character at 2nd Index: \") \n",
        "print(String1) \n"
      ],
      "execution_count": 4,
      "outputs": [
        {
          "output_type": "stream",
          "text": [
            "Initial String: \n",
            "Hello, I'm a Geek\n"
          ],
          "name": "stdout"
        },
        {
          "output_type": "error",
          "ename": "TypeError",
          "evalue": "ignored",
          "traceback": [
            "\u001b[0;31m---------------------------------------------------------------------------\u001b[0m",
            "\u001b[0;31mTypeError\u001b[0m                                 Traceback (most recent call last)",
            "\u001b[0;32m<ipython-input-4-89b8d8527f51>\u001b[0m in \u001b[0;36m<module>\u001b[0;34m()\u001b[0m\n\u001b[1;32m      6\u001b[0m \u001b[0;31m# Updating a character\u001b[0m\u001b[0;34m\u001b[0m\u001b[0;34m\u001b[0m\u001b[0;34m\u001b[0m\u001b[0m\n\u001b[1;32m      7\u001b[0m \u001b[0;31m# of the String\u001b[0m\u001b[0;34m\u001b[0m\u001b[0;34m\u001b[0m\u001b[0;34m\u001b[0m\u001b[0m\n\u001b[0;32m----> 8\u001b[0;31m \u001b[0mString1\u001b[0m\u001b[0;34m[\u001b[0m\u001b[0;36m2\u001b[0m\u001b[0;34m]\u001b[0m \u001b[0;34m=\u001b[0m \u001b[0;34m'p'\u001b[0m\u001b[0;34m\u001b[0m\u001b[0;34m\u001b[0m\u001b[0m\n\u001b[0m\u001b[1;32m      9\u001b[0m \u001b[0mprint\u001b[0m\u001b[0;34m(\u001b[0m\u001b[0;34m\"\\nUpdating character at 2nd Index: \"\u001b[0m\u001b[0;34m)\u001b[0m\u001b[0;34m\u001b[0m\u001b[0;34m\u001b[0m\u001b[0m\n\u001b[1;32m     10\u001b[0m \u001b[0mprint\u001b[0m\u001b[0;34m(\u001b[0m\u001b[0mString1\u001b[0m\u001b[0;34m)\u001b[0m\u001b[0;34m\u001b[0m\u001b[0;34m\u001b[0m\u001b[0m\n",
            "\u001b[0;31mTypeError\u001b[0m: 'str' object does not support item assignment"
          ]
        }
      ]
    },
    {
      "metadata": {
        "id": "eWhIWoLV8XdZ",
        "colab_type": "code",
        "colab": {
          "base_uri": "https://localhost:8080/",
          "height": 105
        },
        "outputId": "5e071500-92c2-42e6-e6d1-b5cea647acc5"
      },
      "cell_type": "code",
      "source": [
        "# Python Program to Update \n",
        "# entire String \n",
        "\n",
        "String1 = \"Hello, I'm a Geek\"\n",
        "print(\"Initial String: \") \n",
        "print(String1) \n",
        "\n",
        "# Updating a String \n",
        "String1 = \"Welcome to the Geek World\"\n",
        "print(\"\\nUpdated String: \") \n",
        "print(String1) \n"
      ],
      "execution_count": 5,
      "outputs": [
        {
          "output_type": "stream",
          "text": [
            "Initial String: \n",
            "Hello, I'm a Geek\n",
            "\n",
            "Updated String: \n",
            "Welcome to the Geek World\n"
          ],
          "name": "stdout"
        }
      ]
    },
    {
      "metadata": {
        "id": "7FY3OeDh8gjy",
        "colab_type": "code",
        "colab": {
          "base_uri": "https://localhost:8080/",
          "height": 272
        },
        "outputId": "13447678-6409-4536-91b9-1f6d90ad86ca"
      },
      "cell_type": "code",
      "source": [
        "# Python Program to Delete \n",
        "# characters from a String \n",
        "\n",
        "String1 = \"Hello, I'm a Geek\"\n",
        "print(\"Initial String: \") \n",
        "print(String1) \n",
        "\n",
        "# Deleting a character \n",
        "# of the String \n",
        "del String1[2] \n",
        "print(\"\\nDeleting character at 2nd Index: \") \n",
        "print(String1) \n"
      ],
      "execution_count": 6,
      "outputs": [
        {
          "output_type": "stream",
          "text": [
            "Initial String: \n",
            "Hello, I'm a Geek\n"
          ],
          "name": "stdout"
        },
        {
          "output_type": "error",
          "ename": "TypeError",
          "evalue": "ignored",
          "traceback": [
            "\u001b[0;31m---------------------------------------------------------------------------\u001b[0m",
            "\u001b[0;31mTypeError\u001b[0m                                 Traceback (most recent call last)",
            "\u001b[0;32m<ipython-input-6-089e14cc3e28>\u001b[0m in \u001b[0;36m<module>\u001b[0;34m()\u001b[0m\n\u001b[1;32m      6\u001b[0m \u001b[0;31m# Deleting a character\u001b[0m\u001b[0;34m\u001b[0m\u001b[0;34m\u001b[0m\u001b[0;34m\u001b[0m\u001b[0m\n\u001b[1;32m      7\u001b[0m \u001b[0;31m# of the String\u001b[0m\u001b[0;34m\u001b[0m\u001b[0;34m\u001b[0m\u001b[0;34m\u001b[0m\u001b[0m\n\u001b[0;32m----> 8\u001b[0;31m \u001b[0;32mdel\u001b[0m \u001b[0mString1\u001b[0m\u001b[0;34m[\u001b[0m\u001b[0;36m2\u001b[0m\u001b[0;34m]\u001b[0m\u001b[0;34m\u001b[0m\u001b[0;34m\u001b[0m\u001b[0m\n\u001b[0m\u001b[1;32m      9\u001b[0m \u001b[0mprint\u001b[0m\u001b[0;34m(\u001b[0m\u001b[0;34m\"\\nDeleting character at 2nd Index: \"\u001b[0m\u001b[0;34m)\u001b[0m\u001b[0;34m\u001b[0m\u001b[0;34m\u001b[0m\u001b[0m\n\u001b[1;32m     10\u001b[0m \u001b[0mprint\u001b[0m\u001b[0;34m(\u001b[0m\u001b[0mString1\u001b[0m\u001b[0;34m)\u001b[0m\u001b[0;34m\u001b[0m\u001b[0;34m\u001b[0m\u001b[0m\n",
            "\u001b[0;31mTypeError\u001b[0m: 'str' object doesn't support item deletion"
          ]
        }
      ]
    },
    {
      "metadata": {
        "id": "qGo7aMGi8scg",
        "colab_type": "code",
        "colab": {}
      },
      "cell_type": "code",
      "source": [
        ""
      ],
      "execution_count": 0,
      "outputs": []
    },
    {
      "metadata": {
        "id": "kdEyndSa8ykW",
        "colab_type": "text"
      },
      "cell_type": "markdown",
      "source": [
        "## Deleting Entire String:\n",
        "Deletion of entire string is possible with the use of del keyword. Further, if we try to print the string, this will produce an error because String is deleted and is unavailable to be printed."
      ]
    },
    {
      "metadata": {
        "id": "E3D6J8sk80Rt",
        "colab_type": "code",
        "colab": {
          "base_uri": "https://localhost:8080/",
          "height": 272
        },
        "outputId": "490a85af-8db5-4928-d59d-8795a226a9d2"
      },
      "cell_type": "code",
      "source": [
        "# Python Program to Delete \n",
        "# entire String \n",
        "\n",
        "String1 = \"Hello, I'm a Geek\"\n",
        "print(\"Initial String: \") \n",
        "print(String1) \n",
        "\n",
        "# Deleting a String \n",
        "# with the use of del \n",
        "del String1 \n",
        "print(\"\\nDeleting entire String: \") \n",
        "print(String1) \n"
      ],
      "execution_count": 7,
      "outputs": [
        {
          "output_type": "stream",
          "text": [
            "Initial String: \n",
            "Hello, I'm a Geek\n",
            "\n",
            "Deleting entire String: \n"
          ],
          "name": "stdout"
        },
        {
          "output_type": "error",
          "ename": "NameError",
          "evalue": "ignored",
          "traceback": [
            "\u001b[0;31m---------------------------------------------------------------------------\u001b[0m",
            "\u001b[0;31mNameError\u001b[0m                                 Traceback (most recent call last)",
            "\u001b[0;32m<ipython-input-7-70d512a66a99>\u001b[0m in \u001b[0;36m<module>\u001b[0;34m()\u001b[0m\n\u001b[1;32m      8\u001b[0m \u001b[0;32mdel\u001b[0m \u001b[0mString1\u001b[0m\u001b[0;34m\u001b[0m\u001b[0;34m\u001b[0m\u001b[0m\n\u001b[1;32m      9\u001b[0m \u001b[0mprint\u001b[0m\u001b[0;34m(\u001b[0m\u001b[0;34m\"\\nDeleting entire String: \"\u001b[0m\u001b[0;34m)\u001b[0m\u001b[0;34m\u001b[0m\u001b[0;34m\u001b[0m\u001b[0m\n\u001b[0;32m---> 10\u001b[0;31m \u001b[0mprint\u001b[0m\u001b[0;34m(\u001b[0m\u001b[0mString1\u001b[0m\u001b[0;34m)\u001b[0m\u001b[0;34m\u001b[0m\u001b[0;34m\u001b[0m\u001b[0m\n\u001b[0m",
            "\u001b[0;31mNameError\u001b[0m: name 'String1' is not defined"
          ]
        }
      ]
    },
    {
      "metadata": {
        "id": "OJQ_I1cZ81xx",
        "colab_type": "code",
        "colab": {}
      },
      "cell_type": "code",
      "source": [
        ""
      ],
      "execution_count": 0,
      "outputs": []
    },
    {
      "metadata": {
        "id": "XBhTo6Tp9BxM",
        "colab_type": "text"
      },
      "cell_type": "markdown",
      "source": [
        "# Escape Sequencing in Python\n",
        "While printing Strings with single and double quotes in it causes SyntaxError because String already contains Single and Double Quotes and hence cannot be printed with the use of either of these. Hence, to print such a String either Triple Quotes are used or Escape sequences are used to print such Strings.\n",
        "Escape sequences start with a backslash and can be interpreted differently. If single quotes are used to represent a string, then all the single quotes present in the string must be escaped and same is done for Double Quotes.\n",
        "To ignore the escape sequences in a String, r or R is used, this implies that the string is a raw string and escape sequences inside it are to be ignored."
      ]
    },
    {
      "metadata": {
        "id": "e5RQii7E9D_U",
        "colab_type": "code",
        "colab": {
          "base_uri": "https://localhost:8080/",
          "height": 315
        },
        "outputId": "f6c20f82-674d-46b4-a7d9-f8379f83dfaa"
      },
      "cell_type": "code",
      "source": [
        "# Python Program for \n",
        "# Escape Sequencing \n",
        "# of String \n",
        "\n",
        "# Initial String \n",
        "String1 = '''I'm a \"Geek\"'''\n",
        "print(\"Initial String with use of Triple Quotes: \") \n",
        "print(String1) \n",
        "\n",
        "# Escaping Single Quote \n",
        "String1 = 'I\\'m a \"Geek\"'\n",
        "print(\"\\nEscaping Single Quote: \") \n",
        "print(String1) \n",
        "\n",
        "# Escaping Doule Quotes \n",
        "String1 = \"I'm a \\\"Geek\\\"\"\n",
        "print(\"\\nEscaping Double Quotes: \") \n",
        "print(String1) \n",
        "\n",
        "# Printing Paths with the \n",
        "# use of Escape Sequences \n",
        "String1 = \"C:\\\\Python\\\\Geeks\\\\\"\n",
        "print(\"\\nEscaping Backslashes: \") \n",
        "print(String1) \n",
        "\n",
        "# Printing Geeks in HEX \n",
        "String1 = \"This is \\x47\\x65\\x65\\x6b\\x73 in \\x48\\x45\\x58\"\n",
        "print(\"\\nPrinting in HEX with the use of Escape Sequences: \") \n",
        "print(String1) \n",
        "\n",
        "# Using raw String to \n",
        "# ignore Escape Sequences \n",
        "String1 = r\"This is \\x47\\x65\\x65\\x6b\\x73 in \\x48\\x45\\x58\"\n",
        "print(\"\\nPrinting Raw String in HEX Format: \") \n",
        "print(String1) \n"
      ],
      "execution_count": 8,
      "outputs": [
        {
          "output_type": "stream",
          "text": [
            "Initial String with use of Triple Quotes: \n",
            "I'm a \"Geek\"\n",
            "\n",
            "Escaping Single Quote: \n",
            "I'm a \"Geek\"\n",
            "\n",
            "Escaping Double Quotes: \n",
            "I'm a \"Geek\"\n",
            "\n",
            "Escaping Backslashes: \n",
            "C:\\Python\\Geeks\\\n",
            "\n",
            "Printing in HEX with the use of Escape Sequences: \n",
            "This is Geeks in HEX\n",
            "\n",
            "Printing Raw String in HEX Format: \n",
            "This is \\x47\\x65\\x65\\x6b\\x73 in \\x48\\x45\\x58\n"
          ],
          "name": "stdout"
        }
      ]
    },
    {
      "metadata": {
        "id": "UdggrUrK9cxC",
        "colab_type": "code",
        "colab": {}
      },
      "cell_type": "code",
      "source": [
        ""
      ],
      "execution_count": 0,
      "outputs": []
    },
    {
      "metadata": {
        "id": "nBpYlW3b-QTn",
        "colab_type": "text"
      },
      "cell_type": "markdown",
      "source": [
        "# Formatting of Strings\n",
        "\n",
        "---\n",
        "\n",
        "\n",
        "\n",
        "\n",
        "\n",
        "\n",
        "\n",
        "\n",
        "Strings in Python can be formatted with the use of format() method which is very versatile and powerful tool for formatting of Strings. Format method in String contains curly braces {} as placeholders which can hold arguments according to position or keyword to specify the order.\n",
        "A string can be left(<), right(>) or center(^) justified with the use of format specifiers, separated by colon(:). Integers such as Binary, hexadecimal, etc. and floats can be rounded or displayed in the exponent form with the use of format specifiers."
      ]
    },
    {
      "metadata": {
        "id": "eyEpaoDx-SMs",
        "colab_type": "code",
        "colab": {
          "base_uri": "https://localhost:8080/",
          "height": 367
        },
        "outputId": "694f8991-7b0d-42af-db6b-544ff17c0258"
      },
      "cell_type": "code",
      "source": [
        "# Python Program for \n",
        "# Formatting of Strings \n",
        "\n",
        "# Default order \n",
        "String1 = \"{} {} {}\".format('Geeks', 'For', 'Life') \n",
        "print(\"Print String in default order: \") \n",
        "print(String1) \n",
        "\n",
        "# Positional Formatting \n",
        "String1 = \"{1} {0} {2}\".format('Geeks', 'For', 'Life') \n",
        "print(\"\\nPrint String in Positional order: \") \n",
        "print(String1) \n",
        "\n",
        "# Keyword Formatting \n",
        "String1 = \"{l} {f} {g}\".format(g = 'Geeks', f = 'For', l = 'Life') \n",
        "print(\"\\nPrint String in order of Keywords: \") \n",
        "print(String1) \n",
        "\n",
        "# Formatting of Integers \n",
        "String1 = \"{0:b}\".format(16) \n",
        "print(\"\\nBinary representation of 16 is \") \n",
        "print(String1) \n",
        "\n",
        "# Formatting of Floats \n",
        "String1 = \"{0:e}\".format(165.6458) \n",
        "print(\"\\nExponent representation of 165.6458 is \") \n",
        "print(String1) \n",
        "\n",
        "# Rounding off Integers \n",
        "String1 = \"{0:.2f}\".format(1/6) \n",
        "print(\"\\none-sixth is : \") \n",
        "print(String1) \n",
        "\n",
        "# String alignment \n",
        "String1 = \"|{:<10}|{:^10}|{:>10}|\".format('Geeks','for','Geeks') \n",
        "print(\"\\nLeft, center and right alignment with Formatting: \") \n",
        "print(String1) \n"
      ],
      "execution_count": 9,
      "outputs": [
        {
          "output_type": "stream",
          "text": [
            "Print String in default order: \n",
            "Geeks For Life\n",
            "\n",
            "Print String in Positional order: \n",
            "For Geeks Life\n",
            "\n",
            "Print String in order of Keywords: \n",
            "Life For Geeks\n",
            "\n",
            "Binary representation of 16 is \n",
            "10000\n",
            "\n",
            "Exponent representation of 165.6458 is \n",
            "1.656458e+02\n",
            "\n",
            "one-sixth is : \n",
            "0.17\n",
            "\n",
            "Left, center and right alignment with Formatting: \n",
            "|Geeks     |   for    |     Geeks|\n"
          ],
          "name": "stdout"
        }
      ]
    },
    {
      "metadata": {
        "id": "D4ff-hKQ_EtZ",
        "colab_type": "code",
        "colab": {
          "base_uri": "https://localhost:8080/",
          "height": 140
        },
        "outputId": "60232fab-1c31-4f59-d396-573a5dca7398"
      },
      "cell_type": "code",
      "source": [
        "# Example\n",
        "\n",
        "string2 = \"{} {} {}\".format('Hello', 'welcome', 'to hello world')\n",
        "print(string2)\n",
        "\n",
        "string2 = \"{0}{2}{1}\".format('welcome', 'to the world', 'rajesh')\n",
        "print(string2)\n",
        "\n",
        "string2 = \"{l} {k} {j}\".format(l='welocome', k='to the', j='hello world')\n",
        "print(string2)\n",
        "\n",
        "string2 = \"{0:d}\".format(15)\n",
        "print(string2)\n",
        "\n",
        "string2 = \"{0:e}\".format(255.215)\n",
        "print(string2)\n",
        "\n",
        "string2 = \"{0:.2f}\".format(2/5)\n",
        "print(string2)\n",
        "\n",
        "string2 = \"|{:<10}|{:^10}|{:>10}|\".format(\"welcome\", \"to the\", \"world\")\n",
        "print(string2)"
      ],
      "execution_count": 15,
      "outputs": [
        {
          "output_type": "stream",
          "text": [
            "Hello welcome to hello world\n",
            "welcomerajeshto the world\n",
            "welocome to the hello world\n",
            "15\n",
            "2.552150e+02\n",
            "0.40\n",
            "|welcome   |  to the  |     world|\n"
          ],
          "name": "stdout"
        }
      ]
    },
    {
      "metadata": {
        "id": "LDneHky5_-8m",
        "colab_type": "code",
        "colab": {}
      },
      "cell_type": "code",
      "source": [
        ""
      ],
      "execution_count": 0,
      "outputs": []
    },
    {
      "metadata": {
        "id": "bXb2v1NLDJrQ",
        "colab_type": "text"
      },
      "cell_type": "markdown",
      "source": [
        "# Useful String Operations\n",
        "\n",
        "\n",
        "1. Logical Operators on String\n",
        "2. String Formatting using %\n",
        "3. String Template Class\n",
        "4. Split a string\n",
        "5. Python Docstrings\n",
        "6. String slicing\n",
        "\n",
        "\n",
        "Find all duplicate characters in string\n",
        "Reverse string in Python (5 different ways)\n",
        "Python program to check if a string is palindrome or not\n",
        "String constants\n",
        "BUILT-IN FUNCTION\tDESCRIPTION\n",
        "string.ascii_letters\tConcatenation of the ascii_lowercase and ascii_uppercase constants.\n",
        "string.ascii_lowercase\tConcatenation of lowercase letters\n",
        "string.ascii_uppercase\tConcatenation of uppercase letters\n",
        "string.digits\tDigit in strings\n",
        "string.hexdigits\tHexadigit in strings\n",
        "string.letters\tconcatenation of the strings lowercase and uppercase\n",
        "string.lowercase\tA string must contain lowercase letters.\n",
        "string.octdigits\tOctadigit in a string\n",
        "string.punctuation\tASCII characters having punctuation characters.\n",
        "string.printable\tString of characters which are printable\n",
        "String.endswith()\tReturns True if a string ends with the given suffix otherwise returns False\n",
        "String.startswith()\tReturns True if a string starts with the given prefix otherwise returns False\n",
        "String.isdigit()\tReturns “True” if all characters in the string are digits, Otherwise, It returns “False”.\n",
        "String.isalpha()\tReturns “True” if all characters in the string are alphabets, Otherwise, It returns “False”.\n",
        "string.isdecimal()\tReturns true if all characters in a string are decimal.\n",
        "str.format()\tone of the string formatting methods in Python3, which allows multiple substitutions and value formatting.\n",
        "String.index\tReturns the position of the first occurrence of substring in a string\n",
        "string.uppercase\tA string must contain uppercase letters.\n",
        "string.whitespace\tA string containing all characters that are considered whitespace.\n",
        "string.swapcase()\tMethod converts all uppercase characters to lowercase and vice versa of the given string, and returns it\n",
        "replace()\treturns a copy of the string where all occurrences of a substring is replaced with another substring.\n",
        "Deprecated string functions\n",
        "BUILT-IN FUNCTION\tDESCRIPTION\n",
        "string.Isdecimal\tReturns true if all characters in a string are decimal\n",
        "String.Isalnum\tReturns true if all the characters in a given string are alphanumeric.\n",
        "string.Istitle\tReturns True if the string is a titlecased string\n",
        "String.partition\tsplits the string at the first occurrence of the separator and returns a tuple.\n",
        "String.Isidentifier\tCheck whether a string is a valid identifier or not.\n",
        "String.len\tReturns the length of the string.\n",
        "String.rindex\tReturns the highest index of the substring inside the string if substring is found.\n",
        "String.Max\tReturns the highest alphabetical character in a string.\n",
        "String.min\tReturns the minimum alphabetical character in a string.\n",
        "String.splitlines\tReturns a list of lines in the string.\n",
        "string.capitalize\tReturn a word with its first character capitalized.\n",
        "string.expandtabs\tExpand tabs in a string replacing them by one or more spaces\n",
        "string.find\tReturn the lowest indexin a sub string.\n",
        "string.rfind\tfind the highest index.\n",
        "string.rindex\tRaise ValueError when the substring is not found.\n",
        "string.count\tReturn the number of (non-overlapping) occurrences of substring sub in string\n",
        "string.lower\tReturn a copy of s, but with upper case letters converted to lower case.\n",
        "string.split\tReturn a list of the words of the string,If the optional second argument sep is absent or None\n",
        "string.rsplit()\tReturn a list of the words of the string s, scanning s from the end.\n",
        "rpartition()\tMethod splits the given string into three parts\n",
        "string.splitfields\tReturn a list of the words of the string when only used with two arguments.\n",
        "string.join\tConcatenate a list or tuple of words with intervening occurrences of sep.\n",
        "string.strip()\tIt return a copy of the string with both leading and trailing characters removed\n",
        "string.lstrip\tReturn a copy of the string with leading characters removed.\n",
        "string.rstrip\tReturn a copy of the string with trailing characters removed.\n",
        "string.swapcase\tConverts lower case letters to upper case and vice versa.\n",
        "string.translate\ttranslate the characters using table\n",
        "string.upper\tlower case letters converted to upper case.\n",
        "string.ljust\tleft-justify in a field of given width.\n",
        "string.rjust\tRight-justify in a field of given width.\n",
        "string.center()\tCenter-justify in a field of given width.\n",
        "string-zfill\tPad a numeric string on the left with zero digits until the given width is reached.\n",
        "string.replace\tReturn a copy of string s with all occurrences of substring old replaced by new.\n"
      ]
    },
    {
      "metadata": {
        "id": "z-gj6JdyDimy",
        "colab_type": "code",
        "colab": {}
      },
      "cell_type": "code",
      "source": [
        ""
      ],
      "execution_count": 0,
      "outputs": []
    },
    {
      "metadata": {
        "id": "QvDT4jHKEhIJ",
        "colab_type": "text"
      },
      "cell_type": "markdown",
      "source": [
        "# Python List\n",
        "Lists are just like the arrays, declared in other languages. Lists need not be homogeneous always which makes it a most powerful tool in Python. A single list may contain DataTypes like Integers, Strings, as well as Objects. Lists are also very useful for implementing stacks and queues. Lists are mutable, and hence, they can be altered even after their creation.\n",
        "\n",
        "In Python, list is a type of container in Data Structures, which is used to store multiple data at the same time. Unlike Sets, the list in Python are ordered and have a definite count. The elements in a list are indexed according to a definite sequence and the indexing of a list is done with 0 being the first index. Each element in the list has its definite place in the list, which allows duplicating of elements in the list, with each element having its own distinct place and credibility.\n",
        "\n",
        "**Note**- Lists are a useful tool for preserving a sequence of data and further iterating over it.\n",
        "\n",
        "**Creating a List**\n",
        "Lists in Python can be created by just placing the sequence inside the square brackets[]. Unlike Sets, list doesn’t need a built-in function for creation of list. A list may contain duplicate values with their distinct positions and hence, multiple distinct or duplicate values can be passed as a sequence at the time of list creation.\n",
        "\n",
        "Note – Unlike Sets, list may contain mutable elements."
      ]
    },
    {
      "metadata": {
        "id": "twv9mCBdEm_9",
        "colab_type": "code",
        "colab": {
          "base_uri": "https://localhost:8080/",
          "height": 332
        },
        "outputId": "c37f89d8-694a-43b3-f56f-f126b9c1e468"
      },
      "cell_type": "code",
      "source": [
        "# Python program to demonstrate \n",
        "# Creation of List \n",
        "\n",
        "# Creating a List \n",
        "List = [] \n",
        "print(\"Intial blank List: \") \n",
        "print(List) \n",
        "\n",
        "# Creating a List with \n",
        "# the use of a String \n",
        "List = ['GeeksForGeeks'] \n",
        "print(\"\\nList with the use of String: \") \n",
        "print(List) \n",
        "\n",
        "# Creating a List with \n",
        "# the use of multiple values \n",
        "List = [\"Geeks\", \"For\", \"Geeks\"] \n",
        "print(\"\\nList containing multiple values: \") \n",
        "print(List[0]) \n",
        "print(List[2]) \n",
        "\n",
        "# Creating a Multi-Dimensional List \n",
        "# (By Nesting a list inside a List) \n",
        "List = [['Geeks', 'For'] , ['Geeks']] \n",
        "print(\"\\nMulti-Dimensional List: \") \n",
        "print(List) \n",
        "\n",
        "# Creating a List with \n",
        "# the use of Numbers \n",
        "# (Having duplicate values) \n",
        "List = [1, 2, 4, 4, 3, 3, 3, 6, 5] \n",
        "print(\"\\nList with the use of Numbers: \") \n",
        "print(List) \n",
        "\n",
        "# Creating a List with \n",
        "# mixed type of values \n",
        "# (Having numbers and strings) \n",
        "List = [1, 2, 'Geeks', 4, 'For', 6, 'Geeks'] \n",
        "print(\"\\nList with the use of Mixed Values: \") \n",
        "print(List) \n"
      ],
      "execution_count": 16,
      "outputs": [
        {
          "output_type": "stream",
          "text": [
            "Intial blank List: \n",
            "[]\n",
            "\n",
            "List with the use of String: \n",
            "['GeeksForGeeks']\n",
            "\n",
            "List containing multiple values: \n",
            "Geeks\n",
            "Geeks\n",
            "\n",
            "Multi-Dimensional List: \n",
            "[['Geeks', 'For'], ['Geeks']]\n",
            "\n",
            "List with the use of Numbers: \n",
            "[1, 2, 4, 4, 3, 3, 3, 6, 5]\n",
            "\n",
            "List with the use of Mixed Values: \n",
            "[1, 2, 'Geeks', 4, 'For', 6, 'Geeks']\n"
          ],
          "name": "stdout"
        }
      ]
    },
    {
      "metadata": {
        "id": "3jfRr3P9E8ZD",
        "colab_type": "code",
        "colab": {}
      },
      "cell_type": "code",
      "source": [
        ""
      ],
      "execution_count": 0,
      "outputs": []
    },
    {
      "metadata": {
        "id": "-6nUipvYFjn6",
        "colab_type": "text"
      },
      "cell_type": "markdown",
      "source": [
        "# Adding Elements to a List\n",
        "Elements can be added to the List by using built-in append() function. Only one element at a time can be added to the list by using append() method, for addition of multiple elements with the append() method, loops are used. Tuples can also be added to the List with the use of append method because tuples are immutable. Unlike Sets, Lists can also be added to the existing list with the use of append() method.\n",
        "append() method only works for addition of elements at the end of the List, for addition of element at the desired position, insert() method is used. Unlike append() which takes only one argument, insert() method requires two arguments(position, value). Other than append() and insert() methods, there’s one more method for Addition of elements, extend(), this method is used to add multiple elements at the same time at the end of the list.\n",
        "\n",
        "**Note** – append() and extend() methods can only add elements at the end."
      ]
    },
    {
      "metadata": {
        "id": "LovmWe8gFnY4",
        "colab_type": "code",
        "colab": {
          "base_uri": "https://localhost:8080/",
          "height": 157
        },
        "outputId": "e0d9333a-c753-4d71-d02c-2ad602fe4072"
      },
      "cell_type": "code",
      "source": [
        "# Example\n",
        "\n",
        "List = []\n",
        "List.append(1)\n",
        "List.append(2)\n",
        "List.append(3)\n",
        "print(List)\n",
        "\n",
        "for i in range(1,4):\n",
        "  List.append(i)\n",
        "  print(i)\n",
        "  \n",
        "List.append((1,2))\n",
        "print(List)\n",
        "\n",
        "List2 =[\"rajesh\", \"kumar\"]\n",
        "List.append(List2)\n",
        "print(List)\n",
        "\n",
        "List.insert(2,'rajesh')\n",
        "List2.insert(0, 15)\n",
        "print(List)\n",
        "\n",
        "List.extend([3, 'john', 'peter'])\n",
        "print(List)"
      ],
      "execution_count": 27,
      "outputs": [
        {
          "output_type": "stream",
          "text": [
            "[1, 2, 3]\n",
            "1\n",
            "2\n",
            "3\n",
            "[1, 2, 3, 1, 2, 3, (1, 2)]\n",
            "[1, 2, 3, 1, 2, 3, (1, 2), ['rajesh', 'kumar']]\n",
            "[1, 2, 'rajesh', 3, 1, 2, 3, (1, 2), [15, 'rajesh', 'kumar']]\n",
            "[1, 2, 'rajesh', 3, 1, 2, 3, (1, 2), [15, 'rajesh', 'kumar'], 3, 'john', 'peter']\n"
          ],
          "name": "stdout"
        }
      ]
    },
    {
      "metadata": {
        "id": "ZEmDiZ7JGCxY",
        "colab_type": "code",
        "colab": {
          "base_uri": "https://localhost:8080/",
          "height": 367
        },
        "outputId": "41fa4d3f-5889-4084-fbcc-afbf9738f259"
      },
      "cell_type": "code",
      "source": [
        "# Python program to demonstrate \n",
        "# Addition of elements in a List \n",
        "\n",
        "# Creating a List \n",
        "List = [] \n",
        "print(\"Intial blank List: \") \n",
        "print(List) \n",
        "\n",
        "# Addition of Elements \n",
        "# in the List \n",
        "List.append(1) \n",
        "List.append(2) \n",
        "List.append(4) \n",
        "print(\"\\nList after Addition of Three elements: \") \n",
        "print(List) \n",
        "\n",
        "# Adding elements to the List \n",
        "# using Iterator \n",
        "for i in range(1, 4): \n",
        "\tList.append(i) \n",
        "print(\"\\nList after Addition of elements from 1-3: \") \n",
        "print(List) \n",
        "\n",
        "# Adding Tuples to the List \n",
        "List.append((5, 6)) \n",
        "print(\"\\nList after Addition of a Tuple: \") \n",
        "print(List) \n",
        "\n",
        "# Addition of List to a List \n",
        "List2 = ['For', 'Geeks'] \n",
        "List.append(List2) \n",
        "print(\"\\nList after Addition of a List: \") \n",
        "print(List) \n",
        "\n",
        "# Addition of Element at \n",
        "# specific Position \n",
        "# (using Insert Method) \n",
        "List.insert(3, 12) \n",
        "List2.insert(0, 'Geeks') \n",
        "print(\"\\nList after performing Insert Operation: \") \n",
        "print(List) \n",
        "\n",
        "# Addition of multiple elements \n",
        "# to the List at the end \n",
        "# (using Extend Method) \n",
        "List.extend([8, 'Geeks', 'Always']) \n",
        "print(\"\\nList after performing Extend Operation: \") \n",
        "print(List) \n"
      ],
      "execution_count": 28,
      "outputs": [
        {
          "output_type": "stream",
          "text": [
            "Intial blank List: \n",
            "[]\n",
            "\n",
            "List after Addition of Three elements: \n",
            "[1, 2, 4]\n",
            "\n",
            "List after Addition of elements from 1-3: \n",
            "[1, 2, 4, 1, 2, 3]\n",
            "\n",
            "List after Addition of a Tuple: \n",
            "[1, 2, 4, 1, 2, 3, (5, 6)]\n",
            "\n",
            "List after Addition of a List: \n",
            "[1, 2, 4, 1, 2, 3, (5, 6), ['For', 'Geeks']]\n",
            "\n",
            "List after performing Insert Operation: \n",
            "[1, 2, 4, 12, 1, 2, 3, (5, 6), ['Geeks', 'For', 'Geeks']]\n",
            "\n",
            "List after performing Extend Operation: \n",
            "[1, 2, 4, 12, 1, 2, 3, (5, 6), ['Geeks', 'For', 'Geeks'], 8, 'Geeks', 'Always']\n"
          ],
          "name": "stdout"
        }
      ]
    },
    {
      "metadata": {
        "id": "THmNMhRTH8eV",
        "colab_type": "code",
        "colab": {}
      },
      "cell_type": "code",
      "source": [
        ""
      ],
      "execution_count": 0,
      "outputs": []
    },
    {
      "metadata": {
        "id": "RqqoQxEZIOek",
        "colab_type": "text"
      },
      "cell_type": "markdown",
      "source": [
        "# Accessing elements from the List\n",
        "In order to access the list items refer to the index number.Use the index operator [ ] to access an item in a list.The index must be an integer.Nested list are accessed using nested indexing."
      ]
    },
    {
      "metadata": {
        "id": "pYgfx-sNIYVg",
        "colab_type": "code",
        "colab": {
          "base_uri": "https://localhost:8080/",
          "height": 52
        },
        "outputId": "a986523a-6581-4644-e0a1-4dab380ef467"
      },
      "cell_type": "code",
      "source": [
        "List = ['rajesh', 'peter', 'john', 'angelina']\n",
        "print(List[2],List[1])\n",
        "\n",
        "List = [['john', 'paul', 'samuel'],['mary', 'magdalene']]\n",
        "print(List[0][1], List[0][1])"
      ],
      "execution_count": 37,
      "outputs": [
        {
          "output_type": "stream",
          "text": [
            "john peter\n",
            "paul paul\n"
          ],
          "name": "stdout"
        }
      ]
    },
    {
      "metadata": {
        "id": "onzrOdkoJPt0",
        "colab_type": "code",
        "colab": {
          "base_uri": "https://localhost:8080/",
          "height": 175
        },
        "outputId": "3a9aca13-4792-4fa3-eec1-5c1e9e838330"
      },
      "cell_type": "code",
      "source": [
        "# Python program to demonstrate \n",
        "# accessing of element from list \n",
        "\n",
        "# Creating a List with \n",
        "# the use of multiple values \n",
        "List = [\"Geeks\", \"For\", \"Geeks\"] \n",
        "\n",
        "# accessing a element from the \n",
        "# list using index number \n",
        "print(\"Accessing a element from the list\") \n",
        "print(List[0]) \n",
        "print(List[2]) \n",
        "\n",
        "# Creating a Multi-Dimensional List \n",
        "# (By Nesting a list inside a List) \n",
        "List = [['Geeks', 'For'] , ['Geeks']] \n",
        "\n",
        "# accessing a element from the \n",
        "# Multi-Dimensional List using \n",
        "# index number \n",
        "print(\"Acessing a element from a Multi-Dimensional list\") \n",
        "print(List[0][1]) \n",
        "print(List[1][0]) \n",
        "\n",
        "\n",
        "List = [1, 2, 'Geeks', 4, 'For', 6, 'Geeks'] \n",
        "\n",
        "# accessing a element using \n",
        "# negative indexing \n",
        "print(\"Acessing element using negative indexing\") \n",
        "\n",
        "# print the last element of list \n",
        "print(List[-1]) \n",
        "\n",
        "# print the third last element of list \n",
        "print(List[-3]) \n"
      ],
      "execution_count": 38,
      "outputs": [
        {
          "output_type": "stream",
          "text": [
            "Accessing a element from the list\n",
            "Geeks\n",
            "Geeks\n",
            "Acessing a element from a Multi-Dimensional list\n",
            "For\n",
            "Geeks\n",
            "Acessing element using negative indexing\n",
            "Geeks\n",
            "For\n"
          ],
          "name": "stdout"
        }
      ]
    },
    {
      "metadata": {
        "id": "LToh53NDKgHQ",
        "colab_type": "code",
        "colab": {}
      },
      "cell_type": "code",
      "source": [
        ""
      ],
      "execution_count": 0,
      "outputs": []
    },
    {
      "metadata": {
        "id": "BBIpknqoLBej",
        "colab_type": "text"
      },
      "cell_type": "markdown",
      "source": [
        "# Removing Elements from the List\n",
        "Elements can be removed from the List by using built-in **remove()** function but an Error arises if element doesn’t exist in the set. Remove() method only removes one element at a time, to remove range of elements, iterator is used. Pop() function can also be used to remove and return an element from the set, but by default it removes only the last element of the set, to remove element from a specific position of the List, index of the element is passed as an argument to the **pop()** method.\n",
        "\n",
        "Note – Remove method in List will only remove the first occurrence of the searched element."
      ]
    },
    {
      "metadata": {
        "id": "z8jYLFr1LGXz",
        "colab_type": "code",
        "colab": {
          "base_uri": "https://localhost:8080/",
          "height": 377
        },
        "outputId": "db257fcc-e33e-43b2-fbb6-b848a2ad999a"
      },
      "cell_type": "code",
      "source": [
        "# Example\n",
        "\n",
        "List = [1,2,3,4,5,\n",
        "       6,7,8,9,10]\n",
        "\n",
        "print(List)\n",
        "List.remove(5)\n",
        "List.remove(6)\n",
        "print(List)\n",
        "\n",
        "List.pop()\n",
        "print(List)\n",
        "\n",
        "for i in range(2,4):\n",
        "  List.remove(i)\n",
        "  print(List)\n",
        "  \n",
        "List.pop(4)\n",
        "print(List)\n",
        "\n",
        "print(len(List))\n",
        "print(min(List))\n",
        "print(max(List))\n",
        "print(sum(List))\n",
        "print(Sort(List))"
      ],
      "execution_count": 58,
      "outputs": [
        {
          "output_type": "stream",
          "text": [
            "[1, 2, 3, 4, 5, 6, 7, 8, 9, 10]\n",
            "[1, 2, 3, 4, 7, 8, 9, 10]\n",
            "[1, 2, 3, 4, 7, 8, 9]\n",
            "[1, 3, 4, 7, 8, 9]\n",
            "[1, 4, 7, 8, 9]\n",
            "[1, 4, 7, 8]\n",
            "4\n",
            "1\n",
            "8\n",
            "20\n"
          ],
          "name": "stdout"
        },
        {
          "output_type": "error",
          "ename": "NameError",
          "evalue": "ignored",
          "traceback": [
            "\u001b[0;31m---------------------------------------------------------------------------\u001b[0m",
            "\u001b[0;31mNameError\u001b[0m                                 Traceback (most recent call last)",
            "\u001b[0;32m<ipython-input-58-534d2db7bc98>\u001b[0m in \u001b[0;36m<module>\u001b[0;34m()\u001b[0m\n\u001b[1;32m     22\u001b[0m \u001b[0mprint\u001b[0m\u001b[0;34m(\u001b[0m\u001b[0mmax\u001b[0m\u001b[0;34m(\u001b[0m\u001b[0mList\u001b[0m\u001b[0;34m)\u001b[0m\u001b[0;34m)\u001b[0m\u001b[0;34m\u001b[0m\u001b[0;34m\u001b[0m\u001b[0m\n\u001b[1;32m     23\u001b[0m \u001b[0mprint\u001b[0m\u001b[0;34m(\u001b[0m\u001b[0msum\u001b[0m\u001b[0;34m(\u001b[0m\u001b[0mList\u001b[0m\u001b[0;34m)\u001b[0m\u001b[0;34m)\u001b[0m\u001b[0;34m\u001b[0m\u001b[0;34m\u001b[0m\u001b[0m\n\u001b[0;32m---> 24\u001b[0;31m \u001b[0mprint\u001b[0m\u001b[0;34m(\u001b[0m\u001b[0mSort\u001b[0m\u001b[0;34m(\u001b[0m\u001b[0mList\u001b[0m\u001b[0;34m)\u001b[0m\u001b[0;34m)\u001b[0m\u001b[0;34m\u001b[0m\u001b[0;34m\u001b[0m\u001b[0m\n\u001b[0m",
            "\u001b[0;31mNameError\u001b[0m: name 'Sort' is not defined"
          ]
        }
      ]
    },
    {
      "metadata": {
        "id": "4V5G8K9eLuQW",
        "colab_type": "code",
        "colab": {
          "base_uri": "https://localhost:8080/",
          "height": 262
        },
        "outputId": "de2f8164-fa04-412f-fe87-7b250100eb8b"
      },
      "cell_type": "code",
      "source": [
        "# Python program to demonstrate \n",
        "# Removal of elements in a List \n",
        "\n",
        "# Creating a List \n",
        "List = [1, 2, 3, 4, 5, 6, \n",
        "\t\t7, 8, 9, 10, 11, 12] \n",
        "print(\"Intial List: \") \n",
        "print(List) \n",
        "\n",
        "# Removing elements from List \n",
        "# using Remove() method \n",
        "List.remove(5) \n",
        "List.remove(6) \n",
        "print(\"\\nList after Removal of two elements: \") \n",
        "print(List) \n",
        "\n",
        "# Removing elements from List \n",
        "# using iterator method \n",
        "for i in range(1, 5): \n",
        "\tList.remove(i) \n",
        "print(\"\\nList after Removing a range of elements: \") \n",
        "print(List) \n",
        "\n",
        "# Removing element from the \n",
        "# Set using the pop() method \n",
        "List.pop() \n",
        "print(\"\\nList after popping an element: \") \n",
        "print(List) \n",
        "\n",
        "# Removing element at a \n",
        "# specific location from the \n",
        "# Set using the pop() method \n",
        "List.pop(2) \n",
        "print(\"\\nList after popping a specific element: \") \n",
        "print(List) \n"
      ],
      "execution_count": 44,
      "outputs": [
        {
          "output_type": "stream",
          "text": [
            "Intial List: \n",
            "[1, 2, 3, 4, 5, 6, 7, 8, 9, 10, 11, 12]\n",
            "\n",
            "List after Removal of two elements: \n",
            "[1, 2, 3, 4, 7, 8, 9, 10, 11, 12]\n",
            "\n",
            "List after Removing a range of elements: \n",
            "[7, 8, 9, 10, 11, 12]\n",
            "\n",
            "List after popping an element: \n",
            "[7, 8, 9, 10, 11]\n",
            "\n",
            "List after popping a specific element: \n",
            "[7, 8, 10, 11]\n"
          ],
          "name": "stdout"
        }
      ]
    },
    {
      "metadata": {
        "id": "ExUo-GUYNAkn",
        "colab_type": "code",
        "colab": {}
      },
      "cell_type": "code",
      "source": [
        ""
      ],
      "execution_count": 0,
      "outputs": []
    },
    {
      "metadata": {
        "id": "3wpT29SJNWZc",
        "colab_type": "text"
      },
      "cell_type": "markdown",
      "source": [
        "# Slicing of a List\n",
        "In Python List, there are multiple ways to print the whole List with all the elements, but to print a specific range of elements from the list, we use Slice operation. Slice operation is performed on Lists with the use of colon(:). To print elements from beginning to a range use [:Index], to print elements from end use [:-Index], to print elements from specific Index till the end use [Index:], to print elements within a range, use [Start Index:End Index] and to print whole List with the use of slicing operation, use [:]. Further, to print whole List in reverse order, use [::-1].\n",
        "\n",
        "Note – To print elements of List from rear end, use Negative Indexes.\n",
        "\n",
        "\n"
      ]
    },
    {
      "metadata": {
        "id": "TvI2fQ50NqYz",
        "colab_type": "code",
        "colab": {
          "base_uri": "https://localhost:8080/",
          "height": 105
        },
        "outputId": "2639d229-9355-4a4c-f785-0e143f91a234"
      },
      "cell_type": "code",
      "source": [
        "# Example\n",
        "\n",
        "List = [10,20,30,40,50,60,70,80,90,100,200,300,400,500,600,700,800,900,1000]\n",
        "\n",
        "Sliced_List = List[3:8]\n",
        "print(Sliced_List)\n",
        "\n",
        "Sliced_List = List[:-6]\n",
        "print(Sliced_List)\n",
        "\n",
        "Sliced_List = List[:5]\n",
        "print(Sliced_List)\n",
        "\n",
        "Sliced_List = List[:]\n",
        "print(Sliced_List)\n",
        "\n",
        "Sliced_List = List[::-1]\n",
        "print(Sliced_List)\n",
        "\n",
        "\n",
        "\n",
        "\n",
        "\n"
      ],
      "execution_count": 53,
      "outputs": [
        {
          "output_type": "stream",
          "text": [
            "[40, 50, 60, 70, 80]\n",
            "[10, 20, 30, 40, 50, 60, 70, 80, 90, 100, 200, 300, 400]\n",
            "[10, 20, 30, 40, 50]\n",
            "[10, 20, 30, 40, 50, 60, 70, 80, 90, 100, 200, 300, 400, 500, 600, 700, 800, 900, 1000]\n",
            "[1000, 900, 800, 700, 600, 500, 400, 300, 200, 100, 90, 80, 70, 60, 50, 40, 30, 20, 10]\n"
          ],
          "name": "stdout"
        }
      ]
    },
    {
      "metadata": {
        "id": "apLTwv_bPsdR",
        "colab_type": "code",
        "colab": {
          "base_uri": "https://localhost:8080/",
          "height": 315
        },
        "outputId": "9ad6cc7d-94ed-46b1-914a-b890c07c4e43"
      },
      "cell_type": "code",
      "source": [
        "# Python program to demonstrate \n",
        "# Removal of elements in a List \n",
        "\n",
        "# Creating a List \n",
        "List = ['G','E','E','K','S','F', \n",
        "\t\t'O','R','G','E','E','K','S'] \n",
        "print(\"Intial List: \") \n",
        "print(List) \n",
        "\n",
        "# Print elements of a range \n",
        "# using Slice operation \n",
        "Sliced_List = List[3:8] \n",
        "print(\"\\nSlicing elements in a range 3-8: \") \n",
        "print(Sliced_List) \n",
        "\n",
        "# Print elements from beginning \n",
        "# to a pre-defined point using Slice \n",
        "Sliced_List = List[:-6] \n",
        "print(\"\\nElements sliced till 6th element from last: \") \n",
        "print(Sliced_List) \n",
        "\n",
        "# Print elements from a \n",
        "# pre-defined point to end \n",
        "Sliced_List = List[5:] \n",
        "print(\"\\nElements sliced from 5th \"\n",
        "\t\"element till the end: \") \n",
        "print(Sliced_List) \n",
        "\n",
        "# Printing elements from \n",
        "# beginning till end \n",
        "Sliced_List = List[:] \n",
        "print(\"\\nPrinting all elements using slice operation: \") \n",
        "print(Sliced_List) \n",
        "\n",
        "# Printing elements in reverse \n",
        "# using Slice operation \n",
        "Sliced_List = List[::-1] \n",
        "print(\"\\nPrinting List in reverse: \") \n",
        "print(Sliced_List) \n"
      ],
      "execution_count": 46,
      "outputs": [
        {
          "output_type": "stream",
          "text": [
            "Intial List: \n",
            "['G', 'E', 'E', 'K', 'S', 'F', 'O', 'R', 'G', 'E', 'E', 'K', 'S']\n",
            "\n",
            "Slicing elements in a range 3-8: \n",
            "['K', 'S', 'F', 'O', 'R']\n",
            "\n",
            "Elements sliced till 6th element from last: \n",
            "['G', 'E', 'E', 'K', 'S', 'F', 'O']\n",
            "\n",
            "Elements sliced from 5th element till the end: \n",
            "['F', 'O', 'R', 'G', 'E', 'E', 'K', 'S']\n",
            "\n",
            "Printing all elements using slice operation: \n",
            "['G', 'E', 'E', 'K', 'S', 'F', 'O', 'R', 'G', 'E', 'E', 'K', 'S']\n",
            "\n",
            "Printing List in reverse: \n",
            "['S', 'K', 'E', 'E', 'G', 'R', 'O', 'F', 'S', 'K', 'E', 'E', 'G']\n"
          ],
          "name": "stdout"
        }
      ]
    },
    {
      "metadata": {
        "id": "zYtIcv9TP2TU",
        "colab_type": "code",
        "colab": {}
      },
      "cell_type": "code",
      "source": [
        ""
      ],
      "execution_count": 0,
      "outputs": []
    },
    {
      "metadata": {
        "id": "eIUzB1QWQ7wx",
        "colab_type": "text"
      },
      "cell_type": "markdown",
      "source": [
        "List Methods\n",
        "FUNCTION\tDESCRIPTION\n",
        "Append()\tAdd an element to the end of the list\n",
        "Extend()\tAdd all elements of a list to the another list\n",
        "Insert()\tInsert an item at the defined index\n",
        "Remove()\tRemoves an item from the list\n",
        "Pop()\tRemoves and returns an element at the given index\n",
        "Clear()\tRemoves all items from the list\n",
        "Index()\tReturns the index of the first matched item\n",
        "Count()\tReturns the count of number of items passed as an argument\n",
        "Sort()\tSort items in a list in ascending order\n",
        "Reverse()\tReverse the order of items in the list\n",
        "copy()\tReturns a copy of the list\n",
        "Built-in functions with List\n",
        "FUNCTION\tDESCRIPTION\n",
        "round()\tRounds off to the given number of digits and returns the floating point number\n",
        "reduce()\tapply a particular function passed in its argument to all of the list elements stores the intermediate result and only returns the final summation value\n",
        "sum()\tSums up the numbers in the list\n",
        "ord()\tReturns an integer representing the Unicode code point of the given Unicode character\n",
        "cmp()\tThis function returns 1, if first list is “greater” than second list\n",
        "max()\treturn maximum element of given list\n",
        "min()\treturn minimum element of given list\n",
        "all()\tReturns true if all element are true or if list is empty\n",
        "any()\treturn true if any element of the list is true. if list is empty, return false\n",
        "len()\tReturns length of the list or size of the list\n",
        "enumerate()\tReturns enumerate object of list\n",
        "accumulate()\tapply a particular function passed in its argument to all of the list elements returns a list containing the intermediate results\n",
        "filter()\ttests if each element of a list true or not\n",
        "map()\treturns a list of the results after applying the given function to each item of a given iterable\n",
        "lambda()\tThis function can have any number of arguments but only one expression, which is evaluated and returned."
      ]
    },
    {
      "metadata": {
        "id": "YVeKA5taQ9IK",
        "colab_type": "code",
        "colab": {}
      },
      "cell_type": "code",
      "source": [
        ""
      ],
      "execution_count": 0,
      "outputs": []
    }
  ]
}