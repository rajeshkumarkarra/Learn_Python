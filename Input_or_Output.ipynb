{
  "nbformat": 4,
  "nbformat_minor": 0,
  "metadata": {
    "colab": {
      "name": "Input_or_Output.ipynb",
      "version": "0.3.2",
      "provenance": [],
      "include_colab_link": true
    },
    "kernelspec": {
      "display_name": "Python 3",
      "language": "python",
      "name": "python3"
    }
  },
  "cells": [
    {
      "cell_type": "markdown",
      "metadata": {
        "id": "view-in-github",
        "colab_type": "text"
      },
      "source": [
        "<a href=\"https://colab.research.google.com/github/rajeshkumarkarra/Learn_Python/blob/master/Input_or_Output.ipynb\" target=\"_parent\"><img src=\"https://colab.research.google.com/assets/colab-badge.svg\" alt=\"Open In Colab\"/></a>"
      ]
    },
    {
      "metadata": {
        "id": "_AJE3uhpbtnW",
        "colab_type": "text"
      },
      "cell_type": "markdown",
      "source": [
        "How the input function works in Python :\n",
        "\n",
        "When input() function executes program flow will be stopped until the user has given an input.\n",
        "The text or message display on the output screen to ask a user to enter input value is optional i.e. the prompt, will be printed on the screen is optional.\n",
        "Whatever you enter as input, input function convert it into a string. if you enter an integer value still input() function convert it into a string. You need to explicitly convert it into an integer in your code using typecasting."
      ]
    },
    {
      "metadata": {
        "id": "P9AmKmQAbtna",
        "colab_type": "code",
        "colab": {},
        "outputId": "112a9d63-b7c5-4170-dd2f-5802f9403c70"
      },
      "cell_type": "code",
      "source": [
        "# Program to check input \n",
        "# type in Python \n",
        "\n",
        "num = input (\"Enter number :\") \n",
        "print(num) \n",
        "name1 = input(\"Enter name : \") \n",
        "print(name1) \n",
        "\n",
        "# Printing type of input value \n",
        "print (\"type of number\", type(num)) \n",
        "print (\"type of name\", type(name1)) \n"
      ],
      "execution_count": 0,
      "outputs": [
        {
          "output_type": "stream",
          "text": [
            "Enter number : 3\n"
          ],
          "name": "stdin"
        },
        {
          "output_type": "stream",
          "text": [
            "3\n"
          ],
          "name": "stdout"
        },
        {
          "output_type": "stream",
          "text": [
            "Enter name :  4\n"
          ],
          "name": "stdin"
        },
        {
          "output_type": "stream",
          "text": [
            "4\n",
            "type of number <class 'str'>\n",
            "type of name <class 'str'>\n"
          ],
          "name": "stdout"
        }
      ]
    },
    {
      "metadata": {
        "id": "1EMYoOw3btnl",
        "colab_type": "text"
      },
      "cell_type": "markdown",
      "source": [
        "# Taking input from console in Python"
      ]
    },
    {
      "metadata": {
        "id": "6C_WhEj0btnm",
        "colab_type": "code",
        "colab": {},
        "outputId": "02707056-f204-49d1-8938-5d96c91bf633"
      },
      "cell_type": "code",
      "source": [
        "num1 = int(input(\"enter first value\"))\n",
        "num2 = int(input(\"enter second value\"))\n",
        "\n",
        "print(num1+num2)"
      ],
      "execution_count": 0,
      "outputs": [
        {
          "output_type": "stream",
          "text": [
            "enter first value 2\n",
            "enter second value 5\n"
          ],
          "name": "stdin"
        },
        {
          "output_type": "stream",
          "text": [
            "7\n"
          ],
          "name": "stdout"
        }
      ]
    },
    {
      "metadata": {
        "id": "MLjjZxHCbtnt",
        "colab_type": "text"
      },
      "cell_type": "markdown",
      "source": [
        "Typecasting the input to Integer: There might be conditions when you might require integer input from user/Console, the following code takes two input(integer/float) from console and typecasts them to integer then prints the sum."
      ]
    },
    {
      "metadata": {
        "id": "OxPo5ZSCbtnu",
        "colab_type": "code",
        "colab": {},
        "outputId": "344ec67b-fef1-4633-ca8e-77970fddf2dd"
      },
      "cell_type": "code",
      "source": [
        "# input \n",
        "num1 = int(input()) \n",
        "num2 = int(input()) \n",
        "\n",
        "# printing the sum in integer \n",
        "print(num1 + num2) \n"
      ],
      "execution_count": 0,
      "outputs": [
        {
          "output_type": "stream",
          "text": [
            " 2\n",
            " 5\n"
          ],
          "name": "stdin"
        },
        {
          "output_type": "stream",
          "text": [
            "7\n"
          ],
          "name": "stdout"
        }
      ]
    },
    {
      "metadata": {
        "id": "YGAIDC5tbtn1",
        "colab_type": "text"
      },
      "cell_type": "markdown",
      "source": [
        "Typecasting the input to Float: To convert the input to float the following code will work out."
      ]
    },
    {
      "metadata": {
        "id": "qXJOpK2Hbtn4",
        "colab_type": "code",
        "colab": {},
        "outputId": "6659799b-b1e7-4dcc-d639-bb2f2d1137a5"
      },
      "cell_type": "code",
      "source": [
        "# input \n",
        "num1 = float(input()) \n",
        "num2 = float(input()) \n",
        "\n",
        "# printing the sum in float \n",
        "print(num1 + num2) \n"
      ],
      "execution_count": 0,
      "outputs": [
        {
          "output_type": "stream",
          "text": [
            " 1\n",
            " 2\n"
          ],
          "name": "stdin"
        },
        {
          "output_type": "stream",
          "text": [
            "3.0\n"
          ],
          "name": "stdout"
        }
      ]
    },
    {
      "metadata": {
        "id": "Ja-Ep5-4btn-",
        "colab_type": "code",
        "colab": {},
        "outputId": "373b5105-ef6c-40e8-bab9-eebd687c2660"
      },
      "cell_type": "code",
      "source": [
        "# Example\n",
        "num1=float(input(\"enter first value\"))\n",
        "num2=float(input(\"enter second value\"))\n",
        "\n",
        "print(num1+num2)"
      ],
      "execution_count": 0,
      "outputs": [
        {
          "output_type": "stream",
          "text": [
            "enter first value 2\n",
            "enter second value 5\n"
          ],
          "name": "stdin"
        },
        {
          "output_type": "stream",
          "text": [
            "7.0\n"
          ],
          "name": "stdout"
        }
      ]
    },
    {
      "metadata": {
        "id": "fiINAEuBbtoH",
        "colab_type": "text"
      },
      "cell_type": "markdown",
      "source": [
        "Typecasting the input to String: All kind of input can be converted to string type whether they are float or integer. We make use of keyword str for typecasting."
      ]
    },
    {
      "metadata": {
        "id": "VJd6wdDlbtoJ",
        "colab_type": "code",
        "colab": {},
        "outputId": "98d10829-1b46-4f30-ccc4-ff5413a7d045"
      },
      "cell_type": "code",
      "source": [
        "# input \n",
        "string = str(input()) \n",
        "\n",
        "# output \n",
        "print(string) \n",
        "\n",
        "# example\n",
        "\n",
        "string = str(input(\"enter your name\"))\n",
        "\n",
        "print(string)\n"
      ],
      "execution_count": 0,
      "outputs": [
        {
          "output_type": "stream",
          "text": [
            " rajesh\n"
          ],
          "name": "stdin"
        },
        {
          "output_type": "stream",
          "text": [
            "rajesh\n"
          ],
          "name": "stdout"
        },
        {
          "output_type": "stream",
          "text": [
            "enter your name rajes\n"
          ],
          "name": "stdin"
        },
        {
          "output_type": "stream",
          "text": [
            "rajes\n"
          ],
          "name": "stdout"
        }
      ]
    },
    {
      "metadata": {
        "id": "HFlDcEpCbtoT",
        "colab_type": "text"
      },
      "cell_type": "markdown",
      "source": [
        "# Taking multiple inputs from user in Python"
      ]
    },
    {
      "metadata": {
        "id": "VaXJAfbKbtoV",
        "colab_type": "text"
      },
      "cell_type": "markdown",
      "source": [
        "Developer often wants a user to enter multiple values or inputs in one line. In C++/C user can take multiple inputs in one line using scanf but in Python user can take multiple values or inputs in one line by two methods.\n",
        "\n",
        "Using split() method\n",
        "Using List comprehension\n",
        "Using split() method :\n",
        "This function helps in getting a multiple inputs from user . It breaks the given input by the specified separator. If separator is not provided then any white space is a separator. Generally, user use a split() method to split a Python string but one can used it in taking multiple input.\n",
        "\n",
        "Syntax :"
      ]
    },
    {
      "metadata": {
        "id": "tXxaeW7dbtoX",
        "colab_type": "text"
      },
      "cell_type": "markdown",
      "source": [
        "# Syntax"
      ]
    },
    {
      "metadata": {
        "id": "GPuyBjLHbtoa",
        "colab_type": "raw"
      },
      "cell_type": "markdown",
      "source": [
        "input().split(separator, maxsplit)"
      ]
    },
    {
      "metadata": {
        "id": "uiPxFa9vbtoc",
        "colab_type": "code",
        "colab": {},
        "outputId": "1293cd91-dc3b-4130-9781-804fd7cd374c"
      },
      "cell_type": "code",
      "source": [
        "# Python program showing how to \n",
        "# multiple input using split \n",
        "\n",
        "# taking two inputs at a time \n",
        "x, y = input(\"Enter a two value: \").split() \n",
        "print(\"Number of boys: \", x) \n",
        "print(\"Number of girls: \", y) \n",
        "print() \n",
        "\n",
        "# taking three inputs at a time \n",
        "x, y, z = input(\"Enter a three value: \").split() \n",
        "print(\"Total number of students: \", x) \n",
        "print(\"Number of boys is : \", y) \n",
        "print(\"Number of girls is : \", z) \n",
        "print() \n",
        "\n",
        "# taking two inputs at a time \n",
        "a, b = input(\"Enter a two value: \").split() \n",
        "print(\"First number is {} and second number is {}\".format(a, b)) \n",
        "print() \n",
        "\n",
        "# taking multiple inputs at a time \n",
        "# and type casting using list() function \n",
        "x = list(map(int, input(\"Enter a multiple value: \").split())) \n",
        "print(\"List of students: \", x) \n"
      ],
      "execution_count": 0,
      "outputs": [
        {
          "output_type": "stream",
          "text": [
            "Enter a two value:  2 10\n"
          ],
          "name": "stdin"
        },
        {
          "output_type": "stream",
          "text": [
            "Number of boys:  2\n",
            "Number of girls:  10\n",
            "\n"
          ],
          "name": "stdout"
        },
        {
          "output_type": "stream",
          "text": [
            "Enter a three value:  50 35 15 \n"
          ],
          "name": "stdin"
        },
        {
          "output_type": "stream",
          "text": [
            "Total number of students:  50\n",
            "Number of boys is :  35\n",
            "Number of girls is :  15\n",
            "\n"
          ],
          "name": "stdout"
        },
        {
          "output_type": "stream",
          "text": [
            "Enter a two value:  10 10\n"
          ],
          "name": "stdin"
        },
        {
          "output_type": "stream",
          "text": [
            "First number is 10 and second number is 10\n",
            "\n"
          ],
          "name": "stdout"
        },
        {
          "output_type": "stream",
          "text": [
            "Enter a multiple value:  10 20 35 \n"
          ],
          "name": "stdin"
        },
        {
          "output_type": "stream",
          "text": [
            "List of students:  [10, 20, 35]\n"
          ],
          "name": "stdout"
        }
      ]
    },
    {
      "metadata": {
        "id": "V1GY-vnmbtol",
        "colab_type": "code",
        "colab": {},
        "outputId": "9cc88908-4f08-4af1-c705-f0487594c317"
      },
      "cell_type": "code",
      "source": [
        "# Example\n",
        "x,y=input(\"enter a two values: \").split()\n",
        "print(\"the value of 'x' =\", x)\n",
        "print(\"the value of 'y' =\", y)\n",
        "\n",
        "a,b,c=input(\"enter a three values: \").split()\n",
        "print(\"the value of 'a' =\", a)\n",
        "print(\"the value of 'b' =\", b)\n",
        "print(\"the value of 'c' =\", c)\n",
        "\n",
        "d,e=input(\"enter a two values: \").split()\n",
        "print(\"first value {} and second value {} \".format(d,e))\n",
        "\n",
        "x=list(map(int, input(\"Enter a multiple value: \").split()))\n",
        "print(\"List of students: \", x)\n"
      ],
      "execution_count": 0,
      "outputs": [
        {
          "output_type": "stream",
          "text": [
            "enter a two values:  10 20\n"
          ],
          "name": "stdin"
        },
        {
          "output_type": "stream",
          "text": [
            "the value of 'x' = 10\n",
            "the value of 'y' = 20\n"
          ],
          "name": "stdout"
        },
        {
          "output_type": "stream",
          "text": [
            "enter a three values:  10 20 30\n"
          ],
          "name": "stdin"
        },
        {
          "output_type": "stream",
          "text": [
            "the value of 'a' = 10\n",
            "the value of 'b' = 20\n",
            "the value of 'c' = 30\n"
          ],
          "name": "stdout"
        },
        {
          "output_type": "stream",
          "text": [
            "enter a two values:  10 20\n"
          ],
          "name": "stdin"
        },
        {
          "output_type": "stream",
          "text": [
            "first value 10 and second value 20 \n"
          ],
          "name": "stdout"
        },
        {
          "output_type": "stream",
          "text": [
            "Enter a multiple value:  10 20 30 40 50 60 70 80 90 45 25 \n"
          ],
          "name": "stdin"
        },
        {
          "output_type": "stream",
          "text": [
            "List of students:  [10, 20, 30, 40, 50, 60, 70, 80, 90, 45, 25]\n"
          ],
          "name": "stdout"
        }
      ]
    },
    {
      "metadata": {
        "id": "Po8pfWPObtou",
        "colab_type": "text"
      },
      "cell_type": "markdown",
      "source": [
        "# Using List comprehension :\n",
        "\n",
        "\n"
      ]
    },
    {
      "metadata": {
        "id": "4yWKHRKcbtow",
        "colab_type": "text"
      },
      "cell_type": "markdown",
      "source": [
        "List comprehension is an elegant way to define and create list in Python. We can create lists just like mathematical statements in one line only. It is also used in getting multiple inputs from a user.\n",
        "\n",
        "Example:"
      ]
    },
    {
      "metadata": {
        "id": "KcAhL6EPbtoy",
        "colab_type": "code",
        "colab": {},
        "outputId": "338e20fe-b0ff-478b-91b2-c33b0200a646"
      },
      "cell_type": "code",
      "source": [
        "# Python program showing \n",
        "# how to take multiple input \n",
        "# using List comprehension \n",
        "\n",
        "# taking two input at a time \n",
        "x, y = [int(x) for x in input(\"Enter two value: \").split()] \n",
        "print(\"First Number is: \", x) \n",
        "print(\"Second Number is: \", y) \n",
        "print() \n",
        "\n",
        "# taking three input at a time \n",
        "x, y, z = [int(x) for x in input(\"Enter three value: \").split()] \n",
        "print(\"First Number is: \", x) \n",
        "print(\"Second Number is: \", y) \n",
        "print(\"Third Number is: \", z) \n",
        "print()\n",
        " \n",
        "\n",
        "# taking two inputs at a time \n",
        "x, y = [int(x) for x in input(\"Enter two value: \").split()] \n",
        "print(\"First number is {} and second number is {}\".format(x, y)) \n",
        "print() \n",
        "\n",
        "# taking multiple inputs at a time \n",
        "x = [int(x) for x in input(\"Enter multiple value: \").split()] \n",
        "print(\"Number of list is: \", x) \n"
      ],
      "execution_count": 0,
      "outputs": [
        {
          "output_type": "stream",
          "text": [
            "Enter two value:  10 20\n"
          ],
          "name": "stdin"
        },
        {
          "output_type": "stream",
          "text": [
            "First Number is:  10\n",
            "Second Number is:  20\n",
            "\n"
          ],
          "name": "stdout"
        },
        {
          "output_type": "stream",
          "text": [
            "Enter three value:  10 20 30\n"
          ],
          "name": "stdin"
        },
        {
          "output_type": "stream",
          "text": [
            "First Number is:  10\n"
          ],
          "name": "stdout"
        },
        {
          "output_type": "stream",
          "text": [
            "Enter two value:  10 20\n"
          ],
          "name": "stdin"
        },
        {
          "output_type": "stream",
          "text": [
            "First number is 10 and second number is 20\n",
            "\n"
          ],
          "name": "stdout"
        },
        {
          "output_type": "stream",
          "text": [
            "Enter multiple value:  10 20\n"
          ],
          "name": "stdin"
        },
        {
          "output_type": "stream",
          "text": [
            "Number of list is:  [10, 20]\n"
          ],
          "name": "stdout"
        }
      ]
    },
    {
      "metadata": {
        "id": "Uzim765lbto5",
        "colab_type": "code",
        "colab": {},
        "outputId": "849657d5-f7b6-45c6-df4c-6304eae41bb0"
      },
      "cell_type": "code",
      "source": [
        "# Example\n",
        "x, y =[int(x) for x in input(\"Enter two value: \").split()]\n",
        "print(\"first number is: \", x)\n",
        "print(\"second number is: \", y)\n",
        "print()\n",
        "\n",
        "x, y, z = [int(x) for x in input(\"Enter three values: \").split()]\n",
        "print(\"First Number is: \", x) \n",
        "print(\"Second Number is: \", y) \n",
        "print(\"Third Number is: \", z) \n",
        "print()\n",
        "\n",
        "x, y =[int(x) for x in input(\"Enter two values: \").split()]\n",
        "print(\"First number is {} and second number {}\".format(x,y))\n",
        "print()\n",
        "\n",
        "x =[int(x) for x in input(\"Enter multiple values: \").split()]\n",
        "print(\"number of list is: \", x)"
      ],
      "execution_count": 0,
      "outputs": [
        {
          "output_type": "stream",
          "text": [
            "Enter two value:  10 20\n"
          ],
          "name": "stdin"
        },
        {
          "output_type": "stream",
          "text": [
            "first number is:  10\n",
            "second number is:  20\n",
            "\n"
          ],
          "name": "stdout"
        },
        {
          "output_type": "stream",
          "text": [
            "Enter three values:  10 20 30\n"
          ],
          "name": "stdin"
        },
        {
          "output_type": "stream",
          "text": [
            "First Number is:  10\n",
            "Second Number is:  20\n",
            "Third Number is:  30\n",
            "\n"
          ],
          "name": "stdout"
        },
        {
          "output_type": "stream",
          "text": [
            "Enter two values:  10 20\n"
          ],
          "name": "stdin"
        },
        {
          "output_type": "stream",
          "text": [
            "First number is 10 and second number 20\n",
            "\n"
          ],
          "name": "stdout"
        },
        {
          "output_type": "stream",
          "text": [
            "Enter multiple values:  10 20 30 40 50 60 70 80 90 100 101 110 200\n"
          ],
          "name": "stdin"
        },
        {
          "output_type": "stream",
          "text": [
            "number of list is:  [10, 20, 30, 40, 50, 60, 70, 80, 90, 100, 101, 110, 200]\n"
          ],
          "name": "stdout"
        }
      ]
    },
    {
      "metadata": {
        "id": "ajwoHuk2btpA",
        "colab_type": "code",
        "colab": {
          "base_uri": "https://localhost:8080/",
          "height": 35
        },
        "outputId": "3b0e4da7-77d4-43a8-b52e-bf2739678173"
      },
      "cell_type": "code",
      "source": [
        "print(\"testing google's colab\")"
      ],
      "execution_count": 1,
      "outputs": [
        {
          "output_type": "stream",
          "text": [
            "testing google's colab\n"
          ],
          "name": "stdout"
        }
      ]
    },
    {
      "metadata": {
        "id": "nprGY2qGb1rw",
        "colab_type": "code",
        "colab": {}
      },
      "cell_type": "code",
      "source": [
        ""
      ],
      "execution_count": 0,
      "outputs": []
    }
  ]
}