{
  "nbformat": 4,
  "nbformat_minor": 0,
  "metadata": {
    "colab": {
      "name": "Input or Output.ipynb",
      "version": "0.3.2",
      "provenance": [],
      "include_colab_link": true
    },
    "kernelspec": {
      "display_name": "Python 3",
      "language": "python",
      "name": "python3"
    }
  },
  "cells": [
    {
      "cell_type": "markdown",
      "metadata": {
        "id": "view-in-github",
        "colab_type": "text"
      },
      "source": [
        "<a href=\"https://colab.research.google.com/github/rajeshkumarkarra/Learn_Python/blob/master/Input_or_Output.ipynb\" target=\"_parent\"><img src=\"https://colab.research.google.com/assets/colab-badge.svg\" alt=\"Open In Colab\"/></a>"
      ]
    },
    {
      "metadata": {
        "id": "tRsATTZpXW6_",
        "colab_type": "text"
      },
      "cell_type": "markdown",
      "source": [
        "How the input function works in Python :\n",
        "\n",
        "When input() function executes program flow will be stopped until the user has given an input.\n",
        "The text or message display on the output screen to ask a user to enter input value is optional i.e. the prompt, will be printed on the screen is optional.\n",
        "Whatever you enter as input, input function convert it into a string. if you enter an integer value still input() function convert it into a string. You need to explicitly convert it into an integer in your code using typecasting."
      ]
    },
    {
      "metadata": {
        "id": "5GlgLVMiXW7C",
        "colab_type": "code",
        "colab": {},
        "outputId": "60caf91d-270d-4004-ffde-7bd483eda726"
      },
      "cell_type": "code",
      "source": [
        "# Program to check input \n",
        "# type in Python \n",
        "\n",
        "num = input (\"Enter number :\") \n",
        "print(num) \n",
        "name1 = input(\"Enter name : \") \n",
        "print(name1) \n",
        "\n",
        "# Printing type of input value \n",
        "print (\"type of number\", type(num)) \n",
        "print (\"type of name\", type(name1)) \n"
      ],
      "execution_count": 0,
      "outputs": [
        {
          "output_type": "stream",
          "text": [
            "Enter number : 3\n"
          ],
          "name": "stdin"
        },
        {
          "output_type": "stream",
          "text": [
            "3\n"
          ],
          "name": "stdout"
        },
        {
          "output_type": "stream",
          "text": [
            "Enter name :  4\n"
          ],
          "name": "stdin"
        },
        {
          "output_type": "stream",
          "text": [
            "4\n",
            "type of number <class 'str'>\n",
            "type of name <class 'str'>\n"
          ],
          "name": "stdout"
        }
      ]
    },
    {
      "metadata": {
        "id": "zUyiPF-hXW7Q",
        "colab_type": "text"
      },
      "cell_type": "markdown",
      "source": [
        "# Taking input from console in Python"
      ]
    },
    {
      "metadata": {
        "id": "wATW1MvuXW7S",
        "colab_type": "code",
        "colab": {},
        "outputId": "61d1cdd3-291b-4857-a066-7aec0d801844"
      },
      "cell_type": "code",
      "source": [
        "num1 = int(input(\"enter first value\"))\n",
        "num2 = int(input(\"enter second value\"))\n",
        "\n",
        "print(num1+num2)"
      ],
      "execution_count": 0,
      "outputs": [
        {
          "output_type": "stream",
          "text": [
            "enter first value 2\n",
            "enter second value 5\n"
          ],
          "name": "stdin"
        },
        {
          "output_type": "stream",
          "text": [
            "7\n"
          ],
          "name": "stdout"
        }
      ]
    },
    {
      "metadata": {
        "id": "NiOJ5GbxXW7a",
        "colab_type": "text"
      },
      "cell_type": "markdown",
      "source": [
        "Typecasting the input to Integer: There might be conditions when you might require integer input from user/Console, the following code takes two input(integer/float) from console and typecasts them to integer then prints the sum."
      ]
    },
    {
      "metadata": {
        "id": "Ymh5BVjGXW7d",
        "colab_type": "code",
        "colab": {},
        "outputId": "454eb469-b8b4-4976-ee80-469cb0c14b9c"
      },
      "cell_type": "code",
      "source": [
        "# input \n",
        "num1 = int(input()) \n",
        "num2 = int(input()) \n",
        "\n",
        "# printing the sum in integer \n",
        "print(num1 + num2) \n"
      ],
      "execution_count": 0,
      "outputs": [
        {
          "output_type": "stream",
          "text": [
            " 2\n",
            " 5\n"
          ],
          "name": "stdin"
        },
        {
          "output_type": "stream",
          "text": [
            "7\n"
          ],
          "name": "stdout"
        }
      ]
    },
    {
      "metadata": {
        "id": "P_-vCPgHXW7o",
        "colab_type": "text"
      },
      "cell_type": "markdown",
      "source": [
        "Typecasting the input to Float: To convert the input to float the following code will work out."
      ]
    },
    {
      "metadata": {
        "id": "ZoAZEVsIXW7r",
        "colab_type": "code",
        "colab": {},
        "outputId": "ed184f91-681f-4020-e024-5abd55d2cd9c"
      },
      "cell_type": "code",
      "source": [
        "# input \n",
        "num1 = float(input()) \n",
        "num2 = float(input()) \n",
        "\n",
        "# printing the sum in float \n",
        "print(num1 + num2) \n"
      ],
      "execution_count": 0,
      "outputs": [
        {
          "output_type": "stream",
          "text": [
            " 1\n",
            " 2\n"
          ],
          "name": "stdin"
        },
        {
          "output_type": "stream",
          "text": [
            "3.0\n"
          ],
          "name": "stdout"
        }
      ]
    },
    {
      "metadata": {
        "id": "SpCyFvL8XW7x",
        "colab_type": "code",
        "colab": {},
        "outputId": "d79c0b13-7a38-4231-f7e2-2a4517e9d74a"
      },
      "cell_type": "code",
      "source": [
        "# Example\n",
        "num1=float(input(\"enter first value\"))\n",
        "num2=float(input(\"enter second value\"))\n",
        "\n",
        "print(num1+num2)"
      ],
      "execution_count": 0,
      "outputs": [
        {
          "output_type": "stream",
          "text": [
            "enter first value 2\n",
            "enter second value 5\n"
          ],
          "name": "stdin"
        },
        {
          "output_type": "stream",
          "text": [
            "7.0\n"
          ],
          "name": "stdout"
        }
      ]
    },
    {
      "metadata": {
        "id": "G_eWXJNZXW76",
        "colab_type": "text"
      },
      "cell_type": "markdown",
      "source": [
        "Typecasting the input to String: All kind of input can be converted to string type whether they are float or integer. We make use of keyword str for typecasting."
      ]
    },
    {
      "metadata": {
        "id": "kJtDWbhBXW77",
        "colab_type": "code",
        "colab": {},
        "outputId": "8320ae83-4cce-46e1-a6cf-6688546b31e5"
      },
      "cell_type": "code",
      "source": [
        "# input \n",
        "string = str(input()) \n",
        "\n",
        "# output \n",
        "print(string) \n",
        "\n",
        "# example\n",
        "\n",
        "string = str(input(\"enter your name\"))\n",
        "\n",
        "print(string)\n"
      ],
      "execution_count": 0,
      "outputs": [
        {
          "output_type": "stream",
          "text": [
            " rajesh\n"
          ],
          "name": "stdin"
        },
        {
          "output_type": "stream",
          "text": [
            "rajesh\n"
          ],
          "name": "stdout"
        },
        {
          "output_type": "stream",
          "text": [
            "enter your name rajes\n"
          ],
          "name": "stdin"
        },
        {
          "output_type": "stream",
          "text": [
            "rajes\n"
          ],
          "name": "stdout"
        }
      ]
    },
    {
      "metadata": {
        "id": "9IjPpGyCXW8C",
        "colab_type": "text"
      },
      "cell_type": "markdown",
      "source": [
        "# Taking multiple inputs from user in Python"
      ]
    },
    {
      "metadata": {
        "id": "f8rNtevyXW8F",
        "colab_type": "text"
      },
      "cell_type": "markdown",
      "source": [
        "Developer often wants a user to enter multiple values or inputs in one line. In C++/C user can take multiple inputs in one line using scanf but in Python user can take multiple values or inputs in one line by two methods.\n",
        "\n",
        "Using split() method\n",
        "Using List comprehension\n",
        "Using split() method :\n",
        "This function helps in getting a multiple inputs from user . It breaks the given input by the specified separator. If separator is not provided then any white space is a separator. Generally, user use a split() method to split a Python string but one can used it in taking multiple input.\n",
        "\n",
        "Syntax :"
      ]
    },
    {
      "metadata": {
        "id": "cG7Alax1XW8H",
        "colab_type": "text"
      },
      "cell_type": "markdown",
      "source": [
        "# Syntax"
      ]
    },
    {
      "metadata": {
        "id": "INvEqb-SXW8K",
        "colab_type": "raw"
      },
      "cell_type": "markdown",
      "source": [
        "input().split(separator, maxsplit)"
      ]
    },
    {
      "metadata": {
        "id": "bky3hYoQXW8L",
        "colab_type": "code",
        "colab": {},
        "outputId": "8f3de6c7-b491-4a10-a082-4cf4ca927d74"
      },
      "cell_type": "code",
      "source": [
        "# Python program showing how to \n",
        "# multiple input using split \n",
        "\n",
        "# taking two inputs at a time \n",
        "x, y = input(\"Enter a two value: \").split() \n",
        "print(\"Number of boys: \", x) \n",
        "print(\"Number of girls: \", y) \n",
        "print() \n",
        "\n",
        "# taking three inputs at a time \n",
        "x, y, z = input(\"Enter a three value: \").split() \n",
        "print(\"Total number of students: \", x) \n",
        "print(\"Number of boys is : \", y) \n",
        "print(\"Number of girls is : \", z) \n",
        "print() \n",
        "\n",
        "# taking two inputs at a time \n",
        "a, b = input(\"Enter a two value: \").split() \n",
        "print(\"First number is {} and second number is {}\".format(a, b)) \n",
        "print() \n",
        "\n",
        "# taking multiple inputs at a time \n",
        "# and type casting using list() function \n",
        "x = list(map(int, input(\"Enter a multiple value: \").split())) \n",
        "print(\"List of students: \", x) \n"
      ],
      "execution_count": 0,
      "outputs": [
        {
          "output_type": "stream",
          "text": [
            "Enter a two value:  2 10\n"
          ],
          "name": "stdin"
        },
        {
          "output_type": "stream",
          "text": [
            "Number of boys:  2\n",
            "Number of girls:  10\n",
            "\n"
          ],
          "name": "stdout"
        },
        {
          "output_type": "stream",
          "text": [
            "Enter a three value:  50 35 15 \n"
          ],
          "name": "stdin"
        },
        {
          "output_type": "stream",
          "text": [
            "Total number of students:  50\n",
            "Number of boys is :  35\n",
            "Number of girls is :  15\n",
            "\n"
          ],
          "name": "stdout"
        },
        {
          "output_type": "stream",
          "text": [
            "Enter a two value:  10 10\n"
          ],
          "name": "stdin"
        },
        {
          "output_type": "stream",
          "text": [
            "First number is 10 and second number is 10\n",
            "\n"
          ],
          "name": "stdout"
        },
        {
          "output_type": "stream",
          "text": [
            "Enter a multiple value:  10 20 35 \n"
          ],
          "name": "stdin"
        },
        {
          "output_type": "stream",
          "text": [
            "List of students:  [10, 20, 35]\n"
          ],
          "name": "stdout"
        }
      ]
    },
    {
      "metadata": {
        "id": "RXtCk1Y6XW8Q",
        "colab_type": "code",
        "colab": {},
        "outputId": "4add4b08-0bc3-4b84-e495-c01f221b0d83"
      },
      "cell_type": "code",
      "source": [
        "# Example\n",
        "x,y=input(\"enter a two values: \").split()\n",
        "print(\"the value of 'x' =\", x)\n",
        "print(\"the value of 'y' =\", y)\n",
        "\n",
        "a,b,c=input(\"enter a three values: \").split()\n",
        "print(\"the value of 'a' =\", a)\n",
        "print(\"the value of 'b' =\", b)\n",
        "print(\"the value of 'c' =\", c)\n",
        "\n",
        "d,e=input(\"enter a two values: \").split()\n",
        "print(\"first value {} and second value {} \".format(d,e))\n",
        "\n",
        "x=list(map(int, input(\"Enter a multiple value: \").split()))\n",
        "print(\"List of students: \", x)\n"
      ],
      "execution_count": 0,
      "outputs": [
        {
          "output_type": "stream",
          "text": [
            "enter a two values:  10 20\n"
          ],
          "name": "stdin"
        },
        {
          "output_type": "stream",
          "text": [
            "the value of 'x' = 10\n",
            "the value of 'y' = 20\n"
          ],
          "name": "stdout"
        },
        {
          "output_type": "stream",
          "text": [
            "enter a three values:  10 20 30\n"
          ],
          "name": "stdin"
        },
        {
          "output_type": "stream",
          "text": [
            "the value of 'a' = 10\n",
            "the value of 'b' = 20\n",
            "the value of 'c' = 30\n"
          ],
          "name": "stdout"
        },
        {
          "output_type": "stream",
          "text": [
            "enter a two values:  10 20\n"
          ],
          "name": "stdin"
        },
        {
          "output_type": "stream",
          "text": [
            "first value 10 and second value 20 \n"
          ],
          "name": "stdout"
        },
        {
          "output_type": "stream",
          "text": [
            "Enter a multiple value:  10 20 30 40 50 60 70 80 90 45 25 \n"
          ],
          "name": "stdin"
        },
        {
          "output_type": "stream",
          "text": [
            "List of students:  [10, 20, 30, 40, 50, 60, 70, 80, 90, 45, 25]\n"
          ],
          "name": "stdout"
        }
      ]
    },
    {
      "metadata": {
        "id": "LrIXhvpfXW8W",
        "colab_type": "text"
      },
      "cell_type": "markdown",
      "source": [
        "# Using List comprehension :\n",
        "\n",
        "\n"
      ]
    },
    {
      "metadata": {
        "id": "OsfgIS8fXW8X",
        "colab_type": "text"
      },
      "cell_type": "markdown",
      "source": [
        "List comprehension is an elegant way to define and create list in Python. We can create lists just like mathematical statements in one line only. It is also used in getting multiple inputs from a user.\n",
        "\n",
        "Example:"
      ]
    },
    {
      "metadata": {
        "id": "TELt8vJsXW8Y",
        "colab_type": "code",
        "colab": {},
        "outputId": "5362b1c1-4e00-4082-cf33-fb25a2a31ae1"
      },
      "cell_type": "code",
      "source": [
        "# Python program showing \n",
        "# how to take multiple input \n",
        "# using List comprehension \n",
        "\n",
        "# taking two input at a time \n",
        "x, y = [int(x) for x in input(\"Enter two value: \").split()] \n",
        "print(\"First Number is: \", x) \n",
        "print(\"Second Number is: \", y) \n",
        "print() \n",
        "\n",
        "# taking three input at a time \n",
        "x, y, z = [int(x) for x in input(\"Enter three value: \").split()] \n",
        "print(\"First Number is: \", x) \n",
        "print(\"Second Number is: \", y) \n",
        "print(\"Third Number is: \", z) \n",
        "print()\n",
        " \n",
        "\n",
        "# taking two inputs at a time \n",
        "x, y = [int(x) for x in input(\"Enter two value: \").split()] \n",
        "print(\"First number is {} and second number is {}\".format(x, y)) \n",
        "print() \n",
        "\n",
        "# taking multiple inputs at a time \n",
        "x = [int(x) for x in input(\"Enter multiple value: \").split()] \n",
        "print(\"Number of list is: \", x) \n"
      ],
      "execution_count": 0,
      "outputs": [
        {
          "output_type": "stream",
          "text": [
            "Enter two value:  10 20\n"
          ],
          "name": "stdin"
        },
        {
          "output_type": "stream",
          "text": [
            "First Number is:  10\n",
            "Second Number is:  20\n",
            "\n"
          ],
          "name": "stdout"
        },
        {
          "output_type": "stream",
          "text": [
            "Enter three value:  10 20 30\n"
          ],
          "name": "stdin"
        },
        {
          "output_type": "stream",
          "text": [
            "First Number is:  10\n"
          ],
          "name": "stdout"
        },
        {
          "output_type": "stream",
          "text": [
            "Enter two value:  10 20\n"
          ],
          "name": "stdin"
        },
        {
          "output_type": "stream",
          "text": [
            "First number is 10 and second number is 20\n",
            "\n"
          ],
          "name": "stdout"
        },
        {
          "output_type": "stream",
          "text": [
            "Enter multiple value:  10 20\n"
          ],
          "name": "stdin"
        },
        {
          "output_type": "stream",
          "text": [
            "Number of list is:  [10, 20]\n"
          ],
          "name": "stdout"
        }
      ]
    },
    {
      "metadata": {
        "id": "m-AM_vcEXW8e",
        "colab_type": "code",
        "colab": {},
        "outputId": "b94f7df2-7cc6-4eec-d21e-4bbb49f27490"
      },
      "cell_type": "code",
      "source": [
        "# Example\n",
        "x, y =[int(x) for x in input(\"Enter two value: \").split()]\n",
        "print(\"first number is: \", x)\n",
        "print(\"second number is: \", y)\n",
        "print()\n",
        "\n",
        "x, y, z = [int(x) for x in input(\"Enter three values: \").split()]\n",
        "print(\"First Number is: \", x) \n",
        "print(\"Second Number is: \", y) \n",
        "print(\"Third Number is: \", z) \n",
        "print()\n",
        "\n",
        "x, y =[int(x) for x in input(\"Enter two values: \").split()]\n",
        "print(\"First number is {} and second number {}\".format(x,y))\n",
        "print()\n",
        "\n",
        "x =[int(x) for x in input(\"Enter multiple values: \").split()]\n",
        "print(\"number of list is: \", x)"
      ],
      "execution_count": 0,
      "outputs": [
        {
          "output_type": "stream",
          "text": [
            "Enter two value:  10 20\n"
          ],
          "name": "stdin"
        },
        {
          "output_type": "stream",
          "text": [
            "first number is:  10\n",
            "second number is:  20\n",
            "\n"
          ],
          "name": "stdout"
        },
        {
          "output_type": "stream",
          "text": [
            "Enter three values:  10 20 30\n"
          ],
          "name": "stdin"
        },
        {
          "output_type": "stream",
          "text": [
            "First Number is:  10\n",
            "Second Number is:  20\n",
            "Third Number is:  30\n",
            "\n"
          ],
          "name": "stdout"
        },
        {
          "output_type": "stream",
          "text": [
            "Enter two values:  10 20\n"
          ],
          "name": "stdin"
        },
        {
          "output_type": "stream",
          "text": [
            "First number is 10 and second number 20\n",
            "\n"
          ],
          "name": "stdout"
        },
        {
          "output_type": "stream",
          "text": [
            "Enter multiple values:  10 20 30 40 50 60 70 80 90 100 101 110 200\n"
          ],
          "name": "stdin"
        },
        {
          "output_type": "stream",
          "text": [
            "number of list is:  [10, 20, 30, 40, 50, 60, 70, 80, 90, 100, 101, 110, 200]\n"
          ],
          "name": "stdout"
        }
      ]
    },
    {
      "metadata": {
        "id": "cp8SrD42XW8l",
        "colab_type": "code",
        "colab": {
          "base_uri": "https://localhost:8080/",
          "height": 35
        },
        "outputId": "d8ca3bf7-24cc-43a7-e406-28aa6a9aae21"
      },
      "cell_type": "code",
      "source": [
        "print('sample')"
      ],
      "execution_count": 1,
      "outputs": [
        {
          "output_type": "stream",
          "text": [
            "sample\n"
          ],
          "name": "stdout"
        }
      ]
    },
    {
      "metadata": {
        "id": "0TgjHjwJXdFM",
        "colab_type": "code",
        "colab": {}
      },
      "cell_type": "code",
      "source": [
        ""
      ],
      "execution_count": 0,
      "outputs": []
    }
  ]
}