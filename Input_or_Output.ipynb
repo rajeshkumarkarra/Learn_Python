{
  "nbformat": 4,
  "nbformat_minor": 0,
  "metadata": {
    "colab": {
      "name": "Input_or_Output.ipynb",
      "version": "0.3.2",
      "provenance": [],
      "collapsed_sections": [],
      "include_colab_link": true
    },
    "kernelspec": {
      "name": "python3",
      "display_name": "Python 3"
    },
    "accelerator": "GPU"
  },
  "cells": [
    {
      "cell_type": "markdown",
      "metadata": {
        "id": "view-in-github",
        "colab_type": "text"
      },
      "source": [
        "<a href=\"https://colab.research.google.com/github/rajeshkumarkarra/Learn_Python/blob/updates/Input_or_Output.ipynb\" target=\"_parent\"><img src=\"https://colab.research.google.com/assets/colab-badge.svg\" alt=\"Open In Colab\"/></a>"
      ]
    },
    {
      "metadata": {
        "id": "_AJE3uhpbtnW",
        "colab_type": "text"
      },
      "cell_type": "markdown",
      "source": [
        "How the input function works in Python :\n",
        "\n",
        "When input() function executes program flow will be stopped until the user has given an input.\n",
        "The text or message display on the output screen to ask a user to enter input value is optional i.e. the prompt, will be printed on the screen is optional.\n",
        "Whatever you enter as input, input function convert it into a string. if you enter an integer value still input() function convert it into a string. You need to explicitly convert it into an integer in your code using typecasting."
      ]
    },
    {
      "metadata": {
        "id": "P9AmKmQAbtna",
        "colab_type": "code",
        "outputId": "112a9d63-b7c5-4170-dd2f-5802f9403c70",
        "colab": {}
      },
      "cell_type": "code",
      "source": [
        "# Program to check input \n",
        "# type in Python \n",
        "\n",
        "num = input (\"Enter number :\") \n",
        "print(num) \n",
        "name1 = input(\"Enter name : \") \n",
        "print(name1) \n",
        "\n",
        "# Printing type of input value \n",
        "print (\"type of number\", type(num)) \n",
        "print (\"type of name\", type(name1)) \n"
      ],
      "execution_count": 0,
      "outputs": [
        {
          "output_type": "stream",
          "text": [
            "Enter number : 3\n"
          ],
          "name": "stdin"
        },
        {
          "output_type": "stream",
          "text": [
            "3\n"
          ],
          "name": "stdout"
        },
        {
          "output_type": "stream",
          "text": [
            "Enter name :  4\n"
          ],
          "name": "stdin"
        },
        {
          "output_type": "stream",
          "text": [
            "4\n",
            "type of number <class 'str'>\n",
            "type of name <class 'str'>\n"
          ],
          "name": "stdout"
        }
      ]
    },
    {
      "metadata": {
        "id": "1EMYoOw3btnl",
        "colab_type": "text"
      },
      "cell_type": "markdown",
      "source": [
        "# Taking input from console in Python"
      ]
    },
    {
      "metadata": {
        "id": "6C_WhEj0btnm",
        "colab_type": "code",
        "outputId": "02707056-f204-49d1-8938-5d96c91bf633",
        "colab": {}
      },
      "cell_type": "code",
      "source": [
        "num1 = int(input(\"enter first value\"))\n",
        "num2 = int(input(\"enter second value\"))\n",
        "\n",
        "print(num1+num2)"
      ],
      "execution_count": 0,
      "outputs": [
        {
          "output_type": "stream",
          "text": [
            "enter first value 2\n",
            "enter second value 5\n"
          ],
          "name": "stdin"
        },
        {
          "output_type": "stream",
          "text": [
            "7\n"
          ],
          "name": "stdout"
        }
      ]
    },
    {
      "metadata": {
        "id": "MLjjZxHCbtnt",
        "colab_type": "text"
      },
      "cell_type": "markdown",
      "source": [
        "Typecasting the input to Integer: There might be conditions when you might require integer input from user/Console, the following code takes two input(integer/float) from console and typecasts them to integer then prints the sum."
      ]
    },
    {
      "metadata": {
        "id": "OxPo5ZSCbtnu",
        "colab_type": "code",
        "outputId": "344ec67b-fef1-4633-ca8e-77970fddf2dd",
        "colab": {}
      },
      "cell_type": "code",
      "source": [
        "# input \n",
        "num1 = int(input()) \n",
        "num2 = int(input()) \n",
        "\n",
        "# printing the sum in integer \n",
        "print(num1 + num2) \n"
      ],
      "execution_count": 0,
      "outputs": [
        {
          "output_type": "stream",
          "text": [
            " 2\n",
            " 5\n"
          ],
          "name": "stdin"
        },
        {
          "output_type": "stream",
          "text": [
            "7\n"
          ],
          "name": "stdout"
        }
      ]
    },
    {
      "metadata": {
        "id": "YGAIDC5tbtn1",
        "colab_type": "text"
      },
      "cell_type": "markdown",
      "source": [
        "Typecasting the input to Float: To convert the input to float the following code will work out."
      ]
    },
    {
      "metadata": {
        "id": "qXJOpK2Hbtn4",
        "colab_type": "code",
        "outputId": "6659799b-b1e7-4dcc-d639-bb2f2d1137a5",
        "colab": {}
      },
      "cell_type": "code",
      "source": [
        "# input \n",
        "num1 = float(input()) \n",
        "num2 = float(input()) \n",
        "\n",
        "# printing the sum in float \n",
        "print(num1 + num2) \n"
      ],
      "execution_count": 0,
      "outputs": [
        {
          "output_type": "stream",
          "text": [
            " 1\n",
            " 2\n"
          ],
          "name": "stdin"
        },
        {
          "output_type": "stream",
          "text": [
            "3.0\n"
          ],
          "name": "stdout"
        }
      ]
    },
    {
      "metadata": {
        "id": "Ja-Ep5-4btn-",
        "colab_type": "code",
        "outputId": "373b5105-ef6c-40e8-bab9-eebd687c2660",
        "colab": {}
      },
      "cell_type": "code",
      "source": [
        "# Example\n",
        "num1=float(input(\"enter first value\"))\n",
        "num2=float(input(\"enter second value\"))\n",
        "\n",
        "print(num1+num2)"
      ],
      "execution_count": 0,
      "outputs": [
        {
          "output_type": "stream",
          "text": [
            "enter first value 2\n",
            "enter second value 5\n"
          ],
          "name": "stdin"
        },
        {
          "output_type": "stream",
          "text": [
            "7.0\n"
          ],
          "name": "stdout"
        }
      ]
    },
    {
      "metadata": {
        "id": "fiINAEuBbtoH",
        "colab_type": "text"
      },
      "cell_type": "markdown",
      "source": [
        "Typecasting the input to String: All kind of input can be converted to string type whether they are float or integer. We make use of keyword str for typecasting."
      ]
    },
    {
      "metadata": {
        "id": "VJd6wdDlbtoJ",
        "colab_type": "code",
        "outputId": "98d10829-1b46-4f30-ccc4-ff5413a7d045",
        "colab": {}
      },
      "cell_type": "code",
      "source": [
        "# input \n",
        "string = str(input()) \n",
        "\n",
        "# output \n",
        "print(string) \n",
        "\n",
        "# example\n",
        "\n",
        "string = str(input(\"enter your name\"))\n",
        "\n",
        "print(string)\n"
      ],
      "execution_count": 0,
      "outputs": [
        {
          "output_type": "stream",
          "text": [
            " rajesh\n"
          ],
          "name": "stdin"
        },
        {
          "output_type": "stream",
          "text": [
            "rajesh\n"
          ],
          "name": "stdout"
        },
        {
          "output_type": "stream",
          "text": [
            "enter your name rajes\n"
          ],
          "name": "stdin"
        },
        {
          "output_type": "stream",
          "text": [
            "rajes\n"
          ],
          "name": "stdout"
        }
      ]
    },
    {
      "metadata": {
        "id": "HFlDcEpCbtoT",
        "colab_type": "text"
      },
      "cell_type": "markdown",
      "source": [
        "# Taking multiple inputs from user in Python"
      ]
    },
    {
      "metadata": {
        "id": "VaXJAfbKbtoV",
        "colab_type": "text"
      },
      "cell_type": "markdown",
      "source": [
        "Developer often wants a user to enter multiple values or inputs in one line. In C++/C user can take multiple inputs in one line using scanf but in Python user can take multiple values or inputs in one line by two methods.\n",
        "\n",
        "Using split() method\n",
        "Using List comprehension\n",
        "Using split() method :\n",
        "This function helps in getting a multiple inputs from user . It breaks the given input by the specified separator. If separator is not provided then any white space is a separator. Generally, user use a split() method to split a Python string but one can used it in taking multiple input.\n",
        "\n",
        "Syntax :"
      ]
    },
    {
      "metadata": {
        "id": "tXxaeW7dbtoX",
        "colab_type": "text"
      },
      "cell_type": "markdown",
      "source": [
        "# Syntax"
      ]
    },
    {
      "metadata": {
        "id": "GPuyBjLHbtoa",
        "colab_type": "raw"
      },
      "cell_type": "markdown",
      "source": [
        "input().split(separator, maxsplit)"
      ]
    },
    {
      "metadata": {
        "id": "uiPxFa9vbtoc",
        "colab_type": "code",
        "outputId": "1293cd91-dc3b-4130-9781-804fd7cd374c",
        "colab": {}
      },
      "cell_type": "code",
      "source": [
        "# Python program showing how to \n",
        "# multiple input using split \n",
        "\n",
        "# taking two inputs at a time \n",
        "x, y = input(\"Enter a two value: \").split() \n",
        "print(\"Number of boys: \", x) \n",
        "print(\"Number of girls: \", y) \n",
        "print() \n",
        "\n",
        "# taking three inputs at a time \n",
        "x, y, z = input(\"Enter a three value: \").split() \n",
        "print(\"Total number of students: \", x) \n",
        "print(\"Number of boys is : \", y) \n",
        "print(\"Number of girls is : \", z) \n",
        "print() \n",
        "\n",
        "# taking two inputs at a time \n",
        "a, b = input(\"Enter a two value: \").split() \n",
        "print(\"First number is {} and second number is {}\".format(a, b)) \n",
        "print() \n",
        "\n",
        "# taking multiple inputs at a time \n",
        "# and type casting using list() function \n",
        "x = list(map(int, input(\"Enter a multiple value: \").split())) \n",
        "print(\"List of students: \", x) \n"
      ],
      "execution_count": 0,
      "outputs": [
        {
          "output_type": "stream",
          "text": [
            "Enter a two value:  2 10\n"
          ],
          "name": "stdin"
        },
        {
          "output_type": "stream",
          "text": [
            "Number of boys:  2\n",
            "Number of girls:  10\n",
            "\n"
          ],
          "name": "stdout"
        },
        {
          "output_type": "stream",
          "text": [
            "Enter a three value:  50 35 15 \n"
          ],
          "name": "stdin"
        },
        {
          "output_type": "stream",
          "text": [
            "Total number of students:  50\n",
            "Number of boys is :  35\n",
            "Number of girls is :  15\n",
            "\n"
          ],
          "name": "stdout"
        },
        {
          "output_type": "stream",
          "text": [
            "Enter a two value:  10 10\n"
          ],
          "name": "stdin"
        },
        {
          "output_type": "stream",
          "text": [
            "First number is 10 and second number is 10\n",
            "\n"
          ],
          "name": "stdout"
        },
        {
          "output_type": "stream",
          "text": [
            "Enter a multiple value:  10 20 35 \n"
          ],
          "name": "stdin"
        },
        {
          "output_type": "stream",
          "text": [
            "List of students:  [10, 20, 35]\n"
          ],
          "name": "stdout"
        }
      ]
    },
    {
      "metadata": {
        "id": "8KIKJnIezZTx",
        "colab_type": "code",
        "outputId": "c7de3cc2-bbf5-4b9b-a4fd-67deddbbc244",
        "colab": {
          "base_uri": "https://localhost:8080/",
          "height": 215
        }
      },
      "cell_type": "code",
      "source": [
        "# Example Multiple Inputs\n",
        "\n",
        "x,y = input(\"Enter a two variables\").split()\n",
        "print(\"the value of 'x':\", x)\n",
        "print(\"the value of 'y':\", y)\n",
        "\n",
        "x,y,z = input(\"Enter a three variables\").split()\n",
        "print(\"the value of 'x': \", x)\n",
        "print(\"the value of 'y':\", y)\n",
        "print(\"the value of 'z': \", z)\n",
        "\n",
        "a,b = input(\"Enter the two variables: \").split()\n",
        "print(\"the value of a is {} and the value of b is {}\".format(a,b))\n",
        "\n",
        "x = list(map(int, input(\"enter the multiple values\").split()))\n",
        "print(\"multiple values of 'x': \", x)"
      ],
      "execution_count": 0,
      "outputs": [
        {
          "output_type": "stream",
          "text": [
            "Enter a two variables10 20 \n",
            "the value of 'x': 10\n",
            "the value of 'y': 20\n",
            "Enter a three variables10 20 30\n",
            "the value of 'x':  10\n",
            "the value of 'y': 20\n",
            "the value of 'z':  30\n",
            "Enter the two variables: 10 20\n",
            "the value of a is 10 and the value of b is 20\n",
            "enter the multiple values10 20 30 40 50 60\n",
            "multiple values of 'x':  [10, 20, 30, 40, 50, 60]\n"
          ],
          "name": "stdout"
        }
      ]
    },
    {
      "metadata": {
        "id": "V1GY-vnmbtol",
        "colab_type": "code",
        "outputId": "9cc88908-4f08-4af1-c705-f0487594c317",
        "colab": {}
      },
      "cell_type": "code",
      "source": [
        "# Example\n",
        "x,y=input(\"enter a two values: \").split()\n",
        "print(\"the value of 'x' =\", x)\n",
        "print(\"the value of 'y' =\", y)\n",
        "\n",
        "a,b,c=input(\"enter a three values: \").split()\n",
        "print(\"the value of 'a' =\", a)\n",
        "print(\"the value of 'b' =\", b)\n",
        "print(\"the value of 'c' =\", c)\n",
        "\n",
        "d,e=input(\"enter a two values: \").split()\n",
        "print(\"first value {} and second value {} \".format(d,e))\n",
        "\n",
        "x=list(map(int, input(\"Enter a multiple value: \").split()))\n",
        "print(\"List of students: \", x)\n"
      ],
      "execution_count": 0,
      "outputs": [
        {
          "output_type": "stream",
          "text": [
            "enter a two values:  10 20\n"
          ],
          "name": "stdin"
        },
        {
          "output_type": "stream",
          "text": [
            "the value of 'x' = 10\n",
            "the value of 'y' = 20\n"
          ],
          "name": "stdout"
        },
        {
          "output_type": "stream",
          "text": [
            "enter a three values:  10 20 30\n"
          ],
          "name": "stdin"
        },
        {
          "output_type": "stream",
          "text": [
            "the value of 'a' = 10\n",
            "the value of 'b' = 20\n",
            "the value of 'c' = 30\n"
          ],
          "name": "stdout"
        },
        {
          "output_type": "stream",
          "text": [
            "enter a two values:  10 20\n"
          ],
          "name": "stdin"
        },
        {
          "output_type": "stream",
          "text": [
            "first value 10 and second value 20 \n"
          ],
          "name": "stdout"
        },
        {
          "output_type": "stream",
          "text": [
            "Enter a multiple value:  10 20 30 40 50 60 70 80 90 45 25 \n"
          ],
          "name": "stdin"
        },
        {
          "output_type": "stream",
          "text": [
            "List of students:  [10, 20, 30, 40, 50, 60, 70, 80, 90, 45, 25]\n"
          ],
          "name": "stdout"
        }
      ]
    },
    {
      "metadata": {
        "id": "PtXnK5PpaRJx",
        "colab_type": "code",
        "outputId": "a21f458d-6040-4922-b45e-f8bfce51a1b8",
        "colab": {
          "base_uri": "https://localhost:8080/",
          "height": 66
        }
      },
      "cell_type": "code",
      "source": [
        "# Example\n",
        "\n",
        "x,y = input(\"Enter any two values: \").split()\n",
        "print(\"value of 'x': {},\\n value of 'y': {}\".format(x,y))"
      ],
      "execution_count": 0,
      "outputs": [
        {
          "output_type": "stream",
          "text": [
            "Enter any two values: 10 20\n",
            "value of 'x': 10,\n",
            " value of 'y': 20\n"
          ],
          "name": "stdout"
        }
      ]
    },
    {
      "metadata": {
        "id": "Po8pfWPObtou",
        "colab_type": "text"
      },
      "cell_type": "markdown",
      "source": [
        "# Using List comprehension :\n",
        "\n",
        "\n"
      ]
    },
    {
      "metadata": {
        "id": "4yWKHRKcbtow",
        "colab_type": "text"
      },
      "cell_type": "markdown",
      "source": [
        "List comprehension is an elegant way to define and create list in Python. We can create lists just like mathematical statements in one line only. It is also used in getting multiple inputs from a user.\n",
        "\n",
        "Example:"
      ]
    },
    {
      "metadata": {
        "id": "KcAhL6EPbtoy",
        "colab_type": "code",
        "outputId": "338e20fe-b0ff-478b-91b2-c33b0200a646",
        "colab": {}
      },
      "cell_type": "code",
      "source": [
        "# Python program showing \n",
        "# how to take multiple input \n",
        "# using List comprehension \n",
        "\n",
        "# taking two input at a time \n",
        "x, y = [int(x) for x in input(\"Enter two value: \").split()] \n",
        "print(\"First Number is: \", x) \n",
        "print(\"Second Number is: \", y) \n",
        "print() \n",
        "\n",
        "# taking three input at a time \n",
        "x, y, z = [int(x) for x in input(\"Enter three value: \").split()] \n",
        "print(\"First Number is: \", x) \n",
        "print(\"Second Number is: \", y) \n",
        "print(\"Third Number is: \", z) \n",
        "print()\n",
        " \n",
        "\n",
        "# taking two inputs at a time \n",
        "x, y = [int(x) for x in input(\"Enter two value: \").split()] \n",
        "print(\"First number is {} and second number is {}\".format(x, y)) \n",
        "print() \n",
        "\n",
        "# taking multiple inputs at a time \n",
        "x = [int(x) for x in input(\"Enter multiple value: \").split()] \n",
        "print(\"Number of list is: \", x) \n"
      ],
      "execution_count": 0,
      "outputs": [
        {
          "output_type": "stream",
          "text": [
            "Enter two value:  10 20\n"
          ],
          "name": "stdin"
        },
        {
          "output_type": "stream",
          "text": [
            "First Number is:  10\n",
            "Second Number is:  20\n",
            "\n"
          ],
          "name": "stdout"
        },
        {
          "output_type": "stream",
          "text": [
            "Enter three value:  10 20 30\n"
          ],
          "name": "stdin"
        },
        {
          "output_type": "stream",
          "text": [
            "First Number is:  10\n"
          ],
          "name": "stdout"
        },
        {
          "output_type": "stream",
          "text": [
            "Enter two value:  10 20\n"
          ],
          "name": "stdin"
        },
        {
          "output_type": "stream",
          "text": [
            "First number is 10 and second number is 20\n",
            "\n"
          ],
          "name": "stdout"
        },
        {
          "output_type": "stream",
          "text": [
            "Enter multiple value:  10 20\n"
          ],
          "name": "stdin"
        },
        {
          "output_type": "stream",
          "text": [
            "Number of list is:  [10, 20]\n"
          ],
          "name": "stdout"
        }
      ]
    },
    {
      "metadata": {
        "id": "Uzim765lbto5",
        "colab_type": "code",
        "outputId": "849657d5-f7b6-45c6-df4c-6304eae41bb0",
        "colab": {}
      },
      "cell_type": "code",
      "source": [
        "# Example\n",
        "x, y =[int(x) for x in input(\"Enter two value: \").split()]\n",
        "print(\"first number is: \", x)\n",
        "print(\"second number is: \", y)\n",
        "print()\n",
        "\n",
        "x, y, z = [int(x) for x in input(\"Enter three values: \").split()]\n",
        "print(\"First Number is: \", x) \n",
        "print(\"Second Number is: \", y) \n",
        "print(\"Third Number is: \", z) \n",
        "print()\n",
        "\n",
        "x, y =[int(x) for x in input(\"Enter two values: \").split()]\n",
        "print(\"First number is {} and second number {}\".format(x,y))\n",
        "print()\n",
        "\n",
        "x =[int(x) for x in input(\"Enter multiple values: \").split()]\n",
        "print(\"number of list is: \", x)"
      ],
      "execution_count": 0,
      "outputs": [
        {
          "output_type": "stream",
          "text": [
            "Enter two value:  10 20\n"
          ],
          "name": "stdin"
        },
        {
          "output_type": "stream",
          "text": [
            "first number is:  10\n",
            "second number is:  20\n",
            "\n"
          ],
          "name": "stdout"
        },
        {
          "output_type": "stream",
          "text": [
            "Enter three values:  10 20 30\n"
          ],
          "name": "stdin"
        },
        {
          "output_type": "stream",
          "text": [
            "First Number is:  10\n",
            "Second Number is:  20\n",
            "Third Number is:  30\n",
            "\n"
          ],
          "name": "stdout"
        },
        {
          "output_type": "stream",
          "text": [
            "Enter two values:  10 20\n"
          ],
          "name": "stdin"
        },
        {
          "output_type": "stream",
          "text": [
            "First number is 10 and second number 20\n",
            "\n"
          ],
          "name": "stdout"
        },
        {
          "output_type": "stream",
          "text": [
            "Enter multiple values:  10 20 30 40 50 60 70 80 90 100 101 110 200\n"
          ],
          "name": "stdin"
        },
        {
          "output_type": "stream",
          "text": [
            "number of list is:  [10, 20, 30, 40, 50, 60, 70, 80, 90, 100, 101, 110, 200]\n"
          ],
          "name": "stdout"
        }
      ]
    },
    {
      "metadata": {
        "id": "ajwoHuk2btpA",
        "colab_type": "code",
        "outputId": "e186a955-99bc-4f9e-8e46-cfe45fee9eb0",
        "colab": {
          "base_uri": "https://localhost:8080/",
          "height": 35
        }
      },
      "cell_type": "code",
      "source": [
        ""
      ],
      "execution_count": 0,
      "outputs": [
        {
          "output_type": "stream",
          "text": [
            "testing of colab-google drive\n"
          ],
          "name": "stdout"
        }
      ]
    },
    {
      "metadata": {
        "id": "fidkzlI5dip6",
        "colab_type": "text"
      },
      "cell_type": "markdown",
      "source": [
        "# Python Input Methods for Competitive Programming\n",
        "Python is an amazingly user-friendly language with the only flaw of being slow. In comparison to C, C++ and Java, it is quite slower. On Online coding platforms, if C/C++ limit provided is X. Usually, in Java time provided is 2X and Python, it’s 5X.\n",
        "\n",
        "To improve the speed of code execution for input/output intensive problems, languages have various input and output procedures.\n",
        "\n",
        "An Example Problem :\n",
        "Consider a question of finding the sum of N numbers inputted from the user.\n",
        "Input a number N.\n",
        "Input N numbers separated by a single space in a line.\n",
        "Examples:\n",
        "\n",
        "Input : \n",
        "5\n",
        "1 2 3 4 5\n",
        "Output :\n",
        "15\n",
        "Different Python solutions for above Problem :\n",
        "Normal Method Python: (Python 2.7) \n",
        "1. raw_input() takes an optional prompt argument. It also strips the trailing newline character from the string it returns.\n",
        "2. print is just a thin wrapper that formats the inputs (space between args and newline at the end) and calls the write function of a given object."
      ]
    },
    {
      "metadata": {
        "id": "9RIiq1LG3T8c",
        "colab_type": "code",
        "outputId": "91758f7e-5cb5-4b9c-c51e-35e499a36c02",
        "colab": {
          "base_uri": "https://localhost:8080/",
          "height": 66
        }
      },
      "cell_type": "code",
      "source": [
        "# basic method of input output \n",
        "# input N \n",
        "n = int(input()) \n",
        "\n",
        "# input the array \n",
        "arr = [int(x) for x in input().split()] \n",
        "\n",
        "# initialize variable \n",
        "summation = 0\n",
        "\n",
        "# calculate sum \n",
        "for x in arr: \n",
        "\tsummation += x \n",
        "\t\n",
        "# print answer \n",
        "print(summation) \n"
      ],
      "execution_count": 0,
      "outputs": [
        {
          "output_type": "stream",
          "text": [
            "10\n",
            "15\n",
            "15\n"
          ],
          "name": "stdout"
        }
      ]
    },
    {
      "metadata": {
        "id": "KJWCL05HnKxA",
        "colab_type": "code",
        "colab": {}
      },
      "cell_type": "code",
      "source": [
        ""
      ],
      "execution_count": 0,
      "outputs": []
    },
    {
      "metadata": {
        "id": "LA1u_Ku_nLeM",
        "colab_type": "text"
      },
      "cell_type": "markdown",
      "source": [
        "A bit faster method using inbuilt stdin, stdout: (Python 2.7)\n",
        "1. sys.stdin on the other hand is a File Object. It is like creating any other file object one could create to read input from the file. In this case, the file will be standard input buffer.\n",
        "2. stdout.write(‘D\\n’) is faster than print ‘D’.\n",
        "3. Even faster is to write all once by stdout.write(“”.join(list-comprehension)) but this makes memory usage dependent on size of input.\n",
        "\n"
      ]
    },
    {
      "metadata": {
        "id": "0YLg_achdudN",
        "colab_type": "code",
        "outputId": "13a4b144-4c34-42c4-848c-7819a372b69d",
        "colab": {
          "base_uri": "https://localhost:8080/",
          "height": 66
        }
      },
      "cell_type": "code",
      "source": [
        "# Example\n",
        "\n",
        "n = int(input())\n",
        "arr = [int(x) for x in input().split()]\n",
        "summation = 2\n",
        "for x in arr:\n",
        "  summation +=x\n",
        "print(summation)"
      ],
      "execution_count": 0,
      "outputs": [
        {
          "output_type": "stream",
          "text": [
            "10\n",
            "20\n",
            "22\n"
          ],
          "name": "stdout"
        }
      ]
    },
    {
      "metadata": {
        "id": "XPZ_YUCXepGp",
        "colab_type": "code",
        "outputId": "19373458-ce53-4ba1-e4f1-d76381febf90",
        "colab": {
          "base_uri": "https://localhost:8080/",
          "height": 33
        }
      },
      "cell_type": "code",
      "source": [
        "#Example\n",
        "from sys import stdin, stdout\n",
        "\n",
        "def main():\n",
        "  \n",
        "  n = stdin.readline()\n",
        "  arr = [int(x) for x in stdin.readline().split()]\n",
        "  summation =10\n",
        "  for x in arr:\n",
        "    summation +=x\n",
        "    \n",
        "  stdout.write(str(summation))\n",
        "  \n",
        "if __name__==\"__main__\":\n",
        "  main()"
      ],
      "execution_count": 0,
      "outputs": [
        {
          "output_type": "stream",
          "text": [
            "10"
          ],
          "name": "stdout"
        }
      ]
    },
    {
      "metadata": {
        "id": "j7F08c6ymF3H",
        "colab_type": "code",
        "outputId": "8b802c7f-8468-493e-be20-fe74f06c0fa4",
        "colab": {
          "base_uri": "https://localhost:8080/",
          "height": 33
        }
      },
      "cell_type": "code",
      "source": [
        "# import inbuilt standard input output \n",
        "from sys import stdin, stdout \n",
        "\n",
        "# suppose a function called main() and \n",
        "# all the operations are performed \n",
        "def main(): \n",
        "\n",
        "\t# input via readline method \n",
        "\tn = stdin.readline() \n",
        "\n",
        "\t# array input similar method \n",
        "\tarr = [int(x) for x in stdin.readline().split()] \n",
        "\n",
        "\t#initialize variable \n",
        "\tsummation = 0\n",
        "\t\n",
        "\t# calculate sum \n",
        "\tfor x in arr: \n",
        "\t\tsummation += x \n",
        "\n",
        "\t# could use inbuilt summation = sum(arr) \n",
        "\n",
        "\t# print answer via write \n",
        "\t# write method writes only \n",
        "\t# string operations \n",
        "\t# so we need to convert any \n",
        "\t# data into string for input \n",
        "\tstdout.write(str(summation)) \n",
        "\n",
        "# call the main method \n",
        "if __name__ == \"__main__\": \n",
        "\tmain()\t \n"
      ],
      "execution_count": 0,
      "outputs": [
        {
          "output_type": "stream",
          "text": [
            "0"
          ],
          "name": "stdout"
        }
      ]
    },
    {
      "metadata": {
        "id": "enkxkriAmP8Q",
        "colab_type": "code",
        "colab": {}
      },
      "cell_type": "code",
      "source": [
        ""
      ],
      "execution_count": 0,
      "outputs": []
    },
    {
      "metadata": {
        "id": "uwWUnFgKnTye",
        "colab_type": "text"
      },
      "cell_type": "markdown",
      "source": [
        "# Adding a buffered pipe io: (Python 2.7)\n",
        "1. Simply, adding the buffered IO code before your submission code to make the output faster.\n",
        "2. The benefit of io.BytesIO objects is that they implement a common-ish interface (commonly known as a ‘file-like’ object). BytesIO objects have an internal pointer and for every call to read(n) the pointer advances.\n",
        "3. The atexit module provides a simple interface to register functions to be called when a program closes down normally. The sys module also provides a hook, sys.exitfunc, but only one function can be registered there. The atexit registry can be used by multiple modules and libraries simultaneously."
      ]
    },
    {
      "metadata": {
        "id": "hbGkyWvdnWhn",
        "colab_type": "code",
        "outputId": "9255f0f8-2c57-45e1-9086-cbe2504e32ac",
        "colab": {
          "base_uri": "https://localhost:8080/",
          "height": 223
        }
      },
      "cell_type": "code",
      "source": [
        "# template begins \n",
        "##################################### \n",
        "\n",
        "# import libraries for input/ output handling \n",
        "# on generic level \n",
        "import atexit, io, sys \n",
        "\n",
        "# A stream implementation using an in-memory bytes \n",
        "# buffer. It inherits BufferedIOBase. \n",
        "buffer = io.BytesIO() \n",
        "sys.stdout = buffer\n",
        "\n",
        "# print via here \n",
        "@atexit.register \n",
        "def write(): \n",
        "\tsys.__stdout__.write(buffer.getvalue()) \n",
        "\n",
        "##################################### \n",
        "# template ends \n",
        "\n",
        "# normal method followed \n",
        "# input N \n",
        "n = int(input()) \n",
        "\n",
        "# input the array \n",
        "arr = [int(x) for x in input().split()] \n",
        "\n",
        "# initialize variable \n",
        "summation = 0\n",
        "\n",
        "# calculate sum \n",
        "for x in arr: \n",
        "\tsummation += x \n",
        "\n",
        "# print answer \n",
        "print (summation) \n"
      ],
      "execution_count": 0,
      "outputs": [
        {
          "output_type": "stream",
          "text": [
            "10\n",
            "0\n"
          ],
          "name": "stdout"
        },
        {
          "output_type": "error",
          "ename": "TypeError",
          "evalue": "ignored",
          "traceback": [
            "\u001b[0;31m---------------------------------------------------------------------------\u001b[0m",
            "\u001b[0;31mTypeError\u001b[0m                                 Traceback (most recent call last)",
            "\u001b[0;32m<ipython-input-23-d9180be12b13>\u001b[0m in \u001b[0;36m<module>\u001b[0;34m()\u001b[0m\n\u001b[1;32m     29\u001b[0m \u001b[0;34m\u001b[0m\u001b[0m\n\u001b[1;32m     30\u001b[0m \u001b[0;31m# print answer\u001b[0m\u001b[0;34m\u001b[0m\u001b[0;34m\u001b[0m\u001b[0;34m\u001b[0m\u001b[0m\n\u001b[0;32m---> 31\u001b[0;31m \u001b[0mprint\u001b[0m \u001b[0;34m(\u001b[0m\u001b[0msummation\u001b[0m\u001b[0;34m)\u001b[0m\u001b[0;34m\u001b[0m\u001b[0;34m\u001b[0m\u001b[0m\n\u001b[0m",
            "\u001b[0;31mTypeError\u001b[0m: a bytes-like object is required, not 'str'"
          ]
        }
      ]
    },
    {
      "metadata": {
        "id": "A2aVuEABnk8r",
        "colab_type": "code",
        "colab": {}
      },
      "cell_type": "code",
      "source": [
        ""
      ],
      "execution_count": 0,
      "outputs": []
    },
    {
      "metadata": {
        "id": "kwiBD0snpnEj",
        "colab_type": "text"
      },
      "cell_type": "markdown",
      "source": [
        "While handling a large amount of data usually, the normal method fails to execute within the time limit. Method 2 helps in maintaining a large amount of I/O data. Method 3 is the fastest. Usually, handling of input data files greater than 2 or 3 MBs is helped via method 2 and 3.\n",
        "\n",
        "Note : above mention codes are in Python 2.7, to use in Python 3.X versions. Simply replace the raw_input() with Python 3.X’s input() syntax. Rest should work fine.\n",
        "\n",
        "References:\n",
        "1.More About Input in Python 2.7 \n",
        "2.Output via sys library and other commands.\n",
        "3.Input via sys library and other commands.\n",
        "4. Python atexit Module docs.\n",
        "\n",
        "This article is contributed by Shubham Saxena. If you like GeeksforGeeks and would like to contribute, you can also write an article using contribute.geeksforgeeks.org or mail your article to contribute@geeksforgeeks.org. See your article appearing on the GeeksforGeeks main page and help other Geeks.\n",
        "\n",
        "Please write comments if you find anything incorrect, or you want to share more information about the topic discussed above."
      ]
    },
    {
      "metadata": {
        "id": "Yj-iWuRCpQnY",
        "colab_type": "code",
        "colab": {}
      },
      "cell_type": "code",
      "source": [
        ""
      ],
      "execution_count": 0,
      "outputs": []
    },
    {
      "metadata": {
        "id": "IXunrIroqJXd",
        "colab_type": "text"
      },
      "cell_type": "markdown",
      "source": [
        "# Vulnerability in input() function – Python 2.x\n",
        "This article aims at explaining and exploring the vulnerability in the input() function in Python 2.x. In Python 3, the raw_input() function was erased, and it’s functionality was transferred to a new built-in function known as input().\n",
        "\n",
        "**Ways to input data in Python 2.x**\n",
        "\n",
        "There are two common methods to receive input in Python 2.x:\n",
        "\n",
        "Using the input() function: This function takes the value and type of the input you enter as it is without modifying any type.\n",
        "Using the raw_input() function : This function explicitly converts the input you give to type string,"
      ]
    },
    {
      "metadata": {
        "id": "XYQKt4a9qNAn",
        "colab_type": "code",
        "outputId": "964253ac-1cec-43dc-ff78-8914478eecc9",
        "colab": {
          "base_uri": "https://localhost:8080/",
          "height": 126
        }
      },
      "cell_type": "code",
      "source": [
        "# Python 2.x program to show differences between \n",
        "# input() and rawinput()function \n",
        "\n",
        "# 3 inputs using raw_input() function, \n",
        "# after which data type of the value \n",
        "# entered is displayed \n",
        "#s1 = raw_input(\"Enter input to test raw_input() function: \") \n",
        "#print type(s1) \n",
        "\n",
        "#s2 = raw_input(\"Enter input to test raw_input() function: \") \n",
        "#print type(s2) \n",
        "\n",
        "#s3 = raw_input(\"Enter input to test raw_input() function: \") \n",
        "#print type(s3) \n",
        "\n",
        "# 3 inputs using input() function, \n",
        "# after which data type of the value \n",
        "# entered is displayed \n",
        "s4 = input(\"Enter input to test input() function: \") \n",
        "\n",
        "print (type(s4))\n",
        "\n",
        "s5 = input(\"Enter input to test input() function: \") \n",
        "print (type(s5))\n",
        "\n",
        "\n",
        "\n",
        "s6 = input(\"Enter input to test input() function: \") \n",
        "print (type(s6)) \n",
        "\n"
      ],
      "execution_count": 0,
      "outputs": [
        {
          "output_type": "error",
          "ename": "SyntaxError",
          "evalue": "ignored",
          "traceback": [
            "\u001b[0;36m  File \u001b[0;32m\"<ipython-input-33-d5257303092f>\"\u001b[0;36m, line \u001b[0;32m3\u001b[0m\n\u001b[0;31m    print type(s4)\u001b[0m\n\u001b[0m             ^\u001b[0m\n\u001b[0;31mSyntaxError\u001b[0m\u001b[0;31m:\u001b[0m invalid syntax\n"
          ]
        }
      ]
    },
    {
      "metadata": {
        "id": "l66QQsDwqWqP",
        "colab_type": "code",
        "colab": {}
      },
      "cell_type": "code",
      "source": [
        ""
      ],
      "execution_count": 0,
      "outputs": []
    },
    {
      "metadata": {
        "id": "eTgpJU-f14VL",
        "colab_type": "text"
      },
      "cell_type": "markdown",
      "source": [
        "Note: While giving string input in the input() function, we have to enclose to value in double quotes. This is not required in raw_input()\n",
        "\n",
        "# Vulnerability in input() method\n",
        "\n",
        "The vulnerability in input() method lies in the fact that the variable accessing the value of input can be accessed by anyone just by using the name of variable or method. Let’s explore these one by one:\n",
        "\n",
        "# Variable name as input parameter: \n",
        "The variable having the value of input variable is able to access the value of the input variable directly."
      ]
    },
    {
      "metadata": {
        "id": "DHElSaP52DoD",
        "colab_type": "code",
        "outputId": "a2663e6a-5385-4f11-b91c-8ba247774713",
        "colab": {
          "base_uri": "https://localhost:8080/",
          "height": 223
        }
      },
      "cell_type": "code",
      "source": [
        "import random\n",
        "secret_number = random.randint(1,500)\n",
        "\n",
        "while True:\n",
        "  code = input(\"please enter the secret code\")\n",
        "  if code == secret_number:\n",
        "    print(\"you won\")\n",
        "    break\n",
        "  else:\n",
        "    print(\"you loose\")\n",
        "    continue"
      ],
      "execution_count": 0,
      "outputs": [
        {
          "output_type": "stream",
          "text": [
            "please enter the secret code255\n"
          ],
          "name": "stdout"
        },
        {
          "output_type": "error",
          "ename": "TypeError",
          "evalue": "ignored",
          "traceback": [
            "\u001b[0;31m---------------------------------------------------------------------------\u001b[0m",
            "\u001b[0;31mTypeError\u001b[0m                                 Traceback (most recent call last)",
            "\u001b[0;32m<ipython-input-38-3df419737d75>\u001b[0m in \u001b[0;36m<module>\u001b[0;34m()\u001b[0m\n\u001b[1;32m      8\u001b[0m     \u001b[0;32mbreak\u001b[0m\u001b[0;34m\u001b[0m\u001b[0;34m\u001b[0m\u001b[0m\n\u001b[1;32m      9\u001b[0m   \u001b[0;32melse\u001b[0m\u001b[0;34m:\u001b[0m\u001b[0;34m\u001b[0m\u001b[0;34m\u001b[0m\u001b[0m\n\u001b[0;32m---> 10\u001b[0;31m     \u001b[0mprint\u001b[0m\u001b[0;34m(\u001b[0m\u001b[0;34m\"you loose\"\u001b[0m\u001b[0;34m)\u001b[0m\u001b[0;34m\u001b[0m\u001b[0;34m\u001b[0m\u001b[0m\n\u001b[0m\u001b[1;32m     11\u001b[0m     \u001b[0;32mcontinue\u001b[0m\u001b[0;34m\u001b[0m\u001b[0;34m\u001b[0m\u001b[0m\n",
            "\u001b[0;31mTypeError\u001b[0m: a bytes-like object is required, not 'str'"
          ]
        }
      ]
    },
    {
      "metadata": {
        "id": "6fLfb3B14A-m",
        "colab_type": "code",
        "outputId": "068efe4a-af6b-4521-c351-de8e8fa902bf",
        "colab": {
          "base_uri": "https://localhost:8080/",
          "height": 223
        }
      },
      "cell_type": "code",
      "source": [
        "# Python 2.x program to show Vulnerabilities \n",
        "# in input() function using a variable \n",
        "\n",
        "import random \n",
        "secret_number = random.randint(1,500) \n",
        "print (\"Pick a number between 1 to 500\")\n",
        "while True: \n",
        "\tres = input(\"Guess the number: \") \n",
        "\tif res==secret_number: \n",
        "\t\tprint (\"You win\")\n",
        "\t\tbreak\n",
        "\telse: \n",
        "\t\tprint (\"You lose\")\n",
        "\t\tcontinue\n"
      ],
      "execution_count": 0,
      "outputs": [
        {
          "output_type": "error",
          "ename": "TypeError",
          "evalue": "ignored",
          "traceback": [
            "\u001b[0;31m---------------------------------------------------------------------------\u001b[0m",
            "\u001b[0;31mTypeError\u001b[0m                                 Traceback (most recent call last)",
            "\u001b[0;32m<ipython-input-41-5b3a014e9e61>\u001b[0m in \u001b[0;36m<module>\u001b[0;34m()\u001b[0m\n\u001b[1;32m      2\u001b[0m \u001b[0;32mimport\u001b[0m \u001b[0mrandom\u001b[0m\u001b[0;34m\u001b[0m\u001b[0;34m\u001b[0m\u001b[0m\n\u001b[1;32m      3\u001b[0m \u001b[0msecret_number\u001b[0m \u001b[0;34m=\u001b[0m \u001b[0mrandom\u001b[0m\u001b[0;34m.\u001b[0m\u001b[0mrandint\u001b[0m\u001b[0;34m(\u001b[0m\u001b[0;36m1\u001b[0m\u001b[0;34m,\u001b[0m\u001b[0;36m500\u001b[0m\u001b[0;34m)\u001b[0m\u001b[0;34m\u001b[0m\u001b[0;34m\u001b[0m\u001b[0m\n\u001b[0;32m----> 4\u001b[0;31m \u001b[0mprint\u001b[0m \u001b[0;34m(\u001b[0m\u001b[0;34m\"Pick a number between 1 to 500\"\u001b[0m\u001b[0;34m)\u001b[0m\u001b[0;34m\u001b[0m\u001b[0;34m\u001b[0m\u001b[0m\n\u001b[0m\u001b[1;32m      5\u001b[0m \u001b[0;32mwhile\u001b[0m \u001b[0;32mTrue\u001b[0m\u001b[0;34m:\u001b[0m\u001b[0;34m\u001b[0m\u001b[0;34m\u001b[0m\u001b[0m\n\u001b[1;32m      6\u001b[0m         \u001b[0mres\u001b[0m \u001b[0;34m=\u001b[0m \u001b[0minput\u001b[0m\u001b[0;34m(\u001b[0m\u001b[0;34m\"Guess the number: \"\u001b[0m\u001b[0;34m)\u001b[0m\u001b[0;34m\u001b[0m\u001b[0;34m\u001b[0m\u001b[0m\n",
            "\u001b[0;31mTypeError\u001b[0m: a bytes-like object is required, not 'str'"
          ]
        }
      ]
    },
    {
      "metadata": {
        "id": "0HovdAq55btg",
        "colab_type": "code",
        "outputId": "0a012081-e527-40ec-d328-1cb7de77d191",
        "colab": {
          "base_uri": "https://localhost:8080/",
          "height": 158
        }
      },
      "cell_type": "code",
      "source": [
        "print(\"testing\")"
      ],
      "execution_count": 0,
      "outputs": [
        {
          "output_type": "error",
          "ename": "TypeError",
          "evalue": "ignored",
          "traceback": [
            "\u001b[0;31m---------------------------------------------------------------------------\u001b[0m",
            "\u001b[0;31mTypeError\u001b[0m                                 Traceback (most recent call last)",
            "\u001b[0;32m<ipython-input-42-5020887f4991>\u001b[0m in \u001b[0;36m<module>\u001b[0;34m()\u001b[0m\n\u001b[0;32m----> 1\u001b[0;31m \u001b[0mprint\u001b[0m\u001b[0;34m(\u001b[0m\u001b[0;34m\"testing\"\u001b[0m\u001b[0;34m)\u001b[0m\u001b[0;34m\u001b[0m\u001b[0;34m\u001b[0m\u001b[0m\n\u001b[0m",
            "\u001b[0;31mTypeError\u001b[0m: a bytes-like object is required, not 'str'"
          ]
        }
      ]
    },
    {
      "metadata": {
        "id": "gIAd5axZ-dem",
        "colab_type": "code",
        "outputId": "1de05d4f-d855-4b56-b35c-49b1b99d062f",
        "colab": {
          "base_uri": "https://localhost:8080/",
          "height": 158
        }
      },
      "cell_type": "code",
      "source": [
        "print(2+5)"
      ],
      "execution_count": 0,
      "outputs": [
        {
          "output_type": "error",
          "ename": "TypeError",
          "evalue": "ignored",
          "traceback": [
            "\u001b[0;31m---------------------------------------------------------------------------\u001b[0m",
            "\u001b[0;31mTypeError\u001b[0m                                 Traceback (most recent call last)",
            "\u001b[0;32m<ipython-input-43-96e61e81a9cb>\u001b[0m in \u001b[0;36m<module>\u001b[0;34m()\u001b[0m\n\u001b[0;32m----> 1\u001b[0;31m \u001b[0mprint\u001b[0m\u001b[0;34m(\u001b[0m\u001b[0;36m2\u001b[0m\u001b[0;34m+\u001b[0m\u001b[0;36m5\u001b[0m\u001b[0;34m)\u001b[0m\u001b[0;34m\u001b[0m\u001b[0;34m\u001b[0m\u001b[0m\n\u001b[0m",
            "\u001b[0;31mTypeError\u001b[0m: a bytes-like object is required, not 'str'"
          ]
        }
      ]
    },
    {
      "metadata": {
        "id": "2aLknJrb_DhV",
        "colab_type": "code",
        "colab": {}
      },
      "cell_type": "code",
      "source": [
        ""
      ],
      "execution_count": 0,
      "outputs": []
    }
  ]
}