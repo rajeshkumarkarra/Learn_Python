{
  "nbformat": 4,
  "nbformat_minor": 0,
  "metadata": {
    "colab": {
      "name": "CorePython.ipynb",
      "version": "0.3.2",
      "provenance": [],
      "collapsed_sections": [],
      "include_colab_link": true
    },
    "kernelspec": {
      "name": "python3",
      "display_name": "Python 3"
    },
    "accelerator": "GPU"
  },
  "cells": [
    {
      "cell_type": "markdown",
      "metadata": {
        "id": "view-in-github",
        "colab_type": "text"
      },
      "source": [
        "<a href=\"https://colab.research.google.com/github/rajeshkumarkarra/Learn_Python/blob/updates/CorePython.ipynb\" target=\"_parent\"><img src=\"https://colab.research.google.com/assets/colab-badge.svg\" alt=\"Open In Colab\"/></a>"
      ]
    },
    {
      "metadata": {
        "id": "uRi9qvsGOlMt",
        "colab_type": "code",
        "outputId": "05770e9a-dc4f-4083-8da7-8535f39fce13",
        "colab": {
          "base_uri": "https://localhost:8080/",
          "height": 35
        }
      },
      "cell_type": "code",
      "source": [
        "print(\"test colab\")"
      ],
      "execution_count": 0,
      "outputs": [
        {
          "output_type": "stream",
          "text": [
            "test colab\n"
          ],
          "name": "stdout"
        }
      ]
    },
    {
      "metadata": {
        "id": "DPPv1j7JkoLC",
        "colab_type": "code",
        "outputId": "63b5816e-5ea5-49b2-be29-800a834ad6fc",
        "colab": {
          "base_uri": "https://localhost:8080/",
          "height": 35
        }
      },
      "cell_type": "code",
      "source": [
        "# Conditions in Python\n",
        "a = 3\n",
        "b = 9\n",
        "c = b+1\n",
        "\n",
        "if c % a ==0:\n",
        "  print(\"'b' is divisible by a\")\n",
        "  \n",
        "elif c + 1 == 10:\n",
        "    print(\"Increment in b produced\")\n",
        "    \n",
        "else:\n",
        "    print(\"you are in esle statment\")\n"
      ],
      "execution_count": 1,
      "outputs": [
        {
          "output_type": "stream",
          "text": [
            "you are in esle statment\n"
          ],
          "name": "stdout"
        }
      ]
    },
    {
      "metadata": {
        "id": "COXl-EQtcZKX",
        "colab_type": "code",
        "outputId": "b73745d7-74b2-43d8-fc79-7262a1ab9d66",
        "colab": {
          "base_uri": "https://localhost:8080/",
          "height": 35
        }
      },
      "cell_type": "code",
      "source": [
        "# Functions in Python\n",
        "\n",
        "def checkAvailability(a,b):\n",
        "  if a % b == 0:\n",
        "    print(\"b is divisible by a: \")\n",
        "    \n",
        "  else:\n",
        "    print(\"b isn't divisable by a: \")\n",
        "    \n",
        "checkAvailability(9,3)"
      ],
      "execution_count": 0,
      "outputs": [
        {
          "output_type": "stream",
          "text": [
            "b is divisible by a: \n"
          ],
          "name": "stdout"
        }
      ]
    },
    {
      "metadata": {
        "id": "rv81eSuLdT8E",
        "colab_type": "code",
        "outputId": "262fc9fa-5e07-49c4-dc81-0d5c9fdb3d66",
        "colab": {
          "base_uri": "https://localhost:8080/",
          "height": 70
        }
      },
      "cell_type": "code",
      "source": [
        "# Escape sequence in python\n",
        "\n",
        "string = 'I\\'m  rajesh'\n",
        "print(string)\n",
        "\n",
        "string = \"I'm \\\"rajesh and welcome to the python\\\"\"\n",
        "print(string)\n",
        "\n",
        "string = \"I'm \\\\rajesh\\\\ and welcom to python\\\\\"\n",
        "print(string)"
      ],
      "execution_count": 0,
      "outputs": [
        {
          "output_type": "stream",
          "text": [
            "I'm  rajesh\n",
            "I'm \"rajesh and welcome to the python\"\n",
            "I'm \\rajesh\\ and welcom to python\\\n"
          ],
          "name": "stdout"
        }
      ]
    },
    {
      "metadata": {
        "id": "l7CE-MmMj65o",
        "colab_type": "code",
        "outputId": "d16a66bb-e139-466a-adca-1a4084b96014",
        "colab": {
          "base_uri": "https://localhost:8080/",
          "height": 157
        }
      },
      "cell_type": "code",
      "source": [
        "# Formating of Strings\n",
        "\n",
        "string = \"{}{}{}\".format(\"rajesh\", \"kumar\", \"karra\")\n",
        "print(string)\n",
        "\n",
        "string = \"{1}{0}{2}\".format(\"rajesh\", \"kumar\", \"karra\")\n",
        "print(string)\n",
        "\n",
        "\n",
        "string = \"{l}{k}{j}\".format(k=\"rajesh\",j= \"kumar\", l=\"karra\")\n",
        "print(string)\n",
        "\n",
        "string = \"{0:b}\".format(16)\n",
        "print(string)\n",
        "\n",
        "string = \"{0:e}\".format(255.215)\n",
        "print(string)\n",
        "\n",
        "string = \"{0:.2f}\".format(1/6)\n",
        "print(string)\n",
        "print(1/6)\n",
        "\n",
        "string = \"|{:>10} {:<10}{:^10}|\".format(\"rajesh\", \"kumar\", \"karra\")\n",
        "print(string)\n"
      ],
      "execution_count": 0,
      "outputs": [
        {
          "output_type": "stream",
          "text": [
            "rajeshkumarkarra\n",
            "kumarrajeshkarra\n",
            "karrarajeshkumar\n",
            "10000\n",
            "2.552150e+02\n",
            "0.17\n",
            "0.16666666666666666\n",
            "|    rajesh kumar       karra   |\n"
          ],
          "name": "stdout"
        }
      ]
    },
    {
      "metadata": {
        "id": "TlcRiy6illPM",
        "colab_type": "code",
        "outputId": "c2d2e34c-29e6-4b63-8042-df7e2280da57",
        "colab": {
          "base_uri": "https://localhost:8080/",
          "height": 35
        }
      },
      "cell_type": "code",
      "source": [
        "print('testing')"
      ],
      "execution_count": 0,
      "outputs": [
        {
          "output_type": "stream",
          "text": [
            "testing\n"
          ],
          "name": "stdout"
        }
      ]
    },
    {
      "metadata": {
        "id": "aqAs9Q40oWFI",
        "colab_type": "code",
        "colab": {
          "base_uri": "https://localhost:8080/",
          "height": 192
        },
        "outputId": "6b666f11-6602-45e5-97d7-2d5d8194eb67"
      },
      "cell_type": "code",
      "source": [
        "# Empty List\n",
        "List = []\n",
        "print(List)\n",
        "\n",
        "# using append\n",
        "List.append(2)\n",
        "List.append(4)\n",
        "List.append(6)\n",
        "print(List)\n",
        "\n",
        "# Using Iterator\n",
        "for i in range(1,5):\n",
        "  List.append(i)\n",
        "  print(List)\n",
        "  \n",
        "# insert tupple\n",
        "List.append((7,8))\n",
        "print(List)\n",
        "\n",
        "# adding List\n",
        "\n",
        "List2=[\"rajesh\", \"paul\"]\n",
        "List.append(List2)\n",
        "print(List)\n",
        "\n",
        "# Use insert function\n",
        "List.insert(-1, \"john\")\n",
        "print(List)\n",
        "\n",
        "# Use extend \n",
        "\n",
        "List.extend([-1, \"peter\"])\n",
        "print(List)\n",
        "  \n"
      ],
      "execution_count": 8,
      "outputs": [
        {
          "output_type": "stream",
          "text": [
            "[]\n",
            "[2, 4, 6]\n",
            "[2, 4, 6, 1]\n",
            "[2, 4, 6, 1, 2]\n",
            "[2, 4, 6, 1, 2, 3]\n",
            "[2, 4, 6, 1, 2, 3, 4]\n",
            "[2, 4, 6, 1, 2, 3, 4, (7, 8)]\n",
            "[2, 4, 6, 1, 2, 3, 4, (7, 8), ['rajesh', 'paul']]\n",
            "[2, 4, 6, 1, 2, 3, 4, (7, 8), 'john', ['rajesh', 'paul']]\n",
            "[2, 4, 6, 1, 2, 3, 4, (7, 8), 'john', ['rajesh', 'paul'], -1, 'peter']\n"
          ],
          "name": "stdout"
        }
      ]
    },
    {
      "metadata": {
        "id": "vo3WAvUslYL3",
        "colab_type": "code",
        "colab": {
          "base_uri": "https://localhost:8080/",
          "height": 210
        },
        "outputId": "addca6ec-a578-45c2-f9c8-a3a1993dc091"
      },
      "cell_type": "code",
      "source": [
        "# Removing elements from the list\n",
        "\n",
        "List = [1,2,3,4,5,6,7,8,9,10,11,12,13,14]\n",
        "\n",
        "print(\"\\nRemoving values from the list\")\n",
        "print(List)\n",
        "\n",
        "List.remove(3)\n",
        "List.remove(1)\n",
        "print(List)\n",
        "\n",
        "List.pop(2)\n",
        "print(List)\n",
        "\n",
        "sliced_list=List[3:5]\n",
        "print(sliced_list)\n",
        "sliced_list=List[-2:]\n",
        "print(sliced_list)\n",
        "sliced_list=List[:2]\n",
        "print(sliced_list)\n",
        "sliced_list=List[:]\n",
        "print(sliced_list)\n",
        "sliced_list=List =[10,20,30,40,50,60,]\n",
        "print(sliced_list)\n",
        "sliced_list=List[::-1]\n",
        "print(sliced_list)\n",
        "\n"
      ],
      "execution_count": 42,
      "outputs": [
        {
          "output_type": "stream",
          "text": [
            "\n",
            "Removing values from the list\n",
            "[1, 2, 3, 4, 5, 6, 7, 8, 9, 10, 11, 12, 13, 14]\n",
            "[2, 4, 5, 6, 7, 8, 9, 10, 11, 12, 13, 14]\n",
            "[2, 4, 6, 7, 8, 9, 10, 11, 12, 13, 14]\n",
            "[7, 8]\n",
            "[13, 14]\n",
            "[2, 4]\n",
            "[2, 4, 6, 7, 8, 9, 10, 11, 12, 13, 14]\n",
            "[10, 20, 30, 40, 50, 60]\n",
            "[60, 50, 40, 30, 20, 10]\n"
          ],
          "name": "stdout"
        }
      ]
    },
    {
      "metadata": {
        "id": "H8uvUS8hoF6H",
        "colab_type": "code",
        "colab": {
          "base_uri": "https://localhost:8080/",
          "height": 262
        },
        "outputId": "8ebd6156-e9a5-4719-b799-6c916280a6ba"
      },
      "cell_type": "code",
      "source": [
        "# Python program to demonstrate \n",
        "# Removal of elements in a List \n",
        "\n",
        "# Creating a List \n",
        "List = [1, 2, 3, 4, 5, 6, \n",
        "\t\t7, 8, 9, 10, 11, 12] \n",
        "print(\"Intial List: \") \n",
        "print(List) \n",
        "\n",
        "# Removing elements from List \n",
        "# using Remove() method \n",
        "List.remove(5) \n",
        "List.remove(6) \n",
        "print(\"\\nList after Removal of two elements: \") \n",
        "print(List) \n",
        "\n",
        "# Removing elements from List \n",
        "# using iterator method \n",
        "for i in range(1, 5): \n",
        "\tList.remove(i) \n",
        "print(\"\\nList after Removing a range of elements: \") \n",
        "print(List) \n",
        "\n",
        "# Removing element from the \n",
        "# Set using the pop() method \n",
        "List.pop() \n",
        "print(\"\\nList after popping an element: \") \n",
        "print(List) \n",
        "\n",
        "# Removing element at a \n",
        "# specific location from the \n",
        "# Set using the pop() method \n",
        "List.pop(2) \n",
        "print(\"\\nList after popping a specific element: \") \n",
        "print(List) \n"
      ],
      "execution_count": 14,
      "outputs": [
        {
          "output_type": "stream",
          "text": [
            "Intial List: \n",
            "[1, 2, 3, 4, 5, 6, 7, 8, 9, 10, 11, 12]\n",
            "\n",
            "List after Removal of two elements: \n",
            "[1, 2, 3, 4, 7, 8, 9, 10, 11, 12]\n",
            "\n",
            "List after Removing a range of elements: \n",
            "[7, 8, 9, 10, 11, 12]\n",
            "\n",
            "List after popping an element: \n",
            "[7, 8, 9, 10, 11]\n",
            "\n",
            "List after popping a specific element: \n",
            "[7, 8, 10, 11]\n"
          ],
          "name": "stdout"
        }
      ]
    },
    {
      "metadata": {
        "id": "vzqTZzRKp6uX",
        "colab_type": "code",
        "colab": {}
      },
      "cell_type": "code",
      "source": [
        ""
      ],
      "execution_count": 0,
      "outputs": []
    }
  ]
}