{
  "nbformat": 4,
  "nbformat_minor": 0,
  "metadata": {
    "colab": {
      "name": "CorePython.ipynb",
      "version": "0.3.2",
      "provenance": [],
      "collapsed_sections": [],
      "include_colab_link": true
    },
    "kernelspec": {
      "name": "python3",
      "display_name": "Python 3"
    },
    "accelerator": "GPU"
  },
  "cells": [
    {
      "cell_type": "markdown",
      "metadata": {
        "id": "view-in-github",
        "colab_type": "text"
      },
      "source": [
        "<a href=\"https://colab.research.google.com/github/rajeshkumarkarra/Learn_Python/blob/updates/CorePython.ipynb\" target=\"_parent\"><img src=\"https://colab.research.google.com/assets/colab-badge.svg\" alt=\"Open In Colab\"/></a>"
      ]
    },
    {
      "metadata": {
        "id": "uRi9qvsGOlMt",
        "colab_type": "code",
        "outputId": "05770e9a-dc4f-4083-8da7-8535f39fce13",
        "colab": {
          "base_uri": "https://localhost:8080/",
          "height": 35
        }
      },
      "cell_type": "code",
      "source": [
        "print(\"test colab\")"
      ],
      "execution_count": 0,
      "outputs": [
        {
          "output_type": "stream",
          "text": [
            "test colab\n"
          ],
          "name": "stdout"
        }
      ]
    },
    {
      "metadata": {
        "id": "DPPv1j7JkoLC",
        "colab_type": "code",
        "colab": {
          "base_uri": "https://localhost:8080/",
          "height": 35
        },
        "outputId": "4c5e8b73-1124-4785-eda7-b46e96958477"
      },
      "cell_type": "code",
      "source": [
        "# Conditions in Python\n",
        "a = 3\n",
        "b = 9\n",
        "c = b+1\n",
        "\n",
        "if c % a ==0:\n",
        "  print(\"'b' is divisible by a\")\n",
        "  \n",
        "elif c + 1 == 10:\n",
        "    print(\"Increment in b produced\")\n",
        "    \n",
        "else:\n",
        "    print(\"you are in esle statment\")\n"
      ],
      "execution_count": 5,
      "outputs": [
        {
          "output_type": "stream",
          "text": [
            "you are in esle statment\n"
          ],
          "name": "stdout"
        }
      ]
    },
    {
      "metadata": {
        "id": "COXl-EQtcZKX",
        "colab_type": "code",
        "colab": {
          "base_uri": "https://localhost:8080/",
          "height": 35
        },
        "outputId": "b73745d7-74b2-43d8-fc79-7262a1ab9d66"
      },
      "cell_type": "code",
      "source": [
        "# Functions in Python\n",
        "\n",
        "def checkAvailability(a,b):\n",
        "  if a % b == 0:\n",
        "    print(\"b is divisible by a: \")\n",
        "    \n",
        "  else:\n",
        "    print(\"b isn't divisable by a: \")\n",
        "    \n",
        "checkAvailability(9,3)"
      ],
      "execution_count": 10,
      "outputs": [
        {
          "output_type": "stream",
          "text": [
            "b is divisible by a: \n"
          ],
          "name": "stdout"
        }
      ]
    },
    {
      "metadata": {
        "id": "rv81eSuLdT8E",
        "colab_type": "code",
        "colab": {
          "base_uri": "https://localhost:8080/",
          "height": 70
        },
        "outputId": "262fc9fa-5e07-49c4-dc81-0d5c9fdb3d66"
      },
      "cell_type": "code",
      "source": [
        "# Escape sequence in python\n",
        "\n",
        "string = 'I\\'m  rajesh'\n",
        "print(string)\n",
        "\n",
        "string = \"I'm \\\"rajesh and welcome to the python\\\"\"\n",
        "print(string)\n",
        "\n",
        "string = \"I'm \\\\rajesh\\\\ and welcom to python\\\\\"\n",
        "print(string)"
      ],
      "execution_count": 20,
      "outputs": [
        {
          "output_type": "stream",
          "text": [
            "I'm  rajesh\n",
            "I'm \"rajesh and welcome to the python\"\n",
            "I'm \\rajesh\\ and welcom to python\\\n"
          ],
          "name": "stdout"
        }
      ]
    },
    {
      "metadata": {
        "id": "l7CE-MmMj65o",
        "colab_type": "code",
        "colab": {
          "base_uri": "https://localhost:8080/",
          "height": 157
        },
        "outputId": "d16a66bb-e139-466a-adca-1a4084b96014"
      },
      "cell_type": "code",
      "source": [
        "# Formating of Strings\n",
        "\n",
        "string = \"{}{}{}\".format(\"rajesh\", \"kumar\", \"karra\")\n",
        "print(string)\n",
        "\n",
        "string = \"{1}{0}{2}\".format(\"rajesh\", \"kumar\", \"karra\")\n",
        "print(string)\n",
        "\n",
        "\n",
        "string = \"{l}{k}{j}\".format(k=\"rajesh\",j= \"kumar\", l=\"karra\")\n",
        "print(string)\n",
        "\n",
        "string = \"{0:b}\".format(16)\n",
        "print(string)\n",
        "\n",
        "string = \"{0:e}\".format(255.215)\n",
        "print(string)\n",
        "\n",
        "string = \"{0:.2f}\".format(1/6)\n",
        "print(string)\n",
        "print(1/6)\n",
        "\n",
        "string = \"|{:>10} {:<10}{:^10}|\".format(\"rajesh\", \"kumar\", \"karra\")\n",
        "print(string)\n"
      ],
      "execution_count": 31,
      "outputs": [
        {
          "output_type": "stream",
          "text": [
            "rajeshkumarkarra\n",
            "kumarrajeshkarra\n",
            "karrarajeshkumar\n",
            "10000\n",
            "2.552150e+02\n",
            "0.17\n",
            "0.16666666666666666\n",
            "|    rajesh kumar       karra   |\n"
          ],
          "name": "stdout"
        }
      ]
    },
    {
      "metadata": {
        "id": "TlcRiy6illPM",
        "colab_type": "code",
        "colab": {}
      },
      "cell_type": "code",
      "source": [
        ""
      ],
      "execution_count": 0,
      "outputs": []
    }
  ]
}