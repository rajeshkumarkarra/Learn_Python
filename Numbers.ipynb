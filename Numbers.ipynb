{
  "nbformat": 4,
  "nbformat_minor": 0,
  "metadata": {
    "colab": {
      "name": "Numbers.ipynb",
      "version": "0.3.2",
      "provenance": [],
      "collapsed_sections": [],
      "include_colab_link": true
    },
    "kernelspec": {
      "name": "python3",
      "display_name": "Python 3"
    },
    "accelerator": "GPU"
  },
  "cells": [
    {
      "cell_type": "markdown",
      "metadata": {
        "id": "view-in-github",
        "colab_type": "text"
      },
      "source": [
        "<a href=\"https://colab.research.google.com/github/rajeshkumarkarra/Learn_Python/blob/updates/Numbers.ipynb\" target=\"_parent\"><img src=\"https://colab.research.google.com/assets/colab-badge.svg\" alt=\"Open In Colab\"/></a>"
      ]
    },
    {
      "metadata": {
        "id": "_lWdqk6ncQKE",
        "colab_type": "code",
        "colab": {}
      },
      "cell_type": "code",
      "source": [
        ""
      ],
      "execution_count": 0,
      "outputs": []
    },
    {
      "metadata": {
        "id": "ALD1l4btIFcG",
        "colab_type": "text"
      },
      "cell_type": "markdown",
      "source": [
        "# Few Basics:\n",
        "\n",
        "---\n",
        "\n",
        "\n",
        "\n",
        "---\n",
        "\n",
        "# Print without newline in Python 3.x"
      ]
    },
    {
      "metadata": {
        "id": "BEgTNvDbcQKO",
        "colab_type": "code",
        "colab": {
          "base_uri": "https://localhost:8080/",
          "height": 53
        },
        "outputId": "926b7994-3710-47c4-a076-f10958d58a8f"
      },
      "cell_type": "code",
      "source": [
        "print(\"rajeshkumar\", end=\"\")\n",
        "print(\"kumar\")\n",
        "\n",
        "# Array\n",
        "a = [1,2,3,4,5,6,7]\n",
        "for i in range(4):\n",
        "  print(a[i], end=\"\")"
      ],
      "execution_count": 3,
      "outputs": [
        {
          "output_type": "stream",
          "text": [
            "rajeshkumarkumar\n",
            "1234"
          ],
          "name": "stdout"
        }
      ]
    },
    {
      "metadata": {
        "id": "C54j1SrdIc7T",
        "colab_type": "code",
        "colab": {}
      },
      "cell_type": "code",
      "source": [
        ""
      ],
      "execution_count": 0,
      "outputs": []
    },
    {
      "metadata": {
        "id": "SE0Peux9JWrk",
        "colab_type": "text"
      },
      "cell_type": "markdown",
      "source": [
        "# Python | end parameter in print()\n",
        "\n",
        "---\n",
        "\n",
        "\n",
        "By default python’s print() function ends with a newline. A programmer with C/C++ background may wonder how to print without newline.\n",
        "\n",
        "Python’s print() function comes with a parameter called ‘end’. By default, the value of this parameter is ‘\\n’, i.e. the new line character. You can end a print statement with any character/string using this parameter."
      ]
    },
    {
      "metadata": {
        "id": "0hh16ZiqJdHS",
        "colab_type": "code",
        "colab": {
          "base_uri": "https://localhost:8080/",
          "height": 35
        },
        "outputId": "24290f2d-c91f-41c4-eae9-6cb45cb68ba7"
      },
      "cell_type": "code",
      "source": [
        "# This Python program must be run with \n",
        "# Python 3 as it won't work with 2.7. \n",
        "\n",
        "# ends the output with a <space> \n",
        "print(\"Welcome to\" , end = ' ') \n",
        "print(\"HelloWorld\", end = ' ') \n"
      ],
      "execution_count": 4,
      "outputs": [
        {
          "output_type": "stream",
          "text": [
            "Welcome to HelloWorld "
          ],
          "name": "stdout"
        }
      ]
    },
    {
      "metadata": {
        "id": "IW3eJhA-Jkos",
        "colab_type": "code",
        "colab": {
          "base_uri": "https://localhost:8080/",
          "height": 35
        },
        "outputId": "6fefd2ec-42a0-4d87-da42-8ac75ed6cfe3"
      },
      "cell_type": "code",
      "source": [
        "# This Python program must be run with \n",
        "# Python 3 as it won't work with 2.7. \n",
        "\n",
        "# ends the output with '@' \n",
        "print(\"Python\" , end = '@'+\" \") \n",
        "print(\"Top 1\") \n"
      ],
      "execution_count": 8,
      "outputs": [
        {
          "output_type": "stream",
          "text": [
            "Python@ Top 1\n"
          ],
          "name": "stdout"
        }
      ]
    },
    {
      "metadata": {
        "id": "e2vLBp8DJ3W5",
        "colab_type": "code",
        "colab": {}
      },
      "cell_type": "code",
      "source": [
        ""
      ],
      "execution_count": 0,
      "outputs": []
    },
    {
      "metadata": {
        "id": "LaJlT0GBKRPo",
        "colab_type": "text"
      },
      "cell_type": "markdown",
      "source": [
        "# Python | sep parameter in print()\n",
        "\n",
        "---\n",
        "\n",
        "\n",
        "The separator between the arguments to print() function in Python is space by default (softspace feature) , which can be modified and can be made to any character, integer or string as per our choice. The ‘sep’ parameter is used to achieve the same, it is found only in python 3.x or later. It is also used for formatting the output strings.\n",
        "\n",
        "**Examples:**"
      ]
    },
    {
      "metadata": {
        "id": "BFoHAUaRKVxB",
        "colab_type": "code",
        "colab": {
          "base_uri": "https://localhost:8080/",
          "height": 107
        },
        "outputId": "e5cc8e71-34a8-4ee4-87b8-71aa02da52de"
      },
      "cell_type": "code",
      "source": [
        "print('a','b','c')\n",
        "print('a','b','c', sep=\"-\")\n",
        "print('14', '05','1988')\n",
        "print('14', '05','1988',sep=\"/\")\n",
        "print('helloworld to', 'python', end=\"@\")\n"
      ],
      "execution_count": 11,
      "outputs": [
        {
          "output_type": "stream",
          "text": [
            "a b c\n",
            "a-b-c\n",
            "14 05 1988\n",
            "14/05/1988\n",
            "helloworld to python@"
          ],
          "name": "stdout"
        }
      ]
    },
    {
      "metadata": {
        "id": "H4BVGnizLK3e",
        "colab_type": "code",
        "colab": {
          "base_uri": "https://localhost:8080/",
          "height": 71
        },
        "outputId": "03fdb662-ccb2-4aad-ab57-1a7bb71ef3d9"
      },
      "cell_type": "code",
      "source": [
        "#code for disabling the softspace feature \n",
        "print('G','F','G', sep='') \n",
        "\n",
        "#for formatting a date \n",
        "print('09','12','2016', sep='-') \n",
        "\n",
        "#another example \n",
        "print('pratik','office', sep='@') \n"
      ],
      "execution_count": 12,
      "outputs": [
        {
          "output_type": "stream",
          "text": [
            "GFG\n",
            "09-12-2016\n",
            "pratik@office\n"
          ],
          "name": "stdout"
        }
      ]
    },
    {
      "metadata": {
        "id": "3YurpncZLQle",
        "colab_type": "code",
        "colab": {
          "base_uri": "https://localhost:8080/",
          "height": 53
        },
        "outputId": "5e661988-b46d-4b7b-9c41-38c1ec7ed749"
      },
      "cell_type": "code",
      "source": [
        "print('g', 'f', sep=\"-\", end=\"\")\n",
        "print('g')\n",
        "print('09','14',sep=\"/\", end='-1987n')\n"
      ],
      "execution_count": 16,
      "outputs": [
        {
          "output_type": "stream",
          "text": [
            "g-fg\n",
            "09/14-1987n"
          ],
          "name": "stdout"
        }
      ]
    },
    {
      "metadata": {
        "id": "tCTxVORnLsig",
        "colab_type": "code",
        "colab": {}
      },
      "cell_type": "code",
      "source": [
        ""
      ],
      "execution_count": 0,
      "outputs": []
    },
    {
      "metadata": {
        "id": "OsusYo7oMMMy",
        "colab_type": "text"
      },
      "cell_type": "markdown",
      "source": [
        "The sep parameter when used with end parameter it produces awesome results. Some examples by combining the sep and end parameter."
      ]
    },
    {
      "metadata": {
        "id": "Gow9QCrJMM_U",
        "colab_type": "code",
        "colab": {
          "base_uri": "https://localhost:8080/",
          "height": 53
        },
        "outputId": "fc83ad02-6438-4185-e60f-ad90e9851d89"
      },
      "cell_type": "code",
      "source": [
        "print('G','F', sep='', end='') \n",
        "print('G') \n",
        "#n provides new line after printing the year \n",
        "print('09','12', sep='-', end='-2016n') \n",
        "\n",
        "print('prtk','agarwal', sep='', end='@') \n",
        "print('Python') \n"
      ],
      "execution_count": 17,
      "outputs": [
        {
          "output_type": "stream",
          "text": [
            "GFG\n",
            "09-12-2016nprtkagarwal@Python\n"
          ],
          "name": "stdout"
        }
      ]
    },
    {
      "metadata": {
        "id": "7yJmMYuVMmIk",
        "colab_type": "code",
        "colab": {}
      },
      "cell_type": "code",
      "source": [
        ""
      ],
      "execution_count": 0,
      "outputs": []
    },
    {
      "metadata": {
        "id": "V-usyeOpNhZ2",
        "colab_type": "text"
      },
      "cell_type": "markdown",
      "source": [
        "# Python | Output Formatting\n",
        "\n",
        "---\n",
        "\n",
        "\n",
        "There are several ways to present the output of a program, data can be printed in a human-readable form, or written to a file for future use. Sometimes user often wants more control the formatting of output than simply printing space-separated values. There are several ways to format output.\n",
        "\n",
        "To use formatted string literals, begin a string with f or F before the opening quotation mark or triple quotation mark.\n",
        "The str.format() method of strings help a user to get a fancier Output\n",
        "User can do all the string handling by using string slicing and concatenation operations to create any layout that user wants. The string type has some methods that perform useful operations for padding strings to a given column width.\n",
        "\n",
        "**Formatting output using String modulo operator(%) **:\n",
        "The % operator can also be used for string formatting. It interprets the left argument much like a printf()-style format string to be applied to the right argument. In Python, there is no printf() function but the functionality of the ancient printf is contained in Python. To this purpose, the modulo operator % is overloaded by the string class to perform string formatting. Therefore, it is often called string modulo (or sometimes even called modulus) operator.\n",
        "String modulo operator ( % ) is still available in Python(3.x) and user is using it widely. But nowadays the old style of formatting is removed from the language."
      ]
    },
    {
      "metadata": {
        "id": "ylTIMPZcNm3g",
        "colab_type": "code",
        "colab": {
          "base_uri": "https://localhost:8080/",
          "height": 161
        },
        "outputId": "15736173-e870-433c-fbaa-a76f02b14336"
      },
      "cell_type": "code",
      "source": [
        "print(\"Total students= %3d\\n Boys=%2d \\n girls=%1d \\n\" %(300, 200, 100))\n",
        "print(\"Total percentile: \\n boys=%2d\\n Girls=%5.5f\\n\"%(1,05.333))"
      ],
      "execution_count": 30,
      "outputs": [
        {
          "output_type": "stream",
          "text": [
            "Total students= 300\n",
            " Boys=200 \n",
            " girls=100 \n",
            "\n",
            "Total percentile: \n",
            " boys= 1\n",
            " Girls=5.33300\n",
            "\n"
          ],
          "name": "stdout"
        }
      ]
    },
    {
      "metadata": {
        "id": "T-D926hzOA9t",
        "colab_type": "code",
        "colab": {
          "base_uri": "https://localhost:8080/",
          "height": 89
        },
        "outputId": "7f5d7875-516d-48cd-8e2f-7ecc00702b0a"
      },
      "cell_type": "code",
      "source": [
        "# Python program showing how to use \n",
        "# string modulo operator(%) to print \n",
        "# fancier output \n",
        "\n",
        "# print integer and float value \n",
        "print(\"Geeks : % 2d, Portal : % 5.2f\" %(1, 05.333)) \n",
        "\n",
        "# print integer value \n",
        "print(\"Total students : % 3d, Boys : % 2d\" %(240, 120)) \n",
        "\n",
        "# print octal value \n",
        "print(\"% 7.3o\"% (25)) \n",
        "\n",
        "# print exponential value \n",
        "print(\"% 10.3E\"% (356.08977)) \n"
      ],
      "execution_count": 31,
      "outputs": [
        {
          "output_type": "stream",
          "text": [
            "Geeks :  1, Portal :  5.33\n",
            "Total students :  240, Boys :  120\n",
            "    031\n",
            " 3.561E+02\n"
          ],
          "name": "stdout"
        }
      ]
    },
    {
      "metadata": {
        "id": "_lAfg1qlQTVE",
        "colab_type": "code",
        "colab": {}
      },
      "cell_type": "code",
      "source": [
        ""
      ],
      "execution_count": 0,
      "outputs": []
    },
    {
      "metadata": {
        "id": "QJepRd2HRKxq",
        "colab_type": "text"
      },
      "cell_type": "markdown",
      "source": [
        "Let’s take a look at the placeholders in our example.\n",
        "\n",
        "\n",
        "\n",
        "The first placeholder “%2d” is used for the first component of our tuple, i.e. the integer 1. The number will be printed with 2 characters. As 1 consists only of one digits, the output is padded with 1 leading blanks.\n",
        "The second one “%8.2f” is a format description for a float number. Like other placeholders, it is introduced with the % character. This is followed by the total number of digits the string should contain. This number includes the decimal point and all the digits, i.e. before and after the decimal point.\n",
        "Our float number 05.333 has to be formatted with 5 characters. The decimal part of the number or the precision is set to 2, i.e. the number following the “.” in our placeholder. Finally, the last character “f” of our placeholder stands for “float”.\n",
        " \n",
        "## Formatting output using format method :\n",
        "The format() method was added in Python(2.6). Format method of strings requires more manual effort. User use {} to mark where a variable will be substituted and can provide detailed formatting directives, but user also needs to provide the information to be formatted. This method lets us concatenate elements within an output through positional formatting. For Example –\n",
        "Code 1:"
      ]
    },
    {
      "metadata": {
        "id": "R6PXiwC5RLOM",
        "colab_type": "code",
        "colab": {
          "base_uri": "https://localhost:8080/",
          "height": 71
        },
        "outputId": "cef28b04-28ea-4fec-babe-94b44dbb4d4c"
      },
      "cell_type": "code",
      "source": [
        "# Example\n",
        "print(\"i love {} because I'm a {}\".format(\"Technology\", \"Techie\"))\n",
        "\n",
        "print(\"i love {0} because I'm a {1}\".format(\"Technology\", \"Techie\"))\n",
        "\n",
        "print(\"i love {1} because I'm a {0}\".format(\"Technology\", \"Techie\"))\n"
      ],
      "execution_count": 33,
      "outputs": [
        {
          "output_type": "stream",
          "text": [
            "i love Technology because I'm a Techie\n",
            "i love Technology because I'm a Techie\n",
            "i love Techie because I'm a Technology\n"
          ],
          "name": "stdout"
        }
      ]
    },
    {
      "metadata": {
        "id": "CgfZ4dIHSKXe",
        "colab_type": "code",
        "colab": {
          "base_uri": "https://localhost:8080/",
          "height": 71
        },
        "outputId": "0f8726b9-d75e-457d-8ee5-35a01ae23e08"
      },
      "cell_type": "code",
      "source": [
        "# Python program showing \n",
        "# use of format() method \n",
        "\n",
        "# using format() method \n",
        "print('I love {} for \"{}!\"'.format('Geeks', 'Geeks')) \n",
        "\n",
        "# using format() method and refering \n",
        "# a position of the object \n",
        "print('{0} and {1}'.format('Geeks', 'Portal')) \n",
        "\n",
        "print('{1} and {0}'.format('Geeks', 'Portal')) \n"
      ],
      "execution_count": 34,
      "outputs": [
        {
          "output_type": "stream",
          "text": [
            "I love Geeks for \"Geeks!\"\n",
            "Geeks and Portal\n",
            "Portal and Geeks\n"
          ],
          "name": "stdout"
        }
      ]
    },
    {
      "metadata": {
        "id": "BraMNL5DSysq",
        "colab_type": "code",
        "colab": {}
      },
      "cell_type": "code",
      "source": [
        ""
      ],
      "execution_count": 0,
      "outputs": []
    },
    {
      "metadata": {
        "id": "rEpmY6gWS6yj",
        "colab_type": "text"
      },
      "cell_type": "markdown",
      "source": [
        "The brackets and characters within them (called format fields) are replaced with the objects passed into the format() method. A number in the brackets can be used to refer to the position of the object passed into the format() method."
      ]
    },
    {
      "metadata": {
        "id": "FX7k5E8pS7Iq",
        "colab_type": "code",
        "colab": {
          "base_uri": "https://localhost:8080/",
          "height": 87
        },
        "outputId": "208297f7-954d-4a8f-c34f-71b9e973f1d5"
      },
      "cell_type": "code",
      "source": [
        "# Code 2\n",
        "# Python program showing \n",
        "# a use of format() method \n",
        "\n",
        "# combining positional and keyword arguments \n",
        "print('Number one portal is {0}, {1}, and {other}.'\n",
        "\t.format('Geeks', 'For', other ='Geeks')) \n",
        "\n",
        "# using format() method with number \n",
        "print(\"Geeks :{0:2d}, Portal :{1:8.2f}\". \n",
        "\tformat(12, 00.546)) \n",
        "\n",
        "# Changing positional argument \n",
        "print(\"Second argument: {1:3d}, first one: {0:7.2f}\". \n",
        "\tformat(47.42, 11)) \n",
        "\n",
        "print(\"Geeks: {a:5d}, Portal: {p:8.2f}\". \n",
        "\tformat(a = 453, p = 59.058)) \n"
      ],
      "execution_count": 35,
      "outputs": [
        {
          "output_type": "stream",
          "text": [
            "Number one portal is Geeks, For, and Geeks.\n",
            "Geeks :12, Portal :    0.55\n",
            "Second argument:  11, first one:   47.42\n",
            "Geeks:   453, Portal:    59.06\n"
          ],
          "name": "stdout"
        }
      ]
    },
    {
      "metadata": {
        "id": "J-bFtlA8TJ0L",
        "colab_type": "code",
        "colab": {
          "base_uri": "https://localhost:8080/",
          "height": 52
        },
        "outputId": "4d355875-e55d-41b3-dcb7-12d2bcef5538"
      },
      "cell_type": "code",
      "source": [
        "# Code3\n",
        "# Python program to \n",
        "# show format () is \n",
        "# used in dictionary \n",
        "\n",
        "tab = {'geeks': 4127, 'for': 4098, 'geek': 8637678} \n",
        "\n",
        "# using format() in dictionary \n",
        "print('Geeks: {0[geeks]:d}; For: {0[for]:d}; '\n",
        "\t'Geeks: {0[geek]:d}'.format(tab)) \n",
        "\n",
        "data = dict(fun =\"GeeksForGeeks\", adj =\"Portal\") \n",
        "\n",
        "# using format() in dictionary \n",
        "print(\"I love {fun} computer {adj}\".format(**data)) \n"
      ],
      "execution_count": 36,
      "outputs": [
        {
          "output_type": "stream",
          "text": [
            "Geeks: 4127; For: 4098; Geeks: 8637678\n",
            "I love GeeksForGeeks computer Portal\n"
          ],
          "name": "stdout"
        }
      ]
    },
    {
      "metadata": {
        "id": "zC623TzKUk1g",
        "colab_type": "code",
        "colab": {}
      },
      "cell_type": "code",
      "source": [
        ""
      ],
      "execution_count": 0,
      "outputs": []
    },
    {
      "metadata": {
        "id": "nrsu9h3DUzuh",
        "colab_type": "text"
      },
      "cell_type": "markdown",
      "source": [
        "# Formatting output using String method :\n",
        "In this output is formatted by using string slicing and concatenation operations. The string type has some methods that help in formatting a output in an fancier way. Some of method which help in formatting a output are:\n",
        "\n",
        "## str.ljust(), str.rjust(), str.centre()"
      ]
    },
    {
      "metadata": {
        "id": "dSzwr3dJU-SH",
        "colab_type": "code",
        "colab": {
          "base_uri": "https://localhost:8080/",
          "height": 70
        },
        "outputId": "84340e8a-717d-4b12-e86a-540bf8f2f599"
      },
      "cell_type": "code",
      "source": [
        "# Example\n",
        "heading = \"Hello World\"\n",
        "print(heading.center(40, '#'))\n",
        "\n",
        "subheading = \"welcome\"\n",
        "print(subheading.ljust(40, '-'))\n",
        "\n",
        "subsub = \"rajesh\"\n",
        "print(subsub.rjust(40, '-'))"
      ],
      "execution_count": 37,
      "outputs": [
        {
          "output_type": "stream",
          "text": [
            "##############Hello World###############\n",
            "welcome---------------------------------\n",
            "----------------------------------rajesh\n"
          ],
          "name": "stdout"
        }
      ]
    },
    {
      "metadata": {
        "id": "JSWurQpoVxZh",
        "colab_type": "code",
        "colab": {
          "base_uri": "https://localhost:8080/",
          "height": 122
        },
        "outputId": "2c9e7562-6f12-4986-ab2a-e97cbe841549"
      },
      "cell_type": "code",
      "source": [
        "# Python program to \n",
        "# format a output using \n",
        "# string() method \n",
        "\n",
        "cstr = \"I love geeksforgeeks\"\n",
        "\t\n",
        "# Printing the center aligned \n",
        "# string with fillchr \n",
        "print (\"Center aligned string with fillchr: \") \n",
        "print (cstr.center(40, '#')) \n",
        "\n",
        "# Printing the left aligned \n",
        "# string with \"-\" padding \n",
        "print (\"The left aligned string is : \") \n",
        "print (cstr.ljust(40, '-')) \n",
        "\n",
        "# Printing the right aligned string \n",
        "# with \"-\" padding \n",
        "print (\"The right aligned string is : \") \n",
        "print (cstr.rjust(40, '-')) \n"
      ],
      "execution_count": 39,
      "outputs": [
        {
          "output_type": "stream",
          "text": [
            "Center aligned string with fillchr: \n",
            "##########I love geeksforgeeks##########\n",
            "The left aligned string is : \n",
            "I love geeksforgeeks--------------------\n",
            "The right aligned string is : \n",
            "--------------------I love geeksforgeeks\n"
          ],
          "name": "stdout"
        }
      ]
    },
    {
      "metadata": {
        "id": "FZP4nsiJV0TJ",
        "colab_type": "code",
        "colab": {}
      },
      "cell_type": "code",
      "source": [
        ""
      ],
      "execution_count": 0,
      "outputs": []
    }
  ]
}